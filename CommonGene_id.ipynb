{
 "cells": [
  {
   "cell_type": "code",
   "execution_count": 1,
   "id": "0d671fbd-7e0a-41b4-85eb-0bd53b7b546a",
   "metadata": {},
   "outputs": [],
   "source": [
    "import pandas as pd"
   ]
  },
  {
   "cell_type": "code",
   "execution_count": 10,
   "id": "82060276-4416-4453-a88b-7f704005d31e",
   "metadata": {},
   "outputs": [
    {
     "name": "stdout",
     "output_type": "stream",
     "text": [
      "Common gene identifiers between DEG list and gene set:\n",
      "{'MXRA5', 'MYLK', 'FSTL3', 'FSTL1', 'TAGLN', 'ITGB3', 'RHOB', 'IL32', 'PMEPA1', 'CTHRC1', 'COL1A1', 'WIPF1', 'TPM1', 'CCN2', 'COL5A1', 'SAT1', 'COL7A1', 'FBN1', 'MMP2', 'FN1', 'IGFBP4', 'CDH2', 'SGCD', 'GADD45B', 'VCAN', 'ANPEP', 'IGFBP3', 'TNFAIP3', 'CRLF1', 'SERPINE2', 'TIMP3', 'CXCL8', 'CADM1', 'PTHLH', 'VEGFC', 'CDH6', 'SDC1', 'DKK1', 'COL5A2', 'SLIT3', 'MYL9', 'LAMC2', 'SFRP1', 'THBS1', 'SERPINE1', 'LOXL2', 'CALD1', 'CXCL1', 'VEGFA', 'THY1', 'GLIPR1', 'PLOD2', 'ID2', 'INHBA', 'COL6A2', 'GJA1', 'COL11A1', 'MMP14', 'GADD45A', 'SPOCK1', 'TGM2', 'COL4A2', 'PDLIM4', 'HTRA1', 'TGFBI', 'ITGA5', 'CCN1', 'PLAUR', 'LOX', 'ITGA2', 'PTX3'}\n"
     ]
    }
   ],
   "source": [
    "gene_set_path = '/storage/users/sac43cg/res_Samantha_1/outs/GMT.files/HALLMARK_EPITHELIAL_MESENCHYMAL_TRANSITION.v2023.1.Hs.gmt'  # Replace with the actual path\n",
    "with open(gene_set_path, 'r') as gene_set_file:\n",
    "    gene_set_genes = set(gene_set_file.read().strip().split('\\t')[2:])\n",
    "    \n",
    "deg_list_path = '/storage/users/sac43cg/res_Samantha_1/outs/DEGs/CTRL_1_vs_CTRL_2D/filtered_DEGs_with_names.csv'\n",
    "deg_df = pd.read_csv(deg_list_path)\n",
    "# Extract gene identifiers from the DEG list\n",
    "deg_gene_identifiers = set(deg_df['gene_name'])\n",
    "\n",
    "# Identify common gene identifiers in both DEG list and gene set\n",
    "common_identifiers = gene_set_genes & deg_gene_identifiers\n",
    "\n",
    "# Print the common gene identifiers\n",
    "if common_identifiers:\n",
    "    print(\"Common gene identifiers between DEG list and gene set:\")\n",
    "    print(common_identifiers)\n",
    "else:\n",
    "    print(\"No common gene identifiers between DEG list and gene set.\")\n"
   ]
  },
  {
   "cell_type": "code",
   "execution_count": null,
   "id": "402f5c1e-c679-48c2-9fa7-bb9cc00459a3",
   "metadata": {},
   "outputs": [],
   "source": [
    "gene_set_path = '/storage/users/sac43cg/res_Samantha_1/outs/GMT.files/HALLMARK_EPITHELIAL_MESENCHYMAL_TRANSITION.v2023.1.Hs.gmt'  # Replace with the actual path\n",
    "with open(gene_set_path, 'r') as gene_set_file:\n",
    "    gene_set_genes = set(gene_set_file.read().strip().split('\\t')[2:])\n",
    "\n",
    "deg_list_path = '/storage/users/sac43cg/res_Samantha_1/outs/DEGs/CTRL_1_vs_CTRL_2D/filtered_DEGs_with_names.csv'\n",
    "deg_df = pd.read_csv(deg_list_path)\n",
    "\n",
    "# Extract gene identifiers from the DEG list\n",
    "deg_gene_identifiers = set(deg_df['gene_name'])\n",
    "\n",
    "mismatches = deg_gene_identifiers - gene_set_genes\n",
    "\n",
    "if mismatches:\n",
    "    print(\"Mismatched gene identifiers:\")\n",
    "    print(mismatches)\n",
    "else:\n",
    "    print(\"All gene identifiers in DEG list are in the gene set.\")"
   ]
  },
  {
   "cell_type": "code",
   "execution_count": 4,
   "id": "34fa85f7-5baa-4335-8c7b-63062485633e",
   "metadata": {},
   "outputs": [],
   "source": [
    "gene_set_path = '/storage/users/sac43cg/res_Samantha_1/outs/GMT.files/HALLMARK_EPITHELIAL_MESENCHYMAL_TRANSITION.v2023.1.Hs.gmt'  # Replace with the actual path\n",
    "with open(gene_set_path, 'r') as gene_set_file:\n",
    "    gene_set_genes = set(gene_set_file.read().strip().split('\\t')[2:])"
   ]
  },
  {
   "cell_type": "code",
   "execution_count": 5,
   "id": "50b43205-a20a-44d0-b279-cae2e0708735",
   "metadata": {},
   "outputs": [],
   "source": [
    "deg_list_path = '/storage/users/sac43cg/res_Samantha_1/outs/DEGs/CTRL_1_vs_CTRL_2D/filtered_DEGs_with_names.csv'\n",
    "deg_df = pd.read_csv(deg_list_path)\n",
    "\n",
    "# Extract gene identifiers from the DEG list\n",
    "deg_gene_identifiers = set(deg_df['gene_name'])"
   ]
  },
  {
   "cell_type": "code",
   "execution_count": 6,
   "id": "93551dd9-10f7-4b0c-bc71-cb1c294cc846",
   "metadata": {},
   "outputs": [
    {
     "name": "stdout",
     "output_type": "stream",
     "text": [
      "Mismatched gene identifiers:\n",
      "{'TMEM233', 'CCNA2', 'MMP16', 'DCBLD2', 'GUCY1A2', 'UAP1', 'ANLN', 'PYDC2-AS1', 'JUNB', 'PLEK2', 'TSGA10IP', 'TMEM45A', 'SGO2', 'CALY', 'MAP7', 'FHL1', 'FOXP1', 'DBF4', 'CA9', 'DUSP5', 'FNDC3B', 'ALKAL2', 'LSAMP', 'EEPD1', 'HMGA2', 'TSC22D1', 'HSPG2', 'RRM2', 'FTX', 'KLHL29', 'CACNA1D', 'LINC00842', 'UPK1A', 'ELMOD1', 'DCBLD1', 'CDCP1', 'ECT2', 'KIF2C', 'LAYN', 'TIPARP', 'KRT8', 'PPM1E', 'ITGB8', 'LMCD1-AS1', 'GPR39', 'CENPK', 'GALNT18', 'NKAIN2', 'BTG1', 'CDK14', 'UNC5B', 'AK4', 'CARMIL1', 'EFNA1', 'TBC1D8', 'PTGES', 'ARHGEF10L', 'MLPH', 'SKIL', 'MAML2', 'SLFN5', 'SGO1', 'ZFPM2', 'JARID2', 'TK1', 'PARD6B', 'PTPRG', 'AMPD3', 'LINC02934', 'C1QTNF7-AS1', 'AFAP1', 'GAS2L3', 'GLIS1', 'PDE5A', 'CAMK2N1', 'IQCJ-SCHIP1', 'ALK', 'CFD', 'COTL1', 'CLU', 'TCF4', 'RIMS2', 'HMGA2-AS1', 'ANTXR2', 'L1CAM', 'SDC2', 'EEIG1', 'PPP1R9A', 'OSBPL3', 'NEK2', 'LRFN5', 'DCLK2', 'RAD51B', 'KIAA1328', 'ABTB2', 'NOS1AP', 'WWOX', 'NF2', 'STC1', 'LINC01239', 'ARHGAP26', 'MICAL2', 'LINC01775', 'STMN1', 'PADI2', 'GDF15', 'UBASH3B', 'NEK10', 'POM121L2', 'CRY1', 'FBLN7', 'NTN4', 'HIVEP2', 'LUCAT1', 'NFKBIZ', 'LINC02649', 'MYPN', 'IFIT3', 'OSBPL10', 'NAV3', 'OSCAR', 'NUPR1', 'DIXDC1', 'SLC30A4-AS1', 'KIFC1', 'HYCC1', 'DANT2', 'CIT', 'IGFBP7', 'AURKA', 'P4HA1', 'ITGA1', 'UPP1', 'CITED4', 'APCDD1L', 'RAPGEF5', 'ATAD2', 'CACNA2D1', 'FBXO27', 'ID3', 'CDKN1A', 'MMS22L', 'ARG2', 'MAP2K6', 'BNIP3', 'IMMP2L', 'PTTG1', 'FAM110B', 'OLFM2', 'CKB', 'NRG1', 'KDM7A', 'PODXL', 'MIR222HG', 'TMEM158', 'APBB2', 'STIL', 'CARD18', 'SRPX', 'HK2', 'CACNG8', 'SPC25', 'CTPS1', 'ULK1', 'KSR1', 'SRGAP1', 'SUGCT', 'DUSP6', 'SLC5A3', 'FLJ16779', 'MGST1', 'RIPOR3', 'DUSP1', 'ABCG2', 'CLMP', 'MELK', 'RPS6KA5', 'CDCA5', 'PCLO', 'PRDM1', 'FRMD6', 'CADM2', 'IQGAP2', 'RBMS3', 'SLFNL1-AS1', 'KLF12', 'RACGAP1', 'PPP1R1B', 'PTPRE', 'ARHGAP11A', 'C1QTNF12', 'EMP1', 'NR2F2-AS1', 'ITGBL1', 'NABP1', 'LTBP1', 'PPARG', 'FAM20C', 'APCDD1L-DT', 'HDAC8', 'LBH', 'DDIT3', 'TUBA1B', 'ANKS1B', 'HMGCS1', 'ANKRD1', 'SGCA', 'NTN1', 'SLC2A3', 'CAMK1D', 'MACROD2', 'ATP10A', 'CD24', 'EHBP1', 'PPP2R3A', 'LINC01876', 'DEPDC1B', 'LRP1B', 'DSP', 'KDM6B', 'MAST4', 'SLC2A1', 'PRIM2', 'ANK2', 'PRKD1', 'MAMLD1', 'VGLL3', 'ZBTB20', 'FGF13', 'GFPT2', 'COL6A1', 'TRNP1', 'ARHGAP29', 'MT1M', 'DENND2A', 'RASAL2', 'FMN1', 'MT1X', 'BHLHE40', 'CSGALNACT1', 'STARD13', 'GPC6', 'ATRNL1', 'CDA', 'TANC2', 'GOT1', 'LHFPL6', 'TACC3', 'BCAT1', 'TFRC', 'RUNX1', 'KIF26B', 'NXN', 'NFKBIA', 'BCL11B', 'PPL', 'CD55', 'TGFBR1', 'FAR2', 'HMGB2', 'NCKAP5', 'ARL15', 'IGFBP6', 'TUBA1A', 'DENND2B', 'FOSB', 'RASGEF1C', 'TGFA', 'NDRG1', 'FAM13A', 'RND3', 'ZFP36', 'SMOX', 'IER3', 'FAM43A', 'H2BC5', 'TNFSF9', 'SEMA3C', 'HJURP', 'PALLD', 'NALF1', 'GMDS-DT', 'ARHGAP18', 'DIAPH3', 'FGF1', 'TRIB1', 'TUBB4B', 'HMMR', 'KPNA2', 'P2RY6', 'DSEL', 'TAPT1-AS1', 'MIR210HG', 'JAZF1', 'TMEM255B', 'ARHGAP42', 'DOCK5', 'MME', 'H2AC25', 'ADAM19', 'SELENOP', 'DEPDC1', 'ID1', 'WNT11', 'DLG2', 'PSG11-AS1', 'L3MBTL4', 'KIAA1549L', 'PRKAG2', 'MT2A', 'ATP13A2', 'CEP128', 'LMNB1', 'KIF23', 'KCNK15', 'DDIT4', 'GPR157', 'MIR4713HG', 'RBP7', 'TYMS', 'FRMD5', 'NOG', 'FAM89B', 'HERC4', 'PLEKHG4B', 'MANCR', 'MAGI2', 'NKAIN4', 'PLA2R1', 'TNFAIP2', 'DTL', 'DNAAF3-AS1', 'KIF11', 'ADAMTS2', 'NHSL1-AS1', 'CDK17', 'PPM1L', 'LAMB3', 'CP', 'TIAM1', 'SMAD7', 'TNS3', 'CPNE4', 'ZWINT', 'CYP27C1', 'PRTN3', 'CEP55', 'PPARD', 'CCL2', 'EPHB6', 'FXYD6', 'GPRC5B', 'FRMD3', 'ADAMTSL4-AS1', 'LINC02057', 'ZNF185', 'SSBP2', 'RRAD', 'H1-5', 'HES1', 'EGR2', 'SDK1', 'CLDN1', 'GCLC', 'KISS1R', 'SMURF1', 'BCL2A1', 'PDGFB', 'ZSWIM5', 'SPRY1', 'TMPO', 'CDKN3', 'ABCA1', 'P4HA2', 'EGR1', 'CCM2L', 'SLC44A1', 'FBXO5', 'SNED1', 'CD82', 'MALAT1', 'PHLDA2', 'CDC25B', 'UBE2T', 'TOP2A', 'SLC7A11', 'PDGFA', 'CPED1', 'ARHGEF18', 'MBNL2', 'SMIM1', 'NRG2', 'PTPRU', 'ARHGAP32', 'CYGB', 'CERK', 'MAF', 'KCNQ5', 'MRTFA', 'LMNTD2-AS1', 'CD70', 'NUSAP1', 'BHLHE40-AS1', 'STK33', 'CYB5D2', 'HDAC9', 'FHOD3', 'IL11', 'DLGAP5', 'LDLRAD4', 'CLIP2', 'EDN1', 'BUB1B', 'ANKRD37', 'MXRA8', 'RNASET2', 'MBOAT2', 'THSD7A', 'TNFSF10', 'SORBS1', 'CAMKMT', 'ROR1', 'ENKUR', 'NFATC2', 'SGK1', 'GPRC5A', 'FAM107B', 'MMP28', 'EPB41', 'C15orf48', 'TNIK', 'MCTP1', 'CPE', 'DMGDH', 'SPHK1', 'NRP2', 'SERPINB9', 'SEMA5A', 'ITPKB', 'S100A4', 'ITPR1', 'ARRDC3', 'DEPP1', 'KNSTRN', 'TGFB2', 'WNT5B', 'HAPLN3', 'RAMP1', 'CBLB', 'TIAM2', 'C3orf52', 'MSC-AS1', 'NIBAN1', 'PRKCA', 'CREB3L1', 'SLFNL1', 'CENPE', 'HRH1', 'LGALS3', 'LINC02882', 'SPRY4-AS1', 'PTPRN2', 'PSD3', 'TMTC2', 'PDE4C', 'GAS5', 'PVT1', 'CCDC80', 'APOLD1', 'MED12L', 'RASL11A', 'COL13A1', 'SLN', 'GABBR1', 'EPB41L4A-AS1', 'NEDD9', 'BPGM', 'MAGEA3-DT', 'GTSE1', 'ANXA1', 'E2F7', 'KIF20B', 'CDK6', 'ABTB3', 'NPR3', 'PTPRK', 'NALCN', 'CYP1B1', 'PCDH9', 'RTKN2', 'KCTD16', 'MIR181A1HG', 'SLC19A2', 'PRR5L', 'SLITRK6', 'HEY1', 'MYO1D', 'SOX2-OT', 'AUTS2', 'ATP1B1', 'IFITM2', 'TMEM92', 'LINC01619', 'ATF3', 'HILPDA', 'C4orf47', 'GALNT10', 'SESN2', 'PLK1', 'SHANK2', 'CUX2', 'TTC28', 'CRACD', 'CITED2', 'MAPK10', 'NEAT1', 'LINC02725', 'PCDH7', 'MROH8', 'CDK1', 'AURKB', 'ABLIM3', 'FOSL1', 'TCP11L2', 'GRIN2A', 'NHSL1', 'MCM3', 'PALMD', 'PDE10A', 'BMP5', 'AMOTL2', 'CLEC2B', 'MTSS1', 'NKAIN3', 'RHPN2', 'TUBA4A', 'HECW2', 'ADGRG6', 'NPTX1', 'ERN1', 'ICAM1', 'FLRT2', 'ADA', 'PRC1', 'BIRC3', 'LGR4', 'FHIT', 'SGIP1', 'FOXQ1', 'LAMA4', 'LINC00862', 'PFKFB4', 'SNX21', 'GIPR', 'VASN', 'PALD1', 'CDC6', 'SOBP', 'ZNF467', 'LIMA1', 'GNAL', 'RUNX2', 'EFR3B', 'LHX1', 'MARCHF4', 'SRGN', 'MATN1', 'GAB1', 'TBX3', 'RORA', 'GPR183', 'NEGR1', 'DLEU2', 'H19', 'BACH1', 'POLQ', 'MEF2C', 'CDC42EP3', 'SH3RF2', 'DEPTOR', 'ATG7', 'NR2F1', 'H1-3', 'CCNB1', 'MAP3K14', 'CDCA8', 'BEX2', 'ST6GAL1', 'LIPG', 'GREB1L', 'OPHN1', 'LINC02432', 'CYB5B', 'ALDOC', 'RPS6KA2', 'PTGS2', 'PPP1R14A', 'MT1E', 'CA8', 'GRIK2', 'TLN2', 'DNMT1', 'HLA-F-AS1', 'MAML3', 'DHFR', 'GCLC-AS1', 'ITGA10', 'PDGFC', 'PLAU', 'FERMT1', 'NPB', 'NDC80', 'ZNF608', 'CKS2', 'ARHGAP24', 'H2AC12', 'STOX2', 'INHBB', 'CLDN4', 'LCIIAR', 'P4HA3', 'AKT3', 'KCNK3', 'SHROOM4', 'TRBC2', 'MFGE8', 'CENPI', 'SEMA3A', 'H1-0', 'SORBS2', 'PKD1L1', 'SEMA7A', 'SIPA1L2', 'NOTUM', 'G0S2', 'PKIA', 'SMURF2', 'CDC20', 'KLF2', 'C5orf46', 'FOXS1', 'C10orf90', 'STC2', 'KLF7', 'CLSPN', 'ADARB2', 'RAPGEF2', 'FBXL2', 'CLTCL1', 'HMGN2', 'ASPM', 'PALM2AKAP2', 'BACH2', 'RASA2', 'SAMD4A', 'KCNQ1OT1', 'ZSWIM6', 'CEMIP2', 'NECTIN3', 'NOCT', 'SOX4', 'UPK1A-AS1', 'LXN', 'FGD4', 'GAL', 'PRSS3', 'SPDYA', 'SAMD12', 'BUB1', 'CHST11', 'EXT1', 'MIR193BHG', 'LINC01116', 'SGO1-AS1', 'PCSK1N', 'ZFPM2-AS1', 'TNFRSF10B', 'EOLA2-DT', 'NOTCH3', 'SNHG12', 'ANTXR1', 'CENPA', 'P3H2', 'PLEKHG1', 'PCLAF', 'CLIC3', 'SIPA1L1', 'ALCAM', 'CACHD1', 'ABLIM1', 'CENPP', 'UBE2S', 'DDAH1', 'OTULINL', 'ERRFI1-DT', 'ARHGAP22', 'DGKI', 'HSPA2', 'SH3PXD2A', 'EPHB1', 'SLC20A1', 'GRB10', 'ABL2', 'NRP1', 'CAPRIN2', 'CENPW', 'CENPF', 'CAV1', 'RHBDL3', 'ARL6IP1', 'ASIC2', 'PACRG', 'TPST1', 'RRM1', 'PEG10', 'CEBPD', 'H4C3', 'MT1A', 'KIF18B', 'NAALADL2', 'IVNS1ABP', 'H2AC20', 'MIR924HG', 'G6PD', 'SERPINA3', 'PCED1B', 'PYGL', 'KRT7', 'H1-2', 'ELL2', 'ERO1A', 'OSBP2', 'RRP12', 'ADIRF', 'MIR31HG', 'STARD10', 'HBEGF', 'ACAP1', 'MLLT3', 'SH3RF3', 'SLC38A4-AS1', 'TNS1', 'AGR2', 'PIM1', 'NEBL', 'ZC3H3', 'APOE', 'EPIC1', 'SIRPA', 'JAG1', 'FIGN', 'LINC02739', 'NUF2', 'KCTD11', 'LMO7', 'RNF19B', 'ANKRD33B', 'KRT19', 'PRR11', 'FYN', 'NAV2', 'TMEM59L', 'GJB2', 'TRHDE', 'ZNF385D', 'LINC01583', 'STK17B', 'PKIB', 'LINC01572', 'LAMB1', 'ROR2', 'SLC8A1', 'PDE3B', 'SMC4', 'UNC5C', 'CXCL2', 'TRIB3', 'KNL1', 'HELLS', 'NCEH1', 'HMGB3', 'PPP1R14C', 'CREB5', 'EPHB2', 'DYNC1I1', 'MYO10', 'PITPNC1', 'CA12', 'ARHGEF28', 'PTPRJ', 'BMP6', 'ADAMTS16', 'LRRC75A', 'PRKCG', 'MAD2L1', 'ITGB1-DT', 'H3C2', 'PRSS23', 'ADAMTS9', 'TPX2', 'RGL1', 'SNAI1', 'CCN5', 'S100A16', 'H1-4', 'MAP2', 'KRT18', 'TTC9B', 'PBK', 'PSORS1C1', 'ZDHHC14', 'ALDH1A3', 'H2AX', 'SYT9', 'ADAMTS6', 'PLPP4', 'NAV1', 'PTPRM', 'CNTNAP3B', 'CHRM3', 'TMEM117', 'GPHN', 'H2AZ1', 'PHACTR2', 'FOXO1', 'SFN', 'PIWIL4', 'BIRC7', 'SLC41A2', 'MIR100HG', 'PLD1', 'PLIN2', 'GALNT12', 'KIF4A', 'UBALD2', 'WNT9A', 'IFITM10', 'ZFP36L1', 'MYBL2', 'ARMC7', 'KLHL24', 'RYBP', 'NFAT5', 'MRC2', 'DPF3', 'COL27A1', 'CRABP2', 'RETREG1-AS1', 'PLEKHH2', 'RAP1GAP2', 'EFNA5', 'GPAT3', 'IPO9-AS1', 'HIF1A-AS3', 'ABCC3', 'HIVEP3', 'LRRC8C', 'THSD4', 'LINC00472', 'RAB27B', 'PARD6G-AS1', 'SLCO3A1', 'SERINC2', 'LINC01629', 'NBEA', 'EGLN3', 'CSF1', 'BIRC5', 'FAM83D', 'IFIT1', 'XYLT1', 'LMCD1', 'CHAC1', 'ADAMTS15', 'LINC01473', 'HTRA3', 'MKI67', 'GDA', 'MARCKS', 'JPT1', 'NGF', 'SCD', 'F3', 'AP1S3', 'NOL3', 'MXI1', 'PHLPP1', 'PFKFB3', 'HMOX1', 'TTK', 'CASC15', 'DMKN', 'DPYD', 'INPP4B', 'PLCB4', 'S100A2', 'CD83', 'PDE4D', 'KIF14', 'IL1RAP', 'GLIS3', 'IL1RAPL1', 'HAS2', 'NIHCOLE', 'LINC00511', 'COL22A1', 'TMSB15A', 'SNHG22', 'GNG4', 'MZF1-AS1', 'RHBDL2', 'UBE2C', 'IRF1', 'SCNN1B', 'AMIGO2', 'NMB', 'MIS18BP1', 'MYBL1', 'ETV6', 'WDR76', 'MEG3', 'THBD', 'CCNE2', 'GLI2', 'LNCSRLR', 'ZNF804A', 'LRMDA', 'UGDH', 'INVS', 'TLE4', 'SLC35F3', 'KAZN', 'BTBD9', 'NOP56', 'NPAS2', 'INSR', 'TXNIP', 'SPDL1', 'PGM2L1', 'BRIP1', 'FOS', 'MELTF', 'RAB3B', 'SNCA', 'TLCD2', 'PCAT1', 'MCM10', 'COL15A1', 'H2BC21', 'SNHG1', 'TSC22D3', 'SYT1', 'ITGA11', 'CDKN1C', 'NR4A1', 'PHF19', 'EPHA7', 'KIF18A', 'CAMTA2', 'DLG1', 'RAI14', 'FAM111B', 'PLK2', 'NKX6-2', 'STK32B', 'DNER', 'THRB', 'BCAR3', 'DLC1', 'SFMBT2', 'CCNB2', 'RBFOX1', 'HNRNPAB', 'PRKN', 'MEG8', 'CKAP2', 'H2AC6', 'SPNS2', 'CDC25C', 'MCM4', 'TRIM9', 'KLHL4', 'SORCS2', 'RBAKDN', 'EML2-AS1', 'FURIN', 'KCNMA1', 'SQLE', 'AFF3', 'LTBP3', 'FAM117B', 'PDK1', 'GCNT2', 'ARID5B', 'EPAS1', 'LPCAT2', 'IGF2', 'DISC1FP1', 'ADGRB1', 'DNMBP', 'MFAP2', 'WNT2B', 'SYNE1', 'PRKG1', 'CAMKK1', 'KLHL13', 'FRMD4A', 'FANCI', 'LTBP2', 'ANGPTL4', 'GBE1', 'DOCK4'}\n"
     ]
    }
   ],
   "source": [
    "mismatches = deg_gene_identifiers - gene_set_genes\n",
    "\n",
    "if mismatches:\n",
    "    print(\"Mismatched gene identifiers:\")\n",
    "    print(mismatches)\n",
    "else:\n",
    "    print(\"All gene identifiers in DEG list are in the gene set.\")"
   ]
  },
  {
   "cell_type": "code",
   "execution_count": 8,
   "id": "6eba4148-d03f-48fe-a41e-25705724da19",
   "metadata": {},
   "outputs": [
    {
     "ename": "NameError",
     "evalue": "name 'gene_set_identifiers' is not defined",
     "output_type": "error",
     "traceback": [
      "\u001b[0;31m---------------------------------------------------------------------------\u001b[0m",
      "\u001b[0;31mNameError\u001b[0m                                 Traceback (most recent call last)",
      "Cell \u001b[0;32mIn[8], line 2\u001b[0m\n\u001b[1;32m      1\u001b[0m \u001b[38;5;66;03m# Identify common gene identifiers in both DEG list and gene set\u001b[39;00m\n\u001b[0;32m----> 2\u001b[0m common_identifiers \u001b[38;5;241m=\u001b[39m gene_set_identifiers \u001b[38;5;241m&\u001b[39m deg_gene_identifiers\n\u001b[1;32m      4\u001b[0m \u001b[38;5;66;03m# Print the common gene identifiers\u001b[39;00m\n\u001b[1;32m      5\u001b[0m \u001b[38;5;28;01mif\u001b[39;00m common_identifiers:\n",
      "\u001b[0;31mNameError\u001b[0m: name 'gene_set_identifiers' is not defined"
     ]
    }
   ],
   "source": [
    "# Identify common gene identifiers in both DEG list and gene set\n",
    "common_identifiers = gene_set_identifiers & deg_gene_identifiers\n",
    "\n",
    "# Print the common gene identifiers\n",
    "if common_identifiers:\n",
    "    print(\"Common gene identifiers between DEG list and gene set:\")\n",
    "    print(common_identifiers)\n",
    "else:\n",
    "    print(\"No common gene identifiers between DEG list and gene set.\")\n"
   ]
  },
  {
   "cell_type": "code",
   "execution_count": 9,
   "id": "90149050-e1f9-44f1-8059-2ae7e66603c1",
   "metadata": {},
   "outputs": [
    {
     "name": "stdout",
     "output_type": "stream",
     "text": [
      "Common gene identifiers between DEG list and gene set:\n",
      "{'MXRA5', 'MYLK', 'FSTL3', 'FSTL1', 'TAGLN', 'ITGB3', 'RHOB', 'IL32', 'PMEPA1', 'CTHRC1', 'COL1A1', 'WIPF1', 'TPM1', 'CCN2', 'COL5A1', 'SAT1', 'COL7A1', 'FBN1', 'MMP2', 'FN1', 'IGFBP4', 'CDH2', 'SGCD', 'GADD45B', 'VCAN', 'ANPEP', 'IGFBP3', 'TNFAIP3', 'CRLF1', 'SERPINE2', 'TIMP3', 'CXCL8', 'CADM1', 'PTHLH', 'VEGFC', 'CDH6', 'SDC1', 'DKK1', 'COL5A2', 'SLIT3', 'MYL9', 'LAMC2', 'SFRP1', 'THBS1', 'SERPINE1', 'LOXL2', 'CALD1', 'CXCL1', 'VEGFA', 'THY1', 'GLIPR1', 'PLOD2', 'ID2', 'INHBA', 'COL6A2', 'GJA1', 'COL11A1', 'MMP14', 'GADD45A', 'SPOCK1', 'TGM2', 'COL4A2', 'PDLIM4', 'HTRA1', 'TGFBI', 'ITGA5', 'CCN1', 'PLAUR', 'LOX', 'ITGA2', 'PTX3'}\n"
     ]
    }
   ],
   "source": [
    "# Identify common gene identifiers in both DEG list and gene set\n",
    "common_identifiers = gene_set_genes & deg_gene_identifiers\n",
    "\n",
    "# Print the common gene identifiers\n",
    "if common_identifiers:\n",
    "    print(\"Common gene identifiers between DEG list and gene set:\")\n",
    "    print(common_identifiers)\n",
    "else:\n",
    "    print(\"No common gene identifiers between DEG list and gene set.\")\n"
   ]
  },
  {
   "cell_type": "code",
   "execution_count": null,
   "id": "d3e24621-ba6a-4a4d-b6c7-bb135af02f3a",
   "metadata": {},
   "outputs": [],
   "source": []
  }
 ],
 "metadata": {
  "kernelspec": {
   "display_name": "Gudruns_PDAC",
   "language": "python",
   "name": "gudruns_pdac"
  },
  "language_info": {
   "codemirror_mode": {
    "name": "ipython",
    "version": 3
   },
   "file_extension": ".py",
   "mimetype": "text/x-python",
   "name": "python",
   "nbconvert_exporter": "python",
   "pygments_lexer": "ipython3",
   "version": "3.11.4"
  }
 },
 "nbformat": 4,
 "nbformat_minor": 5
}
