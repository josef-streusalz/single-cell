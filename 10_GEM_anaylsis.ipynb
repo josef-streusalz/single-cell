{
 "cells": [
  {
   "cell_type": "code",
   "execution_count": null,
   "id": "4fb4f49b-0051-4913-ade6-fde974d1ef57",
   "metadata": {},
   "outputs": [],
   "source": [
    "import scanpy as sc\n",
    "\n",
    "# Assuming you have already loaded your Adata object\n",
    "# Replace 'adata' with your Adata object's variable name\n",
    "# and make sure to replace 'leiden' with the correct clustering key\n",
    "\n",
    "# Filter cells in Leiden cluster 1\n",
    "cluster_1_cells = adata[adata.obs['leiden'] == '1']\n",
    "\n",
    "# Count cells with condition 'GEM' in cluster 1\n",
    "gem_cells_in_cluster_1 = cluster_1_cells[cluster_1_cells.obs['condition'] == 'GEM']\n",
    "\n",
    "# Get the count of cells in this subset\n",
    "num_gem_cells_in_cluster_1 = len(gem_cells_in_cluster_1)\n",
    "\n",
    "print(f\"Number of cells with condition 'GEM' in Leiden cluster 1: {num_gem_cells_in_cluster_1}\")"
   ]
  },
  {
   "cell_type": "code",
   "execution_count": null,
   "id": "0ad5d1e9-52e6-4c19-8444-18faa25f3670",
   "metadata": {},
   "outputs": [],
   "source": []
  },
  {
   "cell_type": "code",
   "execution_count": null,
   "id": "fa444db1-ee4a-4c4c-b668-102c83c7edff",
   "metadata": {},
   "outputs": [],
   "source": []
  },
  {
   "cell_type": "code",
   "execution_count": null,
   "id": "8831758b-2bb3-459c-b669-f5c59865283f",
   "metadata": {},
   "outputs": [],
   "source": [
    "import scanpy as sc\n",
    "\n",
    "# Assuming you have already loaded your Adata object\n",
    "# Replace 'adata' with your Adata object's variable name\n",
    "# and make sure to replace 'leiden' and 'condition' with the correct annotation keys\n",
    "\n",
    "# Filter cells in Leiden cluster 1\n",
    "cluster_1_cells = adata[adata.obs['leiden'] == '1']\n",
    "\n",
    "# Count all cells in cluster 1\n",
    "num_cells_in_cluster_1 = len(cluster_1_cells)\n",
    "\n",
    "# Count cells with condition 'GEM' in cluster 1\n",
    "gem_cells_in_cluster_1 = cluster_1_cells[cluster_1_cells.obs['condition'] == 'GEM']\n",
    "\n",
    "# Get the count of cells with condition 'GEM' in cluster 1\n",
    "num_gem_cells_in_cluster_1 = len(gem_cells_in_cluster_1)\n",
    "\n",
    "print(f\"Number of cells in Leiden cluster 1: {num_cells_in_cluster_1}\")\n",
    "print(f\"Number of cells with condition 'GEM' in Leiden cluster 1: {num_gem_cells_in_cluster_1}\")\n"
   ]
  }
 ],
 "metadata": {
  "kernelspec": {
   "display_name": "scanpy-env3_shared",
   "language": "python",
   "name": "scanpy-env3_shared"
  },
  "language_info": {
   "codemirror_mode": {
    "name": "ipython",
    "version": 3
   },
   "file_extension": ".py",
   "mimetype": "text/x-python",
   "name": "python",
   "nbconvert_exporter": "python",
   "pygments_lexer": "ipython3",
   "version": "3.9.17"
  }
 },
 "nbformat": 4,
 "nbformat_minor": 5
}
