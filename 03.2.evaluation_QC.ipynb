{
 "cells": [
  {
   "cell_type": "code",
   "execution_count": 9,
   "id": "484f2ace-0187-4f4f-ace5-d4270e43535c",
   "metadata": {},
   "outputs": [],
   "source": [
    "import scanpy as sc\n",
    "import seaborn as sns\n",
    "import matplotlib.pyplot as plt\n",
    "import pandas as pd\n",
    "import pandas as pd\n"
   ]
  },
  {
   "cell_type": "code",
   "execution_count": 10,
   "id": "ea5229ce-4553-41c3-bdca-5b59a615f010",
   "metadata": {},
   "outputs": [],
   "source": [
    "file_paths = [\n",
    "    \"/storage/users/data/PANC/forPseudotime.h5ad\",\n",
    "    \"/storage/users/data/PANC/PANC1_SC1.h5ad\",\n",
    "    \"/storage/users/data/PANC/hvg_adata.h5ad\",\n",
    "    \"/storage/users/data/PANC/clustered_adata.h5ad\",\n",
    "    \"/storage/users/data/PANC/filtered_preprocessed_combined_adata.h5ad\"\n",
    "]"
   ]
  },
  {
   "cell_type": "markdown",
   "id": "93ca1fcc-3fe0-4bb7-ada4-d0876c6f1a68",
   "metadata": {},
   "source": [
    "## Module 1: Checking uniqueness of indices and columns for each AnnData file"
   ]
  },
  {
   "cell_type": "code",
   "execution_count": 12,
   "id": "8177cf40-8937-4975-b9da-21b6180bf316",
   "metadata": {},
   "outputs": [
    {
     "name": "stdout",
     "output_type": "stream",
     "text": [
      "Module 1: Checking uniqueness of indices and columns for each AnnData file.\n",
      "\n",
      "File 'forPseudotime' has a unique index.\n",
      "File 'forPseudotime' has unique columns.\n"
     ]
    },
    {
     "name": "stderr",
     "output_type": "stream",
     "text": [
      "/storage/users/job37yv/shared_conda_envs/shared3/lib/python3.9/site-packages/anndata/_core/anndata.py:1832: UserWarning: Variable names are not unique. To make them unique, call `.var_names_make_unique`.\n",
      "  utils.warn_names_duplicates(\"var\")\n"
     ]
    },
    {
     "name": "stdout",
     "output_type": "stream",
     "text": [
      "File 'PANC1_SC1' has a unique index.\n",
      "File 'PANC1_SC1' has non-unique columns.\n",
      "Duplicated column names in file 'PANC1_SC1': ['MATR3', 'RAET1E-AS1', 'MTUS1-DT', 'DNAJC9-AS1', 'GPR84-AS1', 'GOLGA8M', 'ATXN7L3-AS1', 'ELFN2']\n",
      "File 'hvg_adata' has a unique index.\n",
      "File 'hvg_adata' has unique columns.\n",
      "File 'clustered_adata' has a unique index.\n",
      "File 'clustered_adata' has unique columns.\n",
      "File 'filtered_preprocessed_combined' has a unique index.\n",
      "File 'filtered_preprocessed_combined' has unique columns.\n",
      "\n",
      "Module 1 completed.\n",
      "\n"
     ]
    }
   ],
   "source": [
    "\n",
    "\n",
    "# Module 1: Check uniqueness of indices and columns\n",
    "print(\"Module 1: Checking uniqueness of indices and columns for each AnnData file.\\n\")\n",
    "for file_path, name in zip(file_paths, names):\n",
    "    try:\n",
    "        adata = sc.read(file_path)\n",
    "        df = adata.to_df()\n",
    "\n",
    "        # Check for unique index\n",
    "        if not df.index.is_unique:\n",
    "            print(f\"File '{name}' has a non-unique index.\")\n",
    "            duplicated_indices = df.index[df.index.duplicated()].unique()\n",
    "            print(f\"Duplicated index values in file '{name}': {duplicated_indices.tolist()}\")\n",
    "        else:\n",
    "            print(f\"File '{name}' has a unique index.\")\n",
    "\n",
    "        # Check for unique columns\n",
    "        if not df.columns.is_unique:\n",
    "            print(f\"File '{name}' has non-unique columns.\")\n",
    "            duplicated_columns = df.columns[df.columns.duplicated()].unique()\n",
    "            print(f\"Duplicated column names in file '{name}': {duplicated_columns.tolist()}\")\n",
    "        else:\n",
    "            print(f\"File '{name}' has unique columns.\")\n",
    "\n",
    "    except Exception as e:\n",
    "        print(f\"Error while checking uniqueness for file '{name}': {e}\")\n",
    "\n",
    "print(\"\\nModule 1 completed.\\n\")\n"
   ]
  },
  {
   "cell_type": "markdown",
   "id": "b22a1143-aafc-4f4e-816f-e770073a4f9c",
   "metadata": {},
   "source": [
    "## Module 2: Counting number of variables (cells) per condition"
   ]
  },
  {
   "cell_type": "code",
   "execution_count": 13,
   "id": "7e5c326a-1ed7-4154-86c7-5e937c14a592",
   "metadata": {},
   "outputs": [
    {
     "name": "stdout",
     "output_type": "stream",
     "text": [
      "Module 2: Counting number of variables (cells) per condition.\n",
      "\n",
      "File 'forPseudotime' has the following number of cells per condition:\n",
      "condition\n",
      "CTRL_2D             3737\n",
      "CTRL_merged         3191\n",
      "TGFb1_merged        2142\n",
      "TGFb1_GEM_merged     792\n",
      "GEM_2                363\n",
      "Name: count, dtype: int64\n",
      "\n"
     ]
    },
    {
     "name": "stderr",
     "output_type": "stream",
     "text": [
      "/storage/users/job37yv/shared_conda_envs/shared3/lib/python3.9/site-packages/anndata/_core/anndata.py:1832: UserWarning: Variable names are not unique. To make them unique, call `.var_names_make_unique`.\n",
      "  utils.warn_names_duplicates(\"var\")\n"
     ]
    },
    {
     "name": "stdout",
     "output_type": "stream",
     "text": [
      "File 'PANC1_SC1' has the following number of cells per condition:\n",
      "condition\n",
      "CTRL_merged         3191\n",
      "TGFb1_merged        2142\n",
      "TGFb1_GEM_merged     792\n",
      "GEM_2                363\n",
      "Name: count, dtype: int64\n",
      "\n",
      "File 'hvg_adata' has the following number of cells per condition:\n",
      "condition\n",
      "CTRL_2D        3913\n",
      "CTRL_1         2822\n",
      "TGFb1_1        1882\n",
      "TGFb1_GEM_2     459\n",
      "CTRL_2          418\n",
      "GEM_2           393\n",
      "TGFb1_GEM_1     370\n",
      "TGFb1_2         337\n",
      "Name: count, dtype: int64\n",
      "\n",
      "File 'clustered_adata' has the following number of cells per condition:\n",
      "condition\n",
      "CTRL_2D        3913\n",
      "CTRL_1         2822\n",
      "TGFb1_1        1882\n",
      "TGFb1_GEM_2     459\n",
      "CTRL_2          418\n",
      "GEM_2           393\n",
      "TGFb1_GEM_1     370\n",
      "TGFb1_2         337\n",
      "Name: count, dtype: int64\n",
      "\n",
      "File 'filtered_preprocessed_combined' has the following number of cells per condition:\n",
      "condition\n",
      "CTRL_2D        3989\n",
      "CTRL_1         2844\n",
      "TGFb1_1        1906\n",
      "TGFb1_GEM_2     462\n",
      "CTRL_2          421\n",
      "GEM_2           396\n",
      "TGFb1_GEM_1     372\n",
      "TGFb1_2         340\n",
      "Name: count, dtype: int64\n",
      "\n",
      "\n",
      "Module 2 completed.\n",
      "\n"
     ]
    }
   ],
   "source": [
    "# Module 2: Count number of variables per condition in 'obs'\n",
    "print(\"Module 2: Counting number of variables (cells) per condition.\\n\")\n",
    "for file_path, name in zip(file_paths, names):\n",
    "    try:\n",
    "        adata = sc.read(file_path)\n",
    "        \n",
    "        # Count number of variables per condition in 'obs'\n",
    "        if 'condition' in adata.obs.columns:\n",
    "            condition_counts = adata.obs['condition'].value_counts()\n",
    "            print(f\"File '{name}' has the following number of cells per condition:\\n{condition_counts}\\n\")\n",
    "        else:\n",
    "            print(f\"File '{name}' does not contain a 'condition' column in .obs.\\n\")\n",
    "\n",
    "    except Exception as e:\n",
    "        print(f\"Error while counting variables for file '{name}': {e}\")\n",
    "\n",
    "print(\"\\nModule 2 completed.\\n\")"
   ]
  },
  {
   "cell_type": "markdown",
   "id": "2c2ba16b-a602-403f-ad1a-95097cee9ad8",
   "metadata": {},
   "source": []
  },
  {
   "cell_type": "markdown",
   "id": "69ddee63-3edb-4ef4-a42c-010abb738dee",
   "metadata": {},
   "source": [
    "## Module 3: Visualizing correlations of the barcodes (cells)"
   ]
  },
  {
   "cell_type": "code",
   "execution_count": null,
   "id": "0c38084c-6ce1-4a23-aa2f-c9100e026ddf",
   "metadata": {},
   "outputs": [],
   "source": [
    "import scanpy as sc\n",
    "import seaborn as sns\n",
    "import matplotlib.pyplot as plt\n",
    "import pandas as pd\n",
    "\n",
    "# Module 3: Visualize correlations of barcodes (cells)\n",
    "print(\"Module 3: Visualizing correlations of the barcodes (cells).\\n\")\n",
    "for file_path, name in zip(file_paths, names):\n",
    "    try:\n",
    "        adata = sc.read(file_path)\n",
    "\n",
    "        # Convert adata.X to a DataFrame for easier manipulation\n",
    "        df = pd.DataFrame(adata.X.toarray() if hasattr(adata.X, \"toarray\") else adata.X,\n",
    "                          index=adata.obs_names,\n",
    "                          columns=adata.var_names)\n",
    "\n",
    "        # Transpose the data frame to get correlations between cells (barcodes)\n",
    "        barcode_correlations = df.transpose().corr()\n",
    "\n",
    "        # Visualize correlation between barcodes and include observation condition info\n",
    "        plt.figure(figsize=(10, 8))\n",
    "        sns.heatmap(barcode_correlations, cmap='viridis', linewidths=0.5)\n",
    "        plt.title(f\"Correlation Heatmap of Barcodes for '{name}'\")\n",
    "        plt.show()\n",
    "\n",
    "    except Exception as e:\n",
    "        print(f\"Error while visualizing barcode correlations for file '{name}': {e}\")\n",
    "\n",
    "print(\"\\nModule 3 completed.\\n\")\n"
   ]
  },
  {
   "cell_type": "code",
   "execution_count": null,
   "id": "5834ce07-1431-461b-90bc-2532fdece2db",
   "metadata": {},
   "outputs": [],
   "source": [
    "import scanpy as sc\n",
    "import seaborn as sns\n",
    "import matplotlib.pyplot as plt\n",
    "import pandas as pd\n",
    "\n",
    "# Module 3: Visualize correlations of barcodes (cells)\n",
    "print(\"Module 3: Visualizing correlations of the barcodes (cells).\\n\")\n",
    "for file_path, name in zip(file_paths, names):\n",
    "    try:\n",
    "        adata = sc.read(file_path)\n",
    "\n",
    "        # Convert adata.X to a DataFrame for easier manipulation\n",
    "        df = pd.DataFrame(adata.X.toarray() if hasattr(adata.X, \"toarray\") else adata.X,\n",
    "                          index=adata.obs_names,\n",
    "                          columns=adata.var_names)\n",
    "\n",
    "        # Transpose the data frame to get correlations between cells (barcodes)\n",
    "        barcode_correlations = df.transpose().corr()\n",
    "\n",
    "        # Visualize correlation between barcodes and include observation condition info\n",
    "        plt.figure(figsize=(10, 8))\n",
    "        sns.heatmap(barcode_correlations, cmap='viridis', linewidths=0.5)\n",
    "        plt.title(f\"Correlation Heatmap of Barcodes for '{name}'\")\n",
    "        plt.show()\n",
    "\n",
    "    except Exception as e:\n",
    "        print(f\"Error while visualizing barcode correlations for file '{name}': {e}\")\n",
    "\n",
    "print(\"\\nModule 3 completed.\\n\")\n"
   ]
  }
 ],
 "metadata": {
  "kernelspec": {
   "display_name": "Shared Environment3",
   "language": "python",
   "name": "shared3"
  },
  "language_info": {
   "codemirror_mode": {
    "name": "ipython",
    "version": 3
   },
   "file_extension": ".py",
   "mimetype": "text/x-python",
   "name": "python",
   "nbconvert_exporter": "python",
   "pygments_lexer": "ipython3",
   "version": "3.9.17"
  }
 },
 "nbformat": 4,
 "nbformat_minor": 5
}
