{
 "cells": [
  {
   "cell_type": "code",
   "execution_count": null,
   "id": "b883622a",
   "metadata": {},
   "outputs": [],
   "source": [
    "#pip install pandas"
   ]
  },
  {
   "cell_type": "code",
   "execution_count": 1,
   "id": "848447d0",
   "metadata": {},
   "outputs": [],
   "source": [
    "import pandas as pd"
   ]
  },
  {
   "cell_type": "code",
   "execution_count": 2,
   "id": "f2672584-c6ee-433a-9740-aed726e22538",
   "metadata": {},
   "outputs": [],
   "source": [
    "#path=\"result_1.csv\" #Please insert correct file input name\n",
    "\n",
    "#data=pd.read_csv(path, header=None)"
   ]
  },
  {
   "cell_type": "code",
   "execution_count": 3,
   "id": "390544c7-86fa-40f6-a421-788d1fe53744",
   "metadata": {},
   "outputs": [],
   "source": [
    "!cd /home2/lumpi/Projects/single-cell_samantha/code/scripts"
   ]
  },
  {
   "cell_type": "code",
   "execution_count": 4,
   "id": "ec12820b-c730-4ea0-87b4-c2ace1a88dc9",
   "metadata": {},
   "outputs": [
    {
     "name": "stdout",
     "output_type": "stream",
     "text": [
      "/home2/lumpi/Projects/single-cell_samantha/code/scripts\n"
     ]
    }
   ],
   "source": [
    "!pwd"
   ]
  },
  {
   "cell_type": "code",
   "execution_count": 22,
   "id": "e4ad0684-68d7-4f5d-ace6-ceb35b51627a",
   "metadata": {},
   "outputs": [
    {
     "name": "stdout",
     "output_type": "stream",
     "text": [
      "/home2/lumpi/Projects/single-cell_samantha/code/scripts/Seurat_PFA_pipeline/06_PFA/01_Prepare_Data_Set\n"
     ]
    }
   ],
   "source": [
    "cd /home2/lumpi/Projects/single-cell_samantha/code/scripts/Seurat_PFA_pipeline/06_PFA/01_Prepare_Data_Set"
   ]
  },
  {
   "cell_type": "code",
   "execution_count": 6,
   "id": "877aff5a-8a96-4cc8-830e-04e65febdd33",
   "metadata": {},
   "outputs": [
    {
     "name": "stdout",
     "output_type": "stream",
     "text": [
      "1     Label                1.0                 1.0  1.0                 1.0  \\\n",
      "0      HES4  1.583741545677185  1.8176181316375732  0.0  1.8231309652328491   \n",
      "1     ISG15                0.0                 0.0  0.0                 0.0   \n",
      "2  C1QTNF12                0.0  2.1065757274627686  0.0                 0.0   \n",
      "3     MFAP2                0.0                 0.0  0.0                 0.0   \n",
      "4     PADI2                0.0                 0.0  0.0   0.712087869644165   \n",
      "\n",
      "1                1.0                 1.0                1.0  \\\n",
      "0  0.470255583524704  1.0360662937164307  0.880490243434906   \n",
      "1  0.470255583524704                 0.0                0.0   \n",
      "2                0.0                 0.0                0.0   \n",
      "3                0.0                 0.0                0.0   \n",
      "4                0.0   2.112929344177246                0.0   \n",
      "\n",
      "1                 1.0                 1.0  ...                0.0  \\\n",
      "0  1.7083015441894531  2.7829229831695557  ...  1.621793508529663   \n",
      "1  0.9188977479934692  0.8665735125541687  ...                0.0   \n",
      "2                 0.0  0.5243574976921082  ...                0.0   \n",
      "3                 0.0                 0.0  ...                0.0   \n",
      "4                 0.0                 0.0  ...                0.0   \n",
      "\n",
      "1                0.0                 0.0                 0.0  \\\n",
      "0  2.052788496017456  2.2413008213043213                 0.0   \n",
      "1                0.0  1.3354885578155518                 0.0   \n",
      "2                0.0                 0.0                 0.0   \n",
      "3                0.0  1.3354885578155518                 0.0   \n",
      "4                0.0                 0.0  0.8673115968704224   \n",
      "\n",
      "1                 0.0                 0.0                  0.0  \\\n",
      "0  1.8832560777664185  2.6796696186065674   1.8778905868530273   \n",
      "1  1.0502245426177979  1.1279358863830566   0.8024693727493286   \n",
      "2                 0.0                 0.0                  0.0   \n",
      "3  1.7308998107910156                 0.0  0.47965794801712036   \n",
      "4  1.3316901922225952                 0.0  0.47965794801712036   \n",
      "\n",
      "1                 0.0                 0.0                 0.0  \n",
      "0  1.5203723907470703  1.0490491390228271  0.7637744545936584  \n",
      "1                 0.0                 0.0  0.7637744545936584  \n",
      "2                 0.0                 0.0                 0.0  \n",
      "3  1.5203723907470703  1.0490491390228271  0.7637744545936584  \n",
      "4                 0.0  2.1305789947509766  0.7637744545936584  \n",
      "\n",
      "[5 rows x 6289 columns]\n"
     ]
    }
   ],
   "source": [
    "import pandas as pd\n",
    "\n",
    "# Define the path to the CSV file\n",
    "path = \"/home2/lumpi/Projects/single-cell_samantha/data/output.csv\"\n",
    "\n",
    "# Read the CSV file, without considering any row as header initially, and using low_memory=False\n",
    "data = pd.read_csv(path, header=None, low_memory=False)\n",
    "\n",
    "# Manually set the second row as the header\n",
    "#data.columns = data.iloc[1]\n",
    "data.columns = data.iloc[1].astype(str)\n",
    "\n",
    "# Drop the first two rows now that headers are set\n",
    "data = data.drop([0, 1])\n",
    "\n",
    "# Reset the index of the DataFrame\n",
    "data.reset_index(drop=True, inplace=True)\n",
    "\n",
    "# Display the DataFrame to verify the header and the first few rows\n",
    "print(data.head())"
   ]
  },
  {
   "cell_type": "code",
   "execution_count": 7,
   "id": "3ea8078a-41e5-49a2-b162-b41a0287149a",
   "metadata": {},
   "outputs": [
    {
     "name": "stdout",
     "output_type": "stream",
     "text": [
      "/home2/lumpi/Projects/single-cell_samantha/code/scripts\n"
     ]
    }
   ],
   "source": [
    "!pwd"
   ]
  },
  {
   "cell_type": "code",
   "execution_count": 8,
   "id": "5e7902c1",
   "metadata": {},
   "outputs": [],
   "source": [
    "gene_names=pd.DataFrame({'gene_names': list(data.iloc[:,0])})\n",
    "expression_data=data.iloc[:,1:]\n",
    "\n",
    "gene_names.to_csv('/home2/lumpi/Projects/single-cell_samantha/data/gene_names.csv',index=False)\n",
    "expression_data.to_csv('/home2/lumpi/Projects/single-cell_samantha/data/PFA_analysis_data.csv',index=False, header=True)"
   ]
  },
  {
   "cell_type": "code",
   "execution_count": 9,
   "id": "3cb2de88-7116-41d8-8a8a-f0270876da66",
   "metadata": {},
   "outputs": [
    {
     "data": {
      "text/html": [
       "<div>\n",
       "<style scoped>\n",
       "    .dataframe tbody tr th:only-of-type {\n",
       "        vertical-align: middle;\n",
       "    }\n",
       "\n",
       "    .dataframe tbody tr th {\n",
       "        vertical-align: top;\n",
       "    }\n",
       "\n",
       "    .dataframe thead th {\n",
       "        text-align: right;\n",
       "    }\n",
       "</style>\n",
       "<table border=\"1\" class=\"dataframe\">\n",
       "  <thead>\n",
       "    <tr style=\"text-align: right;\">\n",
       "      <th></th>\n",
       "      <th>gene_names</th>\n",
       "    </tr>\n",
       "  </thead>\n",
       "  <tbody>\n",
       "    <tr>\n",
       "      <th>0</th>\n",
       "      <td>HES4</td>\n",
       "    </tr>\n",
       "    <tr>\n",
       "      <th>1</th>\n",
       "      <td>ISG15</td>\n",
       "    </tr>\n",
       "    <tr>\n",
       "      <th>2</th>\n",
       "      <td>C1QTNF12</td>\n",
       "    </tr>\n",
       "    <tr>\n",
       "      <th>3</th>\n",
       "      <td>MFAP2</td>\n",
       "    </tr>\n",
       "    <tr>\n",
       "      <th>4</th>\n",
       "      <td>PADI2</td>\n",
       "    </tr>\n",
       "    <tr>\n",
       "      <th>...</th>\n",
       "      <td>...</td>\n",
       "    </tr>\n",
       "    <tr>\n",
       "      <th>575</th>\n",
       "      <td>DANT2</td>\n",
       "    </tr>\n",
       "    <tr>\n",
       "      <th>576</th>\n",
       "      <td>KLHL13</td>\n",
       "    </tr>\n",
       "    <tr>\n",
       "      <th>577</th>\n",
       "      <td>ZNF185</td>\n",
       "    </tr>\n",
       "    <tr>\n",
       "      <th>578</th>\n",
       "      <td>L1CAM</td>\n",
       "    </tr>\n",
       "    <tr>\n",
       "      <th>579</th>\n",
       "      <td>MT-CO2</td>\n",
       "    </tr>\n",
       "  </tbody>\n",
       "</table>\n",
       "<p>580 rows × 1 columns</p>\n",
       "</div>"
      ],
      "text/plain": [
       "    gene_names\n",
       "0         HES4\n",
       "1        ISG15\n",
       "2     C1QTNF12\n",
       "3        MFAP2\n",
       "4        PADI2\n",
       "..         ...\n",
       "575      DANT2\n",
       "576     KLHL13\n",
       "577     ZNF185\n",
       "578      L1CAM\n",
       "579     MT-CO2\n",
       "\n",
       "[580 rows x 1 columns]"
      ]
     },
     "execution_count": 9,
     "metadata": {},
     "output_type": "execute_result"
    }
   ],
   "source": [
    "gene_names"
   ]
  },
  {
   "cell_type": "code",
   "execution_count": null,
   "id": "4e4a72b7-81f0-4615-8164-c9e3920e1e6b",
   "metadata": {},
   "outputs": [],
   "source": []
  },
  {
   "cell_type": "code",
   "execution_count": null,
   "id": "bebec240-76ae-43e7-87ad-bfe482b02b9e",
   "metadata": {},
   "outputs": [],
   "source": []
  }
 ],
 "metadata": {
  "kernelspec": {
   "display_name": "scanpy-env3_shared",
   "language": "python",
   "name": "scanpy-env3_shared"
  },
  "language_info": {
   "codemirror_mode": {
    "name": "ipython",
    "version": 3
   },
   "file_extension": ".py",
   "mimetype": "text/x-python",
   "name": "python",
   "nbconvert_exporter": "python",
   "pygments_lexer": "ipython3",
   "version": "3.9.17"
  }
 },
 "nbformat": 4,
 "nbformat_minor": 5
}
