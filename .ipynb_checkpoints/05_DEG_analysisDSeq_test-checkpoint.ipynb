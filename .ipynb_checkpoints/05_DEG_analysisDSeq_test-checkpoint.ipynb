{
 "cells": [
  {
   "cell_type": "code",
   "execution_count": 3,
   "id": "82376299-ae70-4f94-8dbb-f91cfeab49eb",
   "metadata": {},
   "outputs": [],
   "source": [
    "import scanpy as sc\n",
    "import pandas as pd"
   ]
  },
  {
   "cell_type": "code",
   "execution_count": 4,
   "id": "48ef16b7-dfd3-4800-99bc-db9f7f36b11c",
   "metadata": {},
   "outputs": [],
   "source": [
    "from rpy2.robjects import pandas2ri"
   ]
  },
  {
   "cell_type": "code",
   "execution_count": 5,
   "id": "de7052ba-10dd-4323-b2e7-6fea33ebeda4",
   "metadata": {},
   "outputs": [],
   "source": [
    "import rpy2.robjects as ro\n",
    "from rpy2.robjects.conversion import localconverter"
   ]
  },
  {
   "cell_type": "code",
   "execution_count": 6,
   "id": "e74335ce-b488-47a8-9390-4ef54813303d",
   "metadata": {},
   "outputs": [],
   "source": [
    "# Read your data (replace with the actual path to your data)\n",
    "# adata = sc.read('path/to/your/data.h5ad')\n",
    "#adata = sc.read(\"/storage/users/sac43cg/res_Samantha_1/outs/h5as_files/adata_neu.h5ad\") \n",
    "adata = sc.read(\"/storage/users/sac43cg/res_Samantha_1/outs/per_sample_outs/filtered_preprocessed_combined_adata.h5ad\")"
   ]
  },
  {
   "cell_type": "code",
   "execution_count": 7,
   "id": "00c8f9da-8c19-4733-9c89-4ad433cd3fce",
   "metadata": {},
   "outputs": [],
   "source": [
    "# Get the condition labels (replace 'grouping_variable' with the actual column name in adata.obs)\n",
    "# conditions = adata.obs['grouping_variable']\n",
    "conditions = adata.obs['condition']\n"
   ]
  },
  {
   "cell_type": "code",
   "execution_count": 9,
   "id": "b8496888-96ae-4f3b-b369-88e5606d2df4",
   "metadata": {},
   "outputs": [
    {
     "name": "stdout",
     "output_type": "stream",
     "text": [
      "barcode\n",
      "AAACCCAGTAGGCTCC-1         CTRL_1\n",
      "AAACCCAGTCGCAACC-1         CTRL_1\n",
      "AAACCCATCCACAAGT-1         CTRL_1\n",
      "AAACGCTTCACTACGA-1         CTRL_1\n",
      "AAACGCTTCAGCCTCT-1         CTRL_1\n",
      "                         ...     \n",
      "TTTACTGTCATTACTC-1    TGFb1_GEM_2\n",
      "TTTCACAGTGATATAG-1    TGFb1_GEM_2\n",
      "TTTCACATCGATGCAT-1    TGFb1_GEM_2\n",
      "TTTCATGTCCCTCTAG-1    TGFb1_GEM_2\n",
      "TTTGACTGTTCCGGTG-1    TGFb1_GEM_2\n",
      "Name: condition, Length: 11919, dtype: category\n",
      "Categories (8, object): ['CTRL_1', 'CTRL_2', 'CTRL_2D', 'GEM_2', 'TGFb1_1', 'TGFb1_2', 'TGFb1_GEM_1', 'TGFb1_GEM_2']\n"
     ]
    }
   ],
   "source": [
    "print(conditions)"
   ]
  },
  {
   "cell_type": "code",
   "execution_count": 10,
   "id": "ca5a4093-dc0c-4ffe-a8b2-94f4ae00be46",
   "metadata": {},
   "outputs": [],
   "source": [
    "# Convert the AnnData object to a DataFrame\n",
    "expression_data = adata.to_df()"
   ]
  },
  {
   "cell_type": "code",
   "execution_count": 11,
   "id": "14b07e76-0a36-4745-9fc1-90bf2397750e",
   "metadata": {},
   "outputs": [],
   "source": [
    "\n",
    "# Activate the automatic conversion from pandas to R\n",
    "with localconverter(ro.default_converter + pandas2ri.converter):\n",
    "    r_from_pd_df = ro.conversion.py2rpy(expression_data)\n"
   ]
  },
  {
   "cell_type": "code",
   "execution_count": 12,
   "id": "fd5027fb-124e-44ca-bb72-7d15df8d4626",
   "metadata": {},
   "outputs": [
    {
     "data": {
      "text/html": [
       "\n",
       "        <span>StrVector with 1 elements.</span>\n",
       "        <table>\n",
       "        <tbody>\n",
       "          <tr>\n",
       "          \n",
       "            <td>\n",
       "            'lumpi'\n",
       "            </td>\n",
       "          \n",
       "          </tr>\n",
       "        </tbody>\n",
       "        </table>\n",
       "        "
      ],
      "text/plain": [
       "<rpy2.robjects.vectors.StrVector object at 0x7f8464b12980> [RTYPES.STRSXP]\n",
       "R classes: ('character',)\n",
       "['lumpi']"
      ]
     },
     "execution_count": 12,
     "metadata": {},
     "output_type": "execute_result"
    }
   ],
   "source": [
    "# who is the R user\n",
    "ro.r('Sys.info()[\"user\"]')"
   ]
  },
  {
   "cell_type": "code",
   "execution_count": 13,
   "id": "aea9f422-21cf-4ddc-ade6-f3a5a1f0b2f1",
   "metadata": {},
   "outputs": [
    {
     "name": "stderr",
     "output_type": "stream",
     "text": [
      "R[write to console]: Bioconductor version 3.17 (BiocManager 1.30.22), R 4.3.1 (2023-06-16)\n",
      "\n"
     ]
    },
    {
     "data": {
      "text/html": [
       "\n",
       "        <span>ListVector with 1 elements.</span>\n",
       "        <table>\n",
       "        <tbody>\n",
       "        \n",
       "          <tr>\n",
       "            <th>\n",
       "            [no name]\n",
       "            </th>\n",
       "            <td>\n",
       "            <rpy2.rinterface.IntSexpVector object at 0x7f88b0b60140> [RTYPES.INTSXP]\n",
       "            </td>\n",
       "          </tr>\n",
       "        \n",
       "        </tbody>\n",
       "        </table>\n",
       "        "
      ],
      "text/plain": [
       "<rpy2.robjects.vectors.ListVector object at 0x7f8475655600> [RTYPES.VECSXP]\n",
       "R classes: ('package_version', 'numeric_version')\n",
       "[IntSexpVector]\n",
       "  <no name>: <class 'rpy2.rinterface.IntSexpVector'>\n",
       "  <rpy2.rinterface.IntSexpVector object at 0x7f88b0b60300> [RTYPES.INTSXP]"
      ]
     },
     "execution_count": 13,
     "metadata": {},
     "output_type": "execute_result"
    }
   ],
   "source": [
    "# which biomanager version\n",
    "ro.r('library(BiocManager)')\n",
    "ro.r('packageVersion(\"BiocManager\")')"
   ]
  },
  {
   "cell_type": "code",
   "execution_count": null,
   "id": "af1598e7-c701-4c4d-b12e-d12d7675b972",
   "metadata": {},
   "outputs": [],
   "source": [
    "#ro.r('BiocManager::install(version = \"3.17\")')"
   ]
  },
  {
   "cell_type": "code",
   "execution_count": null,
   "id": "cf3b995b-60cc-4efc-9562-88be48d26cbd",
   "metadata": {},
   "outputs": [],
   "source": [
    "#ro.r('if (!requireNamespace(\"BiocManager\", quietly = TRUE)) install.packages(\"BiocManager\")')\n",
    "#ro.r('BiocManager::install(\"DESeq2\")')"
   ]
  },
  {
   "cell_type": "code",
   "execution_count": 28,
   "id": "d0313ed7-cf12-4928-ba67-56a4988c5b8e",
   "metadata": {},
   "outputs": [
    {
     "name": "stdout",
     "output_type": "stream",
     "text": [
      "[1] \"/home2/lumpi/R/x86_64-conda-linux-gnu-library/4.3\"\n",
      "[2] \"/usr/local/lib/R/site-library\"                    \n",
      "[3] \"/usr/lib/R/site-library\"                          \n",
      "[4] \"/usr/lib/R/library\"                               \n",
      "\n"
     ]
    }
   ],
   "source": [
    "print(ro.r('.libPaths()'))"
   ]
  },
  {
   "cell_type": "code",
   "execution_count": null,
   "id": "7d66d27b-4c11-4810-b146-b855a01dfb99",
   "metadata": {},
   "outputs": [],
   "source": [
    "try:\n",
    "    ro.r(\"\"\"\n",
    "    if (!requireNamespace(\"BiocManager\", quietly = TRUE))\n",
    "        install.packages(\"BiocManager\")\n",
    "    BiocManager::install(\"DESeq2\")\n",
    "    \"\"\")\n",
    "    print(\"DESeq2 installed successfully\")\n",
    "except Exception as e:\n",
    "    print(f\"Failed to install DESeq2: {e}\")"
   ]
  },
  {
   "cell_type": "code",
   "execution_count": 29,
   "id": "5b9bb76b-7681-4b80-9ec8-1a7eeefdf11f",
   "metadata": {},
   "outputs": [
    {
     "name": "stderr",
     "output_type": "stream",
     "text": [
      "R[write to console]: Loading required package: S4Vectors\n",
      "\n",
      "R[write to console]: Loading required package: stats4\n",
      "\n",
      "R[write to console]: Loading required package: BiocGenerics\n",
      "\n",
      "R[write to console]: \n",
      "Attaching package: ‘BiocGenerics’\n",
      "\n",
      "\n",
      "R[write to console]: The following objects are masked from ‘package:stats’:\n",
      "\n",
      "    IQR, mad, sd, var, xtabs\n",
      "\n",
      "\n",
      "R[write to console]: The following objects are masked from ‘package:base’:\n",
      "\n",
      "    anyDuplicated, aperm, append, as.data.frame, basename, cbind,\n",
      "    colnames, dirname, do.call, duplicated, eval, evalq, Filter, Find,\n",
      "    get, grep, grepl, intersect, is.unsorted, lapply, Map, mapply,\n",
      "    match, mget, order, paste, pmax, pmax.int, pmin, pmin.int,\n",
      "    Position, rank, rbind, Reduce, rownames, sapply, setdiff, sort,\n",
      "    table, tapply, union, unique, unsplit, which.max, which.min\n",
      "\n",
      "\n",
      "R[write to console]: \n",
      "Attaching package: ‘S4Vectors’\n",
      "\n",
      "\n",
      "R[write to console]: The following object is masked from ‘package:utils’:\n",
      "\n",
      "    findMatches\n",
      "\n",
      "\n",
      "R[write to console]: The following objects are masked from ‘package:base’:\n",
      "\n",
      "    expand.grid, I, unname\n",
      "\n",
      "\n",
      "R[write to console]: Loading required package: IRanges\n",
      "\n",
      "R[write to console]: Loading required package: GenomicRanges\n",
      "\n",
      "R[write to console]: Loading required package: GenomeInfoDb\n",
      "\n",
      "R[write to console]: Loading required package: SummarizedExperiment\n",
      "\n",
      "R[write to console]: Loading required package: MatrixGenerics\n",
      "\n",
      "R[write to console]: Loading required package: matrixStats\n",
      "\n",
      "R[write to console]: \n",
      "Attaching package: ‘MatrixGenerics’\n",
      "\n",
      "\n",
      "R[write to console]: The following objects are masked from ‘package:matrixStats’:\n",
      "\n",
      "    colAlls, colAnyNAs, colAnys, colAvgsPerRowSet, colCollapse,\n",
      "    colCounts, colCummaxs, colCummins, colCumprods, colCumsums,\n",
      "    colDiffs, colIQRDiffs, colIQRs, colLogSumExps, colMadDiffs,\n",
      "    colMads, colMaxs, colMeans2, colMedians, colMins, colOrderStats,\n",
      "    colProds, colQuantiles, colRanges, colRanks, colSdDiffs, colSds,\n",
      "    colSums2, colTabulates, colVarDiffs, colVars, colWeightedMads,\n",
      "    colWeightedMeans, colWeightedMedians, colWeightedSds,\n",
      "    colWeightedVars, rowAlls, rowAnyNAs, rowAnys, rowAvgsPerColSet,\n",
      "    rowCollapse, rowCounts, rowCummaxs, rowCummins, rowCumprods,\n",
      "    rowCumsums, rowDiffs, rowIQRDiffs, rowIQRs, rowLogSumExps,\n",
      "    rowMadDiffs, rowMads, rowMaxs, rowMeans2, rowMedians, rowMins,\n",
      "    rowOrderStats, rowProds, rowQuantiles, rowRanges, rowRanks,\n",
      "    rowSdDiffs, rowSds, rowSums2, rowTabulates, rowVarDiffs, rowVars,\n",
      "    rowWeightedMads, rowWeightedMeans, rowWeightedMedians,\n",
      "    rowWeightedSds, rowWeightedVars\n",
      "\n",
      "\n",
      "R[write to console]: Loading required package: Biobase\n",
      "\n",
      "R[write to console]: Welcome to Bioconductor\n",
      "\n",
      "    Vignettes contain introductory material; view with\n",
      "    'browseVignettes()'. To cite Bioconductor, see\n",
      "    'citation(\"Biobase\")', and for packages 'citation(\"pkgname\")'.\n",
      "\n",
      "\n",
      "R[write to console]: \n",
      "Attaching package: ‘Biobase’\n",
      "\n",
      "\n",
      "R[write to console]: The following object is masked from ‘package:MatrixGenerics’:\n",
      "\n",
      "    rowMedians\n",
      "\n",
      "\n",
      "R[write to console]: The following objects are masked from ‘package:matrixStats’:\n",
      "\n",
      "    anyMissing, rowMedians\n",
      "\n",
      "\n"
     ]
    },
    {
     "name": "stdout",
     "output_type": "stream",
     "text": [
      "DESeq2 loaded successfully\n"
     ]
    }
   ],
   "source": [
    "# Load necessary R libraries\n",
    "try:\n",
    "    ro.r('library(DESeq2)')\n",
    "    print(\"DESeq2 loaded successfully\")\n",
    "except Exception as e:\n",
    "    print(f\"Failed to load DESeq2: {e}\")"
   ]
  },
  {
   "cell_type": "code",
   "execution_count": 31,
   "id": "4fca7853-17ba-4603-8f1f-ae796fb0e8ed",
   "metadata": {},
   "outputs": [
    {
     "data": {
      "text/html": [
       "\n",
       "        <span>StrVector with 21 elements.</span>\n",
       "        <table>\n",
       "        <tbody>\n",
       "          <tr>\n",
       "          \n",
       "            <td>\n",
       "            'DESeq2'\n",
       "            </td>\n",
       "          \n",
       "            <td>\n",
       "            'Summariz...\n",
       "            </td>\n",
       "          \n",
       "            <td>\n",
       "            'Biobase'\n",
       "            </td>\n",
       "          \n",
       "            <td>\n",
       "            ...\n",
       "            </td>\n",
       "          \n",
       "            <td>\n",
       "            'datasets'\n",
       "            </td>\n",
       "          \n",
       "            <td>\n",
       "            'methods'\n",
       "            </td>\n",
       "          \n",
       "            <td>\n",
       "            'base'\n",
       "            </td>\n",
       "          \n",
       "          </tr>\n",
       "        </tbody>\n",
       "        </table>\n",
       "        "
      ],
      "text/plain": [
       "<rpy2.robjects.vectors.StrVector object at 0x7f889be874c0> [RTYPES.STRSXP]\n",
       "R classes: ('character',)\n",
       "['DESeq2', 'Summariz..., 'Biobase', 'MatrixGe..., ..., 'utils', 'datasets', 'methods', 'base']"
      ]
     },
     "execution_count": 31,
     "metadata": {},
     "output_type": "execute_result"
    }
   ],
   "source": [
    "# Load necessary R libraries\n",
    "ro.r('library(\"DESeq2\")')"
   ]
  },
  {
   "cell_type": "code",
   "execution_count": 32,
   "id": "dc3d5ee5-f8be-42a2-b6be-631acc99e979",
   "metadata": {},
   "outputs": [
    {
     "ename": "RParsingError",
     "evalue": "Parsing status not OK - PARSING_STATUS.PARSE_ERROR",
     "output_type": "error",
     "traceback": [
      "\u001b[0;31m---------------------------------------------------------------------------\u001b[0m",
      "\u001b[0;31mRParsingError\u001b[0m                             Traceback (most recent call last)",
      "Cell \u001b[0;32mIn[32], line 2\u001b[0m\n\u001b[1;32m      1\u001b[0m \u001b[38;5;66;03m# Create a DESeqDataSet object\u001b[39;00m\n\u001b[0;32m----> 2\u001b[0m \u001b[43mro\u001b[49m\u001b[38;5;241;43m.\u001b[39;49m\u001b[43mr\u001b[49m\u001b[43m(\u001b[49m\u001b[38;5;124;43mf\u001b[39;49m\u001b[38;5;124;43m'''\u001b[39;49m\n\u001b[1;32m      3\u001b[0m \u001b[38;5;124;43mexpression_data <- \u001b[39;49m\u001b[38;5;132;43;01m{\u001b[39;49;00m\u001b[43mr_from_pd_df\u001b[49m\u001b[38;5;132;43;01m}\u001b[39;49;00m\n\u001b[1;32m      4\u001b[0m \u001b[38;5;124;43mconditions <- factor(c(\u001b[39;49m\u001b[38;5;132;43;01m{\u001b[39;49;00m\u001b[38;5;124;43m'\u001b[39;49m\u001b[38;5;124;43m,\u001b[39;49m\u001b[38;5;124;43m'\u001b[39;49m\u001b[38;5;241;43m.\u001b[39;49m\u001b[43mjoin\u001b[49m\u001b[43m(\u001b[49m\u001b[38;5;28;43mmap\u001b[39;49m\u001b[43m(\u001b[49m\u001b[38;5;28;43mrepr\u001b[39;49m\u001b[43m,\u001b[49m\u001b[38;5;250;43m \u001b[39;49m\u001b[43mconditions\u001b[49m\u001b[43m)\u001b[49m\u001b[43m)\u001b[49m\u001b[38;5;132;43;01m}\u001b[39;49;00m\u001b[38;5;124;43m))\u001b[39;49m\n\u001b[1;32m      5\u001b[0m \u001b[38;5;124;43mcolData <- data.frame(row.names=colnames(expression_data), conditions)\u001b[39;49m\n\u001b[1;32m      6\u001b[0m \u001b[38;5;124;43mdds <- DESeqDataSetFromMatrix(countData = expression_data, colData = colData, design = ~ conditions)\u001b[39;49m\n\u001b[1;32m      7\u001b[0m \u001b[38;5;124;43m'''\u001b[39;49m\u001b[43m)\u001b[49m\n\u001b[1;32m      9\u001b[0m \u001b[38;5;66;03m# Run the DESeq function\u001b[39;00m\n\u001b[1;32m     10\u001b[0m ro\u001b[38;5;241m.\u001b[39mr(\u001b[38;5;124m'\u001b[39m\u001b[38;5;124mdds <- DESeq(dds)\u001b[39m\u001b[38;5;124m'\u001b[39m)\n",
      "File \u001b[0;32m~/miniconda3/envs/scanpy-env/lib/python3.9/site-packages/rpy2/robjects/__init__.py:458\u001b[0m, in \u001b[0;36mR.__call__\u001b[0;34m(self, string)\u001b[0m\n\u001b[1;32m    457\u001b[0m \u001b[38;5;28;01mdef\u001b[39;00m \u001b[38;5;21m__call__\u001b[39m(\u001b[38;5;28mself\u001b[39m, string):\n\u001b[0;32m--> 458\u001b[0m     p \u001b[38;5;241m=\u001b[39m \u001b[43mrinterface\u001b[49m\u001b[38;5;241;43m.\u001b[39;49m\u001b[43mparse\u001b[49m\u001b[43m(\u001b[49m\u001b[43mstring\u001b[49m\u001b[43m)\u001b[49m\n\u001b[1;32m    459\u001b[0m     res \u001b[38;5;241m=\u001b[39m \u001b[38;5;28mself\u001b[39m\u001b[38;5;241m.\u001b[39meval(p)\n\u001b[1;32m    460\u001b[0m     \u001b[38;5;28;01mreturn\u001b[39;00m conversion\u001b[38;5;241m.\u001b[39mget_conversion()\u001b[38;5;241m.\u001b[39mrpy2py(res)\n",
      "File \u001b[0;32m~/miniconda3/envs/scanpy-env/lib/python3.9/site-packages/rpy2/rinterface_lib/conversion.py:45\u001b[0m, in \u001b[0;36m_cdata_res_to_rinterface.<locals>._\u001b[0;34m(*args, **kwargs)\u001b[0m\n\u001b[1;32m     44\u001b[0m \u001b[38;5;28;01mdef\u001b[39;00m \u001b[38;5;21m_\u001b[39m(\u001b[38;5;241m*\u001b[39margs, \u001b[38;5;241m*\u001b[39m\u001b[38;5;241m*\u001b[39mkwargs):\n\u001b[0;32m---> 45\u001b[0m     cdata \u001b[38;5;241m=\u001b[39m \u001b[43mfunction\u001b[49m\u001b[43m(\u001b[49m\u001b[38;5;241;43m*\u001b[39;49m\u001b[43margs\u001b[49m\u001b[43m,\u001b[49m\u001b[43m \u001b[49m\u001b[38;5;241;43m*\u001b[39;49m\u001b[38;5;241;43m*\u001b[39;49m\u001b[43mkwargs\u001b[49m\u001b[43m)\u001b[49m\n\u001b[1;32m     46\u001b[0m     \u001b[38;5;66;03m# TODO: test cdata is of the expected CType\u001b[39;00m\n\u001b[1;32m     47\u001b[0m     \u001b[38;5;28;01mreturn\u001b[39;00m _cdata_to_rinterface(cdata)\n",
      "File \u001b[0;32m~/miniconda3/envs/scanpy-env/lib/python3.9/site-packages/rpy2/rinterface.py:110\u001b[0m, in \u001b[0;36mparse\u001b[0;34m(text, num)\u001b[0m\n\u001b[1;32m    108\u001b[0m robj \u001b[38;5;241m=\u001b[39m StrSexpVector([text])\n\u001b[1;32m    109\u001b[0m \u001b[38;5;28;01mwith\u001b[39;00m memorymanagement\u001b[38;5;241m.\u001b[39mrmemory() \u001b[38;5;28;01mas\u001b[39;00m rmemory:\n\u001b[0;32m--> 110\u001b[0m     res \u001b[38;5;241m=\u001b[39m \u001b[43m_rinterface\u001b[49m\u001b[38;5;241;43m.\u001b[39;49m\u001b[43m_parse\u001b[49m\u001b[43m(\u001b[49m\u001b[43mrobj\u001b[49m\u001b[38;5;241;43m.\u001b[39;49m\u001b[43m__sexp__\u001b[49m\u001b[38;5;241;43m.\u001b[39;49m\u001b[43m_cdata\u001b[49m\u001b[43m,\u001b[49m\u001b[43m \u001b[49m\u001b[43mnum\u001b[49m\u001b[43m,\u001b[49m\u001b[43m \u001b[49m\u001b[43mrmemory\u001b[49m\u001b[43m)\u001b[49m\n\u001b[1;32m    111\u001b[0m \u001b[38;5;28;01mreturn\u001b[39;00m res\n",
      "File \u001b[0;32m~/miniconda3/envs/scanpy-env/lib/python3.9/site-packages/rpy2/rinterface_lib/_rinterface_capi.py:720\u001b[0m, in \u001b[0;36m_parse\u001b[0;34m(cdata, num, rmemory)\u001b[0m\n\u001b[1;32m    713\u001b[0m \u001b[38;5;66;03m# TODO: design better handling of possible status:\u001b[39;00m\n\u001b[1;32m    714\u001b[0m \u001b[38;5;66;03m# PARSE_NULL,\u001b[39;00m\n\u001b[1;32m    715\u001b[0m \u001b[38;5;66;03m# PARSE_OK,\u001b[39;00m\n\u001b[1;32m    716\u001b[0m \u001b[38;5;66;03m# PARSE_INCOMPLETE,\u001b[39;00m\n\u001b[1;32m    717\u001b[0m \u001b[38;5;66;03m# PARSE_ERROR,\u001b[39;00m\n\u001b[1;32m    718\u001b[0m \u001b[38;5;66;03m# PARSE_EOF\u001b[39;00m\n\u001b[1;32m    719\u001b[0m \u001b[38;5;28;01mif\u001b[39;00m status[\u001b[38;5;241m0\u001b[39m] \u001b[38;5;241m!=\u001b[39m openrlib\u001b[38;5;241m.\u001b[39mrlib\u001b[38;5;241m.\u001b[39mPARSE_OK:\n\u001b[0;32m--> 720\u001b[0m     \u001b[38;5;28;01mraise\u001b[39;00m RParsingError(\u001b[38;5;124m'\u001b[39m\u001b[38;5;124mParsing status not OK\u001b[39m\u001b[38;5;124m'\u001b[39m,\n\u001b[1;32m    721\u001b[0m                         status\u001b[38;5;241m=\u001b[39mPARSING_STATUS(status[\u001b[38;5;241m0\u001b[39m]))\n\u001b[1;32m    722\u001b[0m \u001b[38;5;28;01mreturn\u001b[39;00m res\n",
      "\u001b[0;31mRParsingError\u001b[0m: Parsing status not OK - PARSING_STATUS.PARSE_ERROR"
     ]
    }
   ],
   "source": [
    "# Create a DESeqDataSet object\n",
    "ro.r(f'''\n",
    "expression_data <- {r_from_pd_df}\n",
    "conditions <- factor(c({','.join(map(repr, conditions))}))\n",
    "colData <- data.frame(row.names=colnames(expression_data), conditions)\n",
    "dds <- DESeqDataSetFromMatrix(countData = expression_data, colData = colData, design = ~ conditions)\n",
    "''')\n",
    "\n",
    "# Run the DESeq function\n",
    "ro.r('dds <- DESeq(dds)')\n",
    "\n",
    "# Get the results\n",
    "ro.r('res <- results(dds)')\n",
    "res = ro.r('as.data.frame(res)')\n",
    "\n",
    "# Convert the R DataFrame to a pandas DataFrame\n",
    "with localconverter(ro.default_converter + pandas2ri.converter):\n",
    "    pd_from_r_df = ro.conversion.rpy2py(res)\n",
    "\n",
    "# Now pd_from_r_df is a pandas DataFrame with the DESeq2 results\n",
    "print(pd_from_r_df)"
   ]
  },
  {
   "cell_type": "code",
   "execution_count": null,
   "id": "6c861673-aa1a-44f1-b1c1-4385cf7044e3",
   "metadata": {},
   "outputs": [],
   "source": []
  }
 ],
 "metadata": {
  "kernelspec": {
   "display_name": "scanpy-env",
   "language": "python",
   "name": "scanpy-env"
  },
  "language_info": {
   "codemirror_mode": {
    "name": "ipython",
    "version": 3
   },
   "file_extension": ".py",
   "mimetype": "text/x-python",
   "name": "python",
   "nbconvert_exporter": "python",
   "pygments_lexer": "ipython3",
   "version": "3.9.17"
  }
 },
 "nbformat": 4,
 "nbformat_minor": 5
}
