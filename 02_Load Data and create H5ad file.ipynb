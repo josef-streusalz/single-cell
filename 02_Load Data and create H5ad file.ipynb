{
 "cells": [
  {
   "cell_type": "code",
   "execution_count": null,
   "id": "7c9ca83f-0834-4638-b0cb-c6894eb169ff",
   "metadata": {},
   "outputs": [],
   "source": []
  },
  {
   "cell_type": "markdown",
   "id": "8f52ddb6-aafc-41d2-9fef-9b4e6cc4672c",
   "metadata": {},
   "source": [
    "### Step 1: Loading the Data\n",
    "\n",
    "First, let's load the dataset into a pandas DataFrame."
   ]
  },
  {
   "cell_type": "markdown",
   "id": "e3014440-3966-4fb6-8d6d-c5905fd36ec9",
   "metadata": {},
   "source": [
    "###### Step 1.1: Get the file location\n"
   ]
  },
  {
   "cell_type": "code",
   "execution_count": 1,
   "id": "d6838aba-f0a9-4145-a077-a653d83b1ee1",
   "metadata": {
    "scrolled": true
   },
   "outputs": [
    {
     "name": "stdout",
     "output_type": "stream",
     "text": [
      "CTRL_1\n",
      "CTRL_2\n",
      "CTRL_2D\n",
      "GEM_2\n",
      "TGFb1_1\n",
      "TGFb1_2\n",
      "TGFb1_GEM_1\n",
      "TGFb1_GEM_2\n",
      "combined_adata.h5ad\n",
      "filtered_preprocessed_data.h5ad\n",
      "filtered_preprocessed_combined_adata.h5ad\n",
      "annotated_adata.h5ad\n",
      "hvg_adata.h5ad\n",
      "clustered_adata.h5ad\n"
     ]
    }
   ],
   "source": [
    "## file folder\n",
    "import os\n",
    "\n",
    "folder_path = '/storage/users/sac43cg/res_Samantha_1/outs/per_sample_outs'\n",
    "\n",
    "# Get the list of files and directories in the folder\n",
    "folder_content = os.listdir(folder_path)\n",
    "\n",
    "# Print the content of the folder\n",
    "for item in folder_content:\n",
    "    print(item)"
   ]
  },
  {
   "cell_type": "code",
   "execution_count": 2,
   "id": "ba745c2b-6fff-4ed4-ae00-95711e77d49f",
   "metadata": {},
   "outputs": [
    {
     "name": "stdout",
     "output_type": "stream",
     "text": [
      "Category,Library Type,Grouped By,Group Name,Metric Name,Metric Value\n",
      "Cells,Gene Expression,,,Cells,2,973\n",
      "Cells,Gene Expression,,,Confidently mapped antisense,3.31%\n",
      "Cells,Gene Expression,,,Confidently mapped to exonic regions,86.53%\n",
      "Cells,Gene Expression,,,Confidently mapped to genome,96.22%\n",
      "Cells,Gene Expression,,,Confidently mapped to intergenic regions,2.59%\n"
     ]
    }
   ],
   "source": [
    "## print head of example file\n",
    "import csv\n",
    "\n",
    "def print_csv_head(file_path, num_rows):\n",
    "    with open(file_path, 'r') as file:\n",
    "        csv_reader = csv.reader(file)\n",
    "        header = next(csv_reader)  # Read the header\n",
    "        print(','.join(header))  # Print the header\n",
    "        \n",
    "        # Print the specified number of rows\n",
    "        for _ in range(num_rows):\n",
    "            row = next(csv_reader, None)\n",
    "            if row is None:\n",
    "                break\n",
    "            print(','.join(row))\n",
    "\n",
    "file_path = '/storage/users/sac43cg/res_Samantha_1/outs/per_sample_outs/CTRL_1/metrics_summary.csv'\n",
    "num_rows = 5  # Specify the number of rows to print\n",
    "\n",
    "print_csv_head(file_path, num_rows)"
   ]
  },
  {
   "cell_type": "code",
   "execution_count": 7,
   "id": "a359c905-01da-438b-be9e-784576891926",
   "metadata": {},
   "outputs": [
    {
     "name": "stdout",
     "output_type": "stream",
     "text": [
      "['CTRL_1', 'CTRL_2', 'CTRL_2D', 'GEM_2', 'TGFb1_1', 'TGFb1_2', 'TGFb1_GEM_1', 'TGFb1_GEM_2', 'combined_adata.h5ad', 'filtered_preprocessed_data.h5ad', 'filtered_preprocessed_combined_adata.h5ad', 'annotated_adata.h5ad', 'hvg_adata.h5ad', 'clustered_adata.h5ad']\n"
     ]
    }
   ],
   "source": [
    "# Load the gene expression matrices for each sample\n",
    "print(folder_content)\n"
   ]
  },
  {
   "cell_type": "markdown",
   "id": "bcfa0d4a-b591-4b89-80ed-6455720d3bb7",
   "metadata": {},
   "source": [
    "##### Step 1.2: Unzip the data\n"
   ]
  },
  {
   "cell_type": "code",
   "execution_count": 4,
   "id": "0459be6a-1929-414c-abf9-c6361f7eeb24",
   "metadata": {},
   "outputs": [],
   "source": [
    "import os\n",
    "import gzip\n"
   ]
  },
  {
   "cell_type": "code",
   "execution_count": 8,
   "id": "81c2e0a6-470f-4052-b3ae-cbdb1a8bbd1d",
   "metadata": {},
   "outputs": [
    {
     "name": "stdout",
     "output_type": "stream",
     "text": [
      "/storage/users/sac43cg/res_Samantha_1/outs/per_sample_outs/CTRL_1/count/sample_filtered_feature_bc_matrix\n",
      "/storage/users/sac43cg/res_Samantha_1/outs/per_sample_outs/CTRL_2/count/sample_filtered_feature_bc_matrix\n",
      "/storage/users/sac43cg/res_Samantha_1/outs/per_sample_outs/CTRL_2D/count/sample_filtered_feature_bc_matrix\n",
      "/storage/users/sac43cg/res_Samantha_1/outs/per_sample_outs/GEM_2/count/sample_filtered_feature_bc_matrix\n",
      "/storage/users/sac43cg/res_Samantha_1/outs/per_sample_outs/TGFb1_1/count/sample_filtered_feature_bc_matrix\n",
      "/storage/users/sac43cg/res_Samantha_1/outs/per_sample_outs/TGFb1_2/count/sample_filtered_feature_bc_matrix\n",
      "/storage/users/sac43cg/res_Samantha_1/outs/per_sample_outs/TGFb1_GEM_1/count/sample_filtered_feature_bc_matrix\n",
      "/storage/users/sac43cg/res_Samantha_1/outs/per_sample_outs/TGFb1_GEM_2/count/sample_filtered_feature_bc_matrix\n"
     ]
    }
   ],
   "source": [
    "def unzip_all_gz_files(folder_path):\n",
    "    for file_name in os.listdir(folder_path):\n",
    "        file_path = os.path.join(folder_path, file_name)\n",
    "        \n",
    "\n",
    "        if file_name.endswith('.gz'):\n",
    "            unzipped_file_path = os.path.splitext(file_path)[0]  # Remove the .gz extension\n",
    "            #print(file_path)\n",
    "            with gzip.open(file_path, 'rb') as gz_file:\n",
    "                with open(unzipped_file_path, 'wb') as unzipped_file:\n",
    "                    unzipped_file.write(gz_file.read())\n",
    "            \n",
    "            # Optionally, you can delete the .gz file after unzipping\n",
    "            # os.remove(file_path)\n",
    "\n",
    "\n",
    "samples = folder_content\n",
    "# or\n",
    "samples = ['CTRL_1', 'CTRL_2', 'CTRL_2D', 'GEM_2', 'TGFb1_1', 'TGFb1_2', 'TGFb1_GEM_1', 'TGFb1_GEM_2']\n",
    "for sample in samples:\n",
    "\n",
    "    folder_path = f'/storage/users/sac43cg/res_Samantha_1/outs/per_sample_outs/{sample}/count/sample_filtered_feature_bc_matrix'\n",
    "    df = unzip_all_gz_files(folder_path)\n",
    "\n",
    "    #print(df.head())\n",
    "    print(folder_path)\n",
    "    "
   ]
  },
  {
   "cell_type": "code",
   "execution_count": null,
   "id": "e403890d-97a0-484c-bc1a-7e933040912e",
   "metadata": {},
   "outputs": [],
   "source": []
  },
  {
   "cell_type": "markdown",
   "id": "0f7b4a1a-fe55-43d8-bc81-bcebcd8a74ab",
   "metadata": {},
   "source": [
    "###### Step 1.3: Load the files\n",
    "example\n",
    "\n",
    "https://support.10xgenomics.com/single-cell-gene-expression/software/pipelines/latest/output/matrices"
   ]
  },
  {
   "cell_type": "code",
   "execution_count": 9,
   "id": "303f17a7-3ae2-4b00-bf33-d9c3342f7bc9",
   "metadata": {},
   "outputs": [],
   "source": [
    "from tqdm import tqdm\n",
    "import pandas as pd"
   ]
  },
  {
   "cell_type": "code",
   "execution_count": 10,
   "id": "fa3effbf-f3e4-4bbc-a734-ff4e28c04540",
   "metadata": {},
   "outputs": [],
   "source": [
    "import scipy.io as sio\n",
    "import os"
   ]
  },
  {
   "cell_type": "code",
   "execution_count": 11,
   "id": "3a2b04b8-ad54-4380-93cb-c4c8560fe4bf",
   "metadata": {},
   "outputs": [],
   "source": [
    "import anndata as ad"
   ]
  },
  {
   "cell_type": "code",
   "execution_count": 12,
   "id": "07988078-9da2-4aad-b9ad-e24c5e6deb64",
   "metadata": {},
   "outputs": [],
   "source": [
    "import scanpy as sc"
   ]
  },
  {
   "cell_type": "code",
   "execution_count": 13,
   "id": "b5e977c1-eb38-4322-ac54-bf5d76761698",
   "metadata": {},
   "outputs": [
    {
     "name": "stdout",
     "output_type": "stream",
     "text": [
      "/bin/bash: line 1: conda: command not found\n"
     ]
    }
   ],
   "source": [
    "!conda list"
   ]
  },
  {
   "cell_type": "code",
   "execution_count": 14,
   "id": "6984bc9a-8882-4e9f-9298-fe0c28ebd2c2",
   "metadata": {},
   "outputs": [],
   "source": [
    "#adata = ad.AnnData()\n",
    "adata_list = []"
   ]
  },
  {
   "cell_type": "code",
   "execution_count": 15,
   "id": "0068dc39-591a-44cd-a4ee-ecc3ffe3c703",
   "metadata": {},
   "outputs": [],
   "source": [
    "combined_adata = ad.AnnData()"
   ]
  },
  {
   "cell_type": "code",
   "execution_count": 17,
   "id": "0914b63f-cf7f-402c-a037-a8cf7a8f56f0",
   "metadata": {},
   "outputs": [],
   "source": [
    "#samples = ['sample1', 'sample2']  # Add more sample names if needed\n",
    "conditions = folder_content\n",
    "conditions = samples\n",
    "#pwd /storage/users/sac43cg/res_Samantha/outs/per_sample_outs/CTRL_1/count/sample_filtered_feature_bc_matrix\n",
    "\n",
    "# Create an empty list to store the AnnData objects\n",
    "adata_list = []\n",
    "barcodes_list = []\n",
    "features_list = []\n",
    "matrix_list = []\n",
    "#combined_adata = []\n",
    "\n",
    "for condition in conditions:\n",
    "           \n",
    "    # Define the file paths\n",
    "    base_path = f'/storage/users/sac43cg/res_Samantha_1/outs/per_sample_outs/{condition}/count/sample_filtered_feature_bc_matrix/'  # Replace with the actual path to your data\n",
    "\n",
    "    barcodes_file = os.path.join(base_path, 'barcodes.tsv')\n",
    "    features_file = os.path.join(base_path, 'features.tsv')\n",
    "    matrix_file = os.path.join(base_path, 'matrix.mtx')\n",
    "\n",
    "    # Read the barcodes.tsv file\n",
    "    barcodes = pd.read_csv(barcodes_file, header=None, index_col=0, names=['barcode'])\n",
    "\n",
    "    # Read the features.tsv file\n",
    "    features = pd.read_csv(features_file, sep='\\t', header=None, index_col=0, names=['feature_id', 'symbol', 'type'])\n",
    "    # get only gene expression features\n",
    "    #features = features[features['type'] == 'gene expression']\n",
    "\n",
    "    # Read the matrix.mtx file\n",
    "    matrix = sio.mmread(matrix_file)\n",
    "\n",
    "    # Create the AnnData object\n",
    "    adata = ad.AnnData(X=matrix.T, obs=barcodes, var=features)\n",
    "    \n",
    "    # Add a column to the observation metadata to indicate the condition\n",
    "    adata.obs['condition'] = condition\n",
    "    #adata.varm['ensembl'] = features['feature_id']\n",
    "    #adata.varp['symbol'] = features['symbol']\n",
    "    #adata.varp['type'] = features['type']\n",
    "    #adata.varm['condition'] = condition\n",
    "\n",
    "    # Optional: If you have additional annotations for cells or features, you can add them to the AnnData object as well.\n",
    "    # For example, if you have a file called 'annotations.csv' with additional cell annotations:\n",
    "    #annotations_file = os.path.join(base_path, 'annotations.csv')\n",
    "    #annotations = pd.read_csv(annotations_file, index_col=0)\n",
    "    # Add cell annotations\n",
    "    #adata.obs = adata.obs.merge(annotations, left_index=True, right_index=True)\n",
    "\n",
    "    # Append the AnnData object to the list\n",
    "    adata_list.append(adata)\n",
    "    features['condition'] = condition\n",
    "    features_list.append(features)\n",
    "        \n",
    "    \n",
    "# Combine all the AnnData objects into a single AnnData object\n",
    "combined_adata = ad.concat(adata_list, join='outer')\n",
    "\n",
    "# Rename duplicate variable and observation names\n",
    "#combined_adata.var_names_make_unique()\n",
    "#combined_adata.obs_names_make_unique()\n",
    "\n",
    "\n"
   ]
  },
  {
   "cell_type": "code",
   "execution_count": 18,
   "id": "320de379-0759-4f59-82f5-df14393881c0",
   "metadata": {},
   "outputs": [],
   "source": [
    "combined_adata.write('/storage/users/sac43cg/res_Samantha_1/outs/per_sample_outs/combined_adata.h5ad')"
   ]
  },
  {
   "cell_type": "code",
   "execution_count": 19,
   "id": "316eafc6-ce6f-402f-8baf-5b215d469eb1",
   "metadata": {
    "scrolled": true
   },
   "outputs": [],
   "source": [
    "#Step 1.3.1: Check the new adata (.h5ad) file\n"
   ]
  },
  {
   "cell_type": "code",
   "execution_count": 20,
   "id": "b6cb4b82-9f17-49cd-99c9-e81b2dba73f6",
   "metadata": {},
   "outputs": [
    {
     "name": "stdout",
     "output_type": "stream",
     "text": [
      "Observation annotations:\n",
      "                   condition\n",
      "barcode                     \n",
      "AAACCCAGTAGGCTCC-1    CTRL_1\n",
      "AAACCCAGTCGCAACC-1    CTRL_1\n",
      "AAACCCATCCACAAGT-1    CTRL_1\n",
      "AAACGCTTCACTACGA-1    CTRL_1\n",
      "AAACGCTTCAGCCTCT-1    CTRL_1\n",
      "\n",
      "Variable annotations:\n",
      "Empty DataFrame\n",
      "Columns: []\n",
      "Index: [ENSG00000243485, ENSG00000237613, ENSG00000186092, ENSG00000238009, ENSG00000239945]\n",
      "\n",
      "Variable annotations:\n",
      "AxisArrays with keys: \n",
      "\n",
      "Variable features:\n",
      "                      symbol             type    condition\n",
      "feature_id                                                \n",
      "ENSG00000243485  MIR1302-2HG  Gene Expression  TGFb1_GEM_2\n",
      "ENSG00000237613      FAM138A  Gene Expression  TGFb1_GEM_2\n",
      "ENSG00000186092        OR4F5  Gene Expression  TGFb1_GEM_2\n",
      "ENSG00000238009   AL627309.1  Gene Expression  TGFb1_GEM_2\n",
      "ENSG00000239945   AL627309.3  Gene Expression  TGFb1_GEM_2\n",
      "['Gene Expression' 'Multiplexing Capture']\n",
      "\n",
      "Number of observations (cells): 11919\n",
      "Number of variables (features): 36613\n"
     ]
    }
   ],
   "source": [
    "# Print the annotations\n",
    "print(\"Observation annotations:\")\n",
    "print(combined_adata.obs.head())  # Print the first few rows of observation annotations\n",
    "\n",
    "print(\"\\nVariable annotations:\")\n",
    "print(combined_adata.var.head())  # Print the first few rows of variable annotations\n",
    "\n",
    "print(\"\\nVariable annotations:\")\n",
    "print(combined_adata.varm)  # Print the first few rows of variable annotations\n",
    "\n",
    "print(\"\\nVariable features:\")\n",
    "print(features.head())\n",
    "print(features['type'].unique())\n",
    "\n",
    "# Print the dimensions\n",
    "print(\"\\nNumber of observations (cells):\", combined_adata.n_obs)\n",
    "print(\"Number of variables (features):\", combined_adata.n_vars)\n",
    "\n"
   ]
  },
  {
   "cell_type": "code",
   "execution_count": 29,
   "id": "9badff2e-7100-4f98-9b54-8aea5633a28d",
   "metadata": {},
   "outputs": [
    {
     "name": "stdout",
     "output_type": "stream",
     "text": [
      "Observation annotations:\n",
      "                   condition\n",
      "barcode                     \n",
      "AAACCCAGTAGGCTCC-1    CTRL_1\n",
      "AAACCCAGTCGCAACC-1    CTRL_1\n",
      "AAACCCATCCACAAGT-1    CTRL_1\n",
      "AAACGCTTCACTACGA-1    CTRL_1\n",
      "AAACGCTTCAGCCTCT-1    CTRL_1\n",
      "\n",
      "Variable annotations:\n",
      "Empty DataFrame\n",
      "Columns: []\n",
      "Index: [ENSG00000243485, ENSG00000237613, ENSG00000186092, ENSG00000238009, ENSG00000239945]\n",
      "Condition: CTRL_1\n",
      "\n",
      "Number of features: 36613\n",
      "\n",
      "Number of barcodes: 2973\n",
      "\n",
      "\n",
      "Observation annotations:\n",
      "                   condition\n",
      "barcode                     \n",
      "AAAGGATGTAGGAGTC-1    CTRL_2\n",
      "AAAGGGCCACATACGT-1    CTRL_2\n",
      "AAAGGGCGTTGAGAGC-1    CTRL_2\n",
      "AAAGGTACAGAGCTAG-1    CTRL_2\n",
      "AAAGGTAGTAGAGACC-1    CTRL_2\n",
      "\n",
      "Variable annotations:\n",
      "Empty DataFrame\n",
      "Columns: []\n",
      "Index: [ENSG00000243485, ENSG00000237613, ENSG00000186092, ENSG00000238009, ENSG00000239945]\n",
      "Condition: CTRL_2\n",
      "\n",
      "Number of features: 36613\n",
      "\n",
      "Number of barcodes: 450\n",
      "\n",
      "\n",
      "Observation annotations:\n",
      "                   condition\n",
      "barcode                     \n",
      "AAACCCAAGAGGTATT-1   CTRL_2D\n",
      "AAACCCAAGGATCACG-1   CTRL_2D\n",
      "AAACCCAAGGGCCCTT-1   CTRL_2D\n",
      "AAACCCAGTGCCCAGT-1   CTRL_2D\n",
      "AAACGAAAGATTCGCT-1   CTRL_2D\n",
      "\n",
      "Variable annotations:\n",
      "Empty DataFrame\n",
      "Columns: []\n",
      "Index: [ENSG00000243485, ENSG00000237613, ENSG00000186092, ENSG00000238009, ENSG00000239945]\n",
      "Condition: CTRL_2D\n",
      "\n",
      "Number of features: 36613\n",
      "\n",
      "Number of barcodes: 4819\n",
      "\n",
      "\n",
      "Observation annotations:\n",
      "                   condition\n",
      "barcode                     \n",
      "AAAGTCCAGATTACCC-1     GEM_2\n",
      "AAAGTCCAGCTTCATG-1     GEM_2\n",
      "AAAGTGACAGACACAG-1     GEM_2\n",
      "AACAAAGAGGTATCTC-1     GEM_2\n",
      "AACAACCTCACACGAT-1     GEM_2\n",
      "\n",
      "Variable annotations:\n",
      "Empty DataFrame\n",
      "Columns: []\n",
      "Index: [ENSG00000243485, ENSG00000237613, ENSG00000186092, ENSG00000238009, ENSG00000239945]\n",
      "Condition: GEM_2\n",
      "\n",
      "Number of features: 36613\n",
      "\n",
      "Number of barcodes: 422\n",
      "\n",
      "\n",
      "Observation annotations:\n",
      "                   condition\n",
      "barcode                     \n",
      "AAACCCACACTTTATC-1   TGFb1_1\n",
      "AAACCCACAGCTGGTC-1   TGFb1_1\n",
      "AAACCCATCTCGTTTA-1   TGFb1_1\n",
      "AAACGAAAGAGTTCGG-1   TGFb1_1\n",
      "AAACGAAAGTAATTGG-1   TGFb1_1\n",
      "\n",
      "Variable annotations:\n",
      "Empty DataFrame\n",
      "Columns: []\n",
      "Index: [ENSG00000243485, ENSG00000237613, ENSG00000186092, ENSG00000238009, ENSG00000239945]\n",
      "Condition: TGFb1_1\n",
      "\n",
      "Number of features: 36613\n",
      "\n",
      "Number of barcodes: 2025\n",
      "\n",
      "\n",
      "Observation annotations:\n",
      "                   condition\n",
      "barcode                     \n",
      "AAACGCTCAGTTTCAG-1   TGFb1_2\n",
      "AAAGAACGTCAAGTTC-1   TGFb1_2\n",
      "AAAGGGCTCGCCAGTG-1   TGFb1_2\n",
      "AAAGGTATCAAGGACG-1   TGFb1_2\n",
      "AAAGTCCCAACCTATG-1   TGFb1_2\n",
      "\n",
      "Variable annotations:\n",
      "Empty DataFrame\n",
      "Columns: []\n",
      "Index: [ENSG00000243485, ENSG00000237613, ENSG00000186092, ENSG00000238009, ENSG00000239945]\n",
      "Condition: TGFb1_2\n",
      "\n",
      "Number of features: 36613\n",
      "\n",
      "Number of barcodes: 359\n",
      "\n",
      "\n",
      "Observation annotations:\n",
      "                      condition\n",
      "barcode                        \n",
      "AAACGAATCGGCTATA-1  TGFb1_GEM_1\n",
      "AACAAGACACGTCGGT-1  TGFb1_GEM_1\n",
      "AACAAGATCTCAGTCC-1  TGFb1_GEM_1\n",
      "AACCAACAGCGGATCA-1  TGFb1_GEM_1\n",
      "AACGTCAGTGGTTCTA-1  TGFb1_GEM_1\n",
      "\n",
      "Variable annotations:\n",
      "Empty DataFrame\n",
      "Columns: []\n",
      "Index: [ENSG00000243485, ENSG00000237613, ENSG00000186092, ENSG00000238009, ENSG00000239945]\n",
      "Condition: TGFb1_GEM_1\n",
      "\n",
      "Number of features: 36613\n",
      "\n",
      "Number of barcodes: 386\n",
      "\n",
      "\n",
      "Observation annotations:\n",
      "                      condition\n",
      "barcode                        \n",
      "AAACCCATCAACGTGT-1  TGFb1_GEM_2\n",
      "AAACGCTAGGAGTACC-1  TGFb1_GEM_2\n",
      "AAAGGTAAGGTATAGT-1  TGFb1_GEM_2\n",
      "AAAGTCCCATGTGCCG-1  TGFb1_GEM_2\n",
      "AACCAACAGCCATCCG-1  TGFb1_GEM_2\n",
      "\n",
      "Variable annotations:\n",
      "Empty DataFrame\n",
      "Columns: []\n",
      "Index: [ENSG00000243485, ENSG00000237613, ENSG00000186092, ENSG00000238009, ENSG00000239945]\n",
      "Condition: TGFb1_GEM_2\n",
      "\n",
      "Number of features: 36613\n",
      "\n",
      "Number of barcodes: 485\n",
      "\n",
      "\n"
     ]
    }
   ],
   "source": [
    "# Iterate over each condition\n",
    "for condition in combined_adata.obs['condition'].unique():\n",
    "    condition_adata = combined_adata[combined_adata.obs['condition'] == condition]\n",
    "    \n",
    "    # Get the number of features and barcodes for the current condition\n",
    "    num_features = condition_adata.n_vars\n",
    "    num_barcodes = condition_adata.n_obs\n",
    "    \n",
    "    print(\"Observation annotations:\")\n",
    "    print(condition_adata.obs.head())  # Print the first few rows of observation annotations\n",
    "    \n",
    "    print(\"\\nVariable annotations:\")\n",
    "    print(condition_adata.var.head())  # Print the first few rows of variable annotations\n",
    "    \n",
    "    # Write the condition name, number of features, and number of barcodes to the file\n",
    "    print(f\"Condition: {condition}\\n\")\n",
    "    print(f\"Number of features: {num_features}\\n\")\n",
    "    print(f\"Number of barcodes: {num_barcodes}\\n\\n\")\n",
    "\n",
    "# Close the file"
   ]
  },
  {
   "cell_type": "code",
   "execution_count": 30,
   "id": "99d91a27-f56c-452a-b16c-42c58ee4a70e",
   "metadata": {
    "scrolled": true
   },
   "outputs": [
    {
     "name": "stdout",
     "output_type": "stream",
     "text": [
      "<class 'pandas.core.frame.DataFrame'>\n",
      "<class 'pandas.core.frame.DataFrame'>\n",
      "<class 'anndata._core.anndata.AnnData'>\n",
      "\n",
      "\n"
     ]
    }
   ],
   "source": [
    "print(type(barcodes))\n",
    "print(type(features))\n",
    "print(type(adata))\n",
    "print('\\n')\n"
   ]
  },
  {
   "cell_type": "code",
   "execution_count": 31,
   "id": "64e023a4-d261-4823-917e-5c1874018153",
   "metadata": {},
   "outputs": [
    {
     "name": "stdout",
     "output_type": "stream",
     "text": [
      "\n",
      " (485, 0)\n",
      "\n",
      " (36613, 3)\n",
      "\n",
      " (11919, 36613)\n",
      "\n",
      " (36613, 485)\n"
     ]
    }
   ],
   "source": [
    "dimensions = barcodes.shape\n",
    "print('\\n' , dimensions)\n",
    "dimensions = features.shape\n",
    "print('\\n' , dimensions)\n",
    "dimensions = combined_adata.shape\n",
    "print('\\n' , dimensions)\n",
    "dimensions = matrix.shape\n",
    "print('\\n' , dimensions)"
   ]
  },
  {
   "cell_type": "markdown",
   "id": "c3926081-6f61-46fb-8159-c8576d41d7b2",
   "metadata": {},
   "source": [
    "### end of loading"
   ]
  },
  {
   "cell_type": "code",
   "execution_count": null,
   "id": "9bf39e51-3975-4086-9242-993d02e92d60",
   "metadata": {},
   "outputs": [],
   "source": []
  }
 ],
 "metadata": {
  "kernelspec": {
   "display_name": "Shared Environment3",
   "language": "python",
   "name": "shared3"
  },
  "language_info": {
   "codemirror_mode": {
    "name": "ipython",
    "version": 3
   },
   "file_extension": ".py",
   "mimetype": "text/x-python",
   "name": "python",
   "nbconvert_exporter": "python",
   "pygments_lexer": "ipython3",
   "version": "3.9.17"
  }
 },
 "nbformat": 4,
 "nbformat_minor": 5
}
