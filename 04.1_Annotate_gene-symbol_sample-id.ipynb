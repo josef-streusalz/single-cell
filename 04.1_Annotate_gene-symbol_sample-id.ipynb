{
 "cells": [
  {
   "cell_type": "code",
   "execution_count": null,
   "id": "89227100-2b3a-420d-86bb-fb5b8f421bf5",
   "metadata": {},
   "outputs": [],
   "source": []
  },
  {
   "cell_type": "markdown",
   "id": "fb45c20c-6ee3-4248-9d3b-360bd9b7eaef",
   "metadata": {},
   "source": [
    "# Translate the Ensembl Gene IDs of the data object into Gene Symbols and add as key, var, or obs"
   ]
  },
  {
   "cell_type": "markdown",
   "id": "ae476931-5890-4be4-88e1-2d621ce7468d",
   "metadata": {},
   "source": [
    "## Load adata after processing by 01 to 04"
   ]
  },
  {
   "cell_type": "code",
   "execution_count": 3,
   "id": "9f269a46-9248-46e2-a773-21c0aee1c254",
   "metadata": {},
   "outputs": [],
   "source": [
    "import scanpy as sc\n",
    "import matplotlib.pyplot as plt\n",
    "import anndata as ad\n"
   ]
  },
  {
   "cell_type": "code",
   "execution_count": 23,
   "id": "938309bb-e1dc-46aa-98c6-666d32ad8f5b",
   "metadata": {},
   "outputs": [],
   "source": [
    "import pandas as pd"
   ]
  },
  {
   "cell_type": "code",
   "execution_count": 4,
   "id": "a398ab92-1788-4731-8935-bc17c9f63001",
   "metadata": {},
   "outputs": [],
   "source": [
    "#adata = sc.read(\"/storage/users/sac43cg/res_Samantha_1/outs/per_sample_outs/clustered_adata.h5ad\")\n",
    "#adata = sc.read(\"/storage/users/sac43cg/res_Samantha_1/outs/per_sample_outs/filtered_preprocessed_combined_adata.h5ad\")\n",
    "#adata = sc.read(\"/storage/users/sac43cg/res_Samantha_1/outs/per_sample_outs/hvg_adata.h5ad\")\n",
    "adata = sc.read(\"/storage/users/sac43cg/res_Samantha_1/outs/per_sample_outs/cellcycle_adata.h5ad\")\n",
    "#adata = sc.read(\"/storage/users/sac43cg/res_Samantha_1/outs/h5as_files/adata_neu.h5ad\")  # Replace with your data file"
   ]
  },
  {
   "cell_type": "code",
   "execution_count": 5,
   "id": "d955d2b9-d718-4961-bae9-ff1bc42fbb6c",
   "metadata": {},
   "outputs": [
    {
     "data": {
      "text/plain": [
       "AnnData object with n_obs × n_vars = 10837 × 2000\n",
       "    obs: 'condition', 'n_genes_by_counts', 'log1p_n_genes_by_counts', 'total_counts', 'log1p_total_counts', 'pct_counts_in_top_50_genes', 'pct_counts_in_top_100_genes', 'pct_counts_in_top_200_genes', 'pct_counts_in_top_500_genes', 'pct_cmo', 'total_counts_mito', 'log1p_total_counts_mito', 'pct_counts_mito', 'total_counts_ribo', 'log1p_total_counts_ribo', 'pct_counts_ribo', 'leiden', 'leiden_combined', 'louvain', 'louvain_combined', 'S_score', 'G2M_score', 'phase'\n",
       "    var: 'n_cells_by_counts', 'mean_counts', 'log1p_mean_counts', 'pct_dropout_by_counts', 'total_counts', 'log1p_total_counts', 'CMO', 'mito', 'ribo', 'highly_variable', 'means', 'dispersions', 'dispersions_norm', 'is_s_gene', 'is_g2m_gene', 'mean', 'std'\n",
       "    uns: 'condition_colors', 'hvg', 'leiden', 'leiden_combined_colors', 'log1p', 'louvain', 'louvain_combined_colors', 'neighbors', 'pca', 'phase_colors', 'umap'\n",
       "    obsm: 'X_pca', 'X_umap'\n",
       "    varm: 'PCs'\n",
       "    obsp: 'connectivities', 'distances'"
      ]
     },
     "execution_count": 5,
     "metadata": {},
     "output_type": "execute_result"
    }
   ],
   "source": [
    "adata"
   ]
  },
  {
   "cell_type": "markdown",
   "id": "ccbf6e10-2cec-4a98-a4c0-8b730748a805",
   "metadata": {},
   "source": [
    "#### Create dictionary"
   ]
  },
  {
   "cell_type": "code",
   "execution_count": 6,
   "id": "05e798e5-d00e-49c7-9f91-721eeb05f73f",
   "metadata": {},
   "outputs": [],
   "source": [
    "from biomart import BiomartServer\n",
    "\n",
    "# Connect to the BioMart server\n",
    "server = BiomartServer(\"http://ensembl.org/biomart\")\n",
    "\n",
    "# Select the human genes dataset\n",
    "dataset = server.datasets['hsapiens_gene_ensembl']\n",
    "\n",
    "# Query BioMart to get the translation from Ensembl ID to gene symbol\n",
    "response = dataset.search({\n",
    "    'attributes': ['ensembl_gene_id', 'external_gene_name'],\n",
    "})\n",
    "\n",
    "# Initialize an empty dictionary to store the mapping\n",
    "ensembl_to_gene_name = {}\n",
    "\n",
    "# Iterate through the response lines\n",
    "for line in response.iter_lines():\n",
    "    # Decode the line and split it into Ensembl ID and gene name\n",
    "    decoded_line = line.decode('utf-8')\n",
    "    ensembl_id, gene_name = decoded_line.split('\\t')\n",
    "    \n",
    "    # Store the mapping in the dictionary\n",
    "    ensembl_to_gene_name[ensembl_id] = gene_name\n",
    "\n",
    "# Now, ensembl_to_gene_name is a dictionary with Ensembl IDs as keys and gene names as values.\n"
   ]
  },
  {
   "cell_type": "markdown",
   "id": "0d0ebafe-e06f-4716-b643-b54f4d77b25d",
   "metadata": {},
   "source": [
    "## Name Var_names or var->gene.symbol"
   ]
  },
  {
   "cell_type": "code",
   "execution_count": 7,
   "id": "e7dec600-2da0-4e89-a0fc-223a809be638",
   "metadata": {},
   "outputs": [],
   "source": [
    "adata.var['gene_symbol'] = [ensembl_to_gene_name.get(gene_id, 'NA') for gene_id in adata.var_names]"
   ]
  },
  {
   "cell_type": "code",
   "execution_count": 8,
   "id": "c0b12f26-4e74-4b4c-8bfd-ef1bc83fa5b9",
   "metadata": {},
   "outputs": [],
   "source": [
    "adata.var_names = [ensembl_to_gene_name.get(gene_id, gene_id) for gene_id in adata.var_names]"
   ]
  },
  {
   "cell_type": "code",
   "execution_count": 9,
   "id": "0522817d-f8cd-455e-81ed-c44e55c45778",
   "metadata": {},
   "outputs": [
    {
     "data": {
      "text/plain": [
       "AnnData object with n_obs × n_vars = 10837 × 2000\n",
       "    obs: 'condition', 'n_genes_by_counts', 'log1p_n_genes_by_counts', 'total_counts', 'log1p_total_counts', 'pct_counts_in_top_50_genes', 'pct_counts_in_top_100_genes', 'pct_counts_in_top_200_genes', 'pct_counts_in_top_500_genes', 'pct_cmo', 'total_counts_mito', 'log1p_total_counts_mito', 'pct_counts_mito', 'total_counts_ribo', 'log1p_total_counts_ribo', 'pct_counts_ribo', 'leiden', 'leiden_combined', 'louvain', 'louvain_combined', 'S_score', 'G2M_score', 'phase'\n",
       "    var: 'n_cells_by_counts', 'mean_counts', 'log1p_mean_counts', 'pct_dropout_by_counts', 'total_counts', 'log1p_total_counts', 'CMO', 'mito', 'ribo', 'highly_variable', 'means', 'dispersions', 'dispersions_norm', 'is_s_gene', 'is_g2m_gene', 'mean', 'std', 'gene_symbol'\n",
       "    uns: 'condition_colors', 'hvg', 'leiden', 'leiden_combined_colors', 'log1p', 'louvain', 'louvain_combined_colors', 'neighbors', 'pca', 'phase_colors', 'umap'\n",
       "    obsm: 'X_pca', 'X_umap'\n",
       "    varm: 'PCs'\n",
       "    obsp: 'connectivities', 'distances'"
      ]
     },
     "execution_count": 9,
     "metadata": {},
     "output_type": "execute_result"
    }
   ],
   "source": [
    "adata"
   ]
  },
  {
   "cell_type": "code",
   "execution_count": 10,
   "id": "4ec33835-9585-49c6-babd-a4b3ddf0c2c1",
   "metadata": {},
   "outputs": [
    {
     "data": {
      "text/plain": [
       "HES4              HES4\n",
       "ISG15            ISG15\n",
       "C1QTNF12      C1QTNF12\n",
       "TNFRSF9        TNFRSF9\n",
       "LINC01647    LINC01647\n",
       "               ...    \n",
       "MT-ND4L        MT-ND4L\n",
       "MT-ND4          MT-ND4\n",
       "MT-ND5          MT-ND5\n",
       "MT-ND6          MT-ND6\n",
       "MT-CYB          MT-CYB\n",
       "Name: gene_symbol, Length: 2000, dtype: object"
      ]
     },
     "execution_count": 10,
     "metadata": {},
     "output_type": "execute_result"
    }
   ],
   "source": [
    "# optional\n",
    "adata.var['gene_symbol']"
   ]
  },
  {
   "cell_type": "code",
   "execution_count": 11,
   "id": "35e5314b-317d-4a1c-8564-1f0ae325d167",
   "metadata": {},
   "outputs": [
    {
     "data": {
      "text/plain": [
       "Index(['HES4', 'ISG15', 'C1QTNF12', 'TNFRSF9', 'LINC01647', 'KAZN',\n",
       "       'SLC25A34-AS1', 'TMEM82', 'MFAP2', 'PADI2',\n",
       "       ...\n",
       "       'MT-CO1', 'MT-CO2', 'MT-ATP8', 'MT-ATP6', 'MT-CO3', 'MT-ND4L', 'MT-ND4',\n",
       "       'MT-ND5', 'MT-ND6', 'MT-CYB'],\n",
       "      dtype='object', length=2000)"
      ]
     },
     "execution_count": 11,
     "metadata": {},
     "output_type": "execute_result"
    }
   ],
   "source": [
    "adata.var_names"
   ]
  },
  {
   "cell_type": "markdown",
   "id": "a16c6423-82ad-4a4f-8a62-4777d0cd2364",
   "metadata": {},
   "source": [
    "## Names Sample IDs as obs"
   ]
  },
  {
   "cell_type": "code",
   "execution_count": 12,
   "id": "425a1775-058b-47cd-a13c-f69e89157889",
   "metadata": {},
   "outputs": [
    {
     "data": {
      "text/plain": [
       "Index(['AAACCCAGTAGGCTCC-1', 'AAACCCAGTCGCAACC-1', 'AAACCCATCCACAAGT-1',\n",
       "       'AAACGCTTCACTACGA-1', 'AAACGCTTCAGCCTCT-1', 'AAAGAACAGATACAGT-1',\n",
       "       'AAAGAACAGCCTCGTG-1', 'AAAGAACAGTAATCCC-1', 'AAAGAACCAACATCGT-1',\n",
       "       'AAAGAACGTCGCGGTT-1',\n",
       "       ...\n",
       "       'TTGTGGATCTAGCAAC-1', 'TTGTTCACAGGTCAAG-1', 'TTGTTTGAGCTCATAC-1',\n",
       "       'TTTACGTTCAAGGCTT-1', 'TTTACTGCAGCTACAT-1', 'TTTACTGTCATTACTC-1',\n",
       "       'TTTCACAGTGATATAG-1', 'TTTCACATCGATGCAT-1', 'TTTCATGTCCCTCTAG-1',\n",
       "       'TTTGACTGTTCCGGTG-1'],\n",
       "      dtype='object', name='barcode', length=10837)"
      ]
     },
     "execution_count": 12,
     "metadata": {},
     "output_type": "execute_result"
    }
   ],
   "source": [
    "adata.obs_names"
   ]
  },
  {
   "cell_type": "markdown",
   "id": "4eb2483d-bbb9-4eed-ab30-2db03d5c6854",
   "metadata": {},
   "source": [
    "### Build a new Index by combining Barcode and Conditions"
   ]
  },
  {
   "cell_type": "code",
   "execution_count": 13,
   "id": "3919aae0-477b-4ca6-9b48-c29fa58c4145",
   "metadata": {},
   "outputs": [],
   "source": [
    "#df = pd.DataFrame(adata.X, index=adata.obs.index, columns=adata.var.index)"
   ]
  },
  {
   "cell_type": "code",
   "execution_count": 14,
   "id": "23586f80-cc56-4363-8fe5-b1f38a6b8954",
   "metadata": {},
   "outputs": [],
   "source": [
    "#df.index = df.index + '_' + adata.obs['conditions'].values\n"
   ]
  },
  {
   "cell_type": "code",
   "execution_count": 15,
   "id": "0a63db23-18ff-4735-a0b6-1b2de11876e6",
   "metadata": {},
   "outputs": [],
   "source": [
    "def short_hash(input_string, length=8):\n",
    "    \"\"\"Get a shorter hash representation of the input string.\"\"\"\n",
    "    return str(hash(input_string))[:length]"
   ]
  },
  {
   "cell_type": "code",
   "execution_count": 16,
   "id": "f874bed8-7212-4d2c-9231-d739de624fbe",
   "metadata": {},
   "outputs": [],
   "source": [
    "adata.obs['index'] = [short_hash(name) for name in adata.obs_names]"
   ]
  },
  {
   "cell_type": "code",
   "execution_count": 17,
   "id": "0febab27-f777-4b85-92e9-d69b26cd7842",
   "metadata": {},
   "outputs": [],
   "source": [
    "adata.obs['IDs'] = [f\"{condition}_{name}\" for condition, name in zip(adata.obs['condition'], adata.obs['index'] )]"
   ]
  },
  {
   "cell_type": "code",
   "execution_count": 18,
   "id": "1324cb46-d097-43c2-80fb-801938bae17d",
   "metadata": {},
   "outputs": [],
   "source": [
    "#optional\n",
    "adata.obs_names = adata.obs['IDs']"
   ]
  },
  {
   "cell_type": "code",
   "execution_count": 19,
   "id": "0778265e-939b-4945-9b10-c7504b8611db",
   "metadata": {},
   "outputs": [
    {
     "data": {
      "text/plain": [
       "IDs\n",
       "CTRL_1_69505533              CTRL_1_69505533\n",
       "CTRL_1_57292812              CTRL_1_57292812\n",
       "CTRL_1_-7137068              CTRL_1_-7137068\n",
       "CTRL_1_10527883              CTRL_1_10527883\n",
       "CTRL_1_51088425              CTRL_1_51088425\n",
       "                                ...         \n",
       "TGFb1_GEM_2_24816592    TGFb1_GEM_2_24816592\n",
       "TGFb1_GEM_2_16615797    TGFb1_GEM_2_16615797\n",
       "TGFb1_GEM_2_88051030    TGFb1_GEM_2_88051030\n",
       "TGFb1_GEM_2_-2734503    TGFb1_GEM_2_-2734503\n",
       "TGFb1_GEM_2_-1866562    TGFb1_GEM_2_-1866562\n",
       "Name: IDs, Length: 10837, dtype: object"
      ]
     },
     "execution_count": 19,
     "metadata": {},
     "output_type": "execute_result"
    }
   ],
   "source": [
    "adata.obs['IDs']"
   ]
  },
  {
   "cell_type": "code",
   "execution_count": 20,
   "id": "610e33e7-ed44-4d9b-86a5-ba037b88ada2",
   "metadata": {},
   "outputs": [
    {
     "data": {
      "text/plain": [
       "Index(['CTRL_1_69505533', 'CTRL_1_57292812', 'CTRL_1_-7137068',\n",
       "       'CTRL_1_10527883', 'CTRL_1_51088425', 'CTRL_1_21946080',\n",
       "       'CTRL_1_-3450445', 'CTRL_1_58921981', 'CTRL_1_-7803235',\n",
       "       'CTRL_1_86862279',\n",
       "       ...\n",
       "       'TGFb1_GEM_2_20650838', 'TGFb1_GEM_2_-2818654', 'TGFb1_GEM_2_13723599',\n",
       "       'TGFb1_GEM_2_23092216', 'TGFb1_GEM_2_27754323', 'TGFb1_GEM_2_24816592',\n",
       "       'TGFb1_GEM_2_16615797', 'TGFb1_GEM_2_88051030', 'TGFb1_GEM_2_-2734503',\n",
       "       'TGFb1_GEM_2_-1866562'],\n",
       "      dtype='object', name='IDs', length=10837)"
      ]
     },
     "execution_count": 20,
     "metadata": {},
     "output_type": "execute_result"
    }
   ],
   "source": [
    "adata.obs_names"
   ]
  },
  {
   "cell_type": "code",
   "execution_count": 21,
   "id": "43e1e7c9-bf98-49bb-957e-9f21e3c1235d",
   "metadata": {},
   "outputs": [
    {
     "data": {
      "text/plain": [
       "Index(['HES4', 'ISG15', 'C1QTNF12', 'TNFRSF9', 'LINC01647', 'KAZN',\n",
       "       'SLC25A34-AS1', 'TMEM82', 'MFAP2', 'PADI2',\n",
       "       ...\n",
       "       'MT-CO1', 'MT-CO2', 'MT-ATP8', 'MT-ATP6', 'MT-CO3', 'MT-ND4L', 'MT-ND4',\n",
       "       'MT-ND5', 'MT-ND6', 'MT-CYB'],\n",
       "      dtype='object', length=2000)"
      ]
     },
     "execution_count": 21,
     "metadata": {},
     "output_type": "execute_result"
    }
   ],
   "source": [
    "adata.var_names"
   ]
  },
  {
   "cell_type": "markdown",
   "id": "0c4adcfe-1d7e-4382-9ae4-2df35e6ec73e",
   "metadata": {},
   "source": [
    "## Export"
   ]
  },
  {
   "cell_type": "code",
   "execution_count": 22,
   "id": "2d9952fa-3997-4d96-8c62-296906ac5a3f",
   "metadata": {},
   "outputs": [],
   "source": [
    "#adata.write('/storage/users/sac43cg/res_Samantha_1/outs/per_sample_outs/annotated_adata.h5ad')\n",
    "adata.write('/storage/users/sac43cg/res_Samantha_1/outs/per_sample_outs/annotated_cellcycle_adata.h5ad')"
   ]
  },
  {
   "cell_type": "markdown",
   "id": "d1dad8b9-dce5-40de-911a-42d994cb6f4b",
   "metadata": {},
   "source": [
    "# Snippets"
   ]
  },
  {
   "cell_type": "markdown",
   "id": "c8797cf6-8d69-40c0-9cb9-e64a8f855b0f",
   "metadata": {},
   "source": [
    "## If you have a dictionary of Ensembl you can extratc the counts matrix and annotate \n",
    "## the columns and rows with a Sample ID and Gene Symbols"
   ]
  },
  {
   "cell_type": "code",
   "execution_count": null,
   "id": "de6f1964-9beb-4f6d-827a-e429cb55446e",
   "metadata": {},
   "outputs": [],
   "source": [
    "# 1. Extracting data\n",
    "df = pd.DataFrame(adata.X, index=adata.obs.index, columns=adata.var.index)\n",
    "\n",
    "# 2. Combining barcodes and conditions\n",
    "df.index = df.index + '_' + adata.obs['conditions'].values\n",
    "\n",
    "# 3. Translate Ensembl IDs to Gene Symbols\n",
    "# Assuming ensembl_to_symbol is your dictionary of Ensembl ID -> Gene Symbol\n",
    "df.columns = df.columns.map(lambda x: ensembl_to_symbol.get(x, x))"
   ]
  },
  {
   "cell_type": "code",
   "execution_count": null,
   "id": "80b3d081-4e95-4c06-9792-b22e5590a048",
   "metadata": {},
   "outputs": [],
   "source": [
    "counts = pd.DataFrame(adata.X, index=adata.obs_names, columns=adata.var_names)\n",
    "symbol_adata=sc.AnnData(counts)"
   ]
  }
 ],
 "metadata": {
  "kernelspec": {
   "display_name": "scanpy-env3_shared",
   "language": "python",
   "name": "scanpy-env3_shared"
  },
  "language_info": {
   "codemirror_mode": {
    "name": "ipython",
    "version": 3
   },
   "file_extension": ".py",
   "mimetype": "text/x-python",
   "name": "python",
   "nbconvert_exporter": "python",
   "pygments_lexer": "ipython3",
   "version": "3.9.17"
  }
 },
 "nbformat": 4,
 "nbformat_minor": 5
}
