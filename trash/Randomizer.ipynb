{
 "cells": [
  {
   "cell_type": "code",
   "execution_count": 9,
   "id": "b0dcdd0d",
   "metadata": {},
   "outputs": [],
   "source": [
    "import csv\n",
    "import random\n",
    "import os\n",
    "from IPython.display import clear_output"
   ]
  },
  {
   "cell_type": "code",
   "execution_count": 34,
   "id": "99ccf7d2",
   "metadata": {},
   "outputs": [],
   "source": [
    "initial_path = 'data/output.csv' #Insert File Name From Merged File Using The SeuratPipeline\n"
   ]
  },
  {
   "cell_type": "code",
   "execution_count": 35,
   "id": "83d1b17c-e399-4c0c-b0c5-0d5cad61b4e9",
   "metadata": {},
   "outputs": [
    {
     "name": "stdout",
     "output_type": "stream",
     "text": [
      "  Unnamed: 0  AAACCCAGTAGGCTCC-1  AAACCCAGTCGCAACC-1  AAACCCATCCACAAGT-1  \\\n",
      "0      Label            1.000000           11.000000                 5.0   \n",
      "1       HES4            1.583742            1.817618                 0.0   \n",
      "2      ISG15            0.000000            0.000000                 0.0   \n",
      "3   C1QTNF12            0.000000            2.106576                 0.0   \n",
      "4      MFAP2            0.000000            0.000000                 0.0   \n",
      "\n",
      "   AAACGCTTCACTACGA-1  AAACGCTTCAGCCTCT-1  AAAGAACAGATACAGT-1  \\\n",
      "0            8.000000            6.000000            1.000000   \n",
      "1            1.823131            0.470256            1.036066   \n",
      "2            0.000000            0.470256            0.000000   \n",
      "3            0.000000            0.000000            0.000000   \n",
      "4            0.000000            0.000000            0.000000   \n",
      "\n",
      "   AAAGAACAGCCTCGTG-1  AAAGAACAGTAATCCC-1  AAAGAACCAACATCGT-1  ...  \\\n",
      "0             6.00000            8.000000            6.000000  ...   \n",
      "1             0.88049            1.708302            2.782923  ...   \n",
      "2             0.00000            0.918898            0.866574  ...   \n",
      "3             0.00000            0.000000            0.524357  ...   \n",
      "4             0.00000            0.000000            0.000000  ...   \n",
      "\n",
      "   TTGTGGATCTAGCAAC-1  TTGTTCACAGGTCAAG-1  TTGTTTGAGCTCATAC-1  \\\n",
      "0            3.000000            3.000000            7.000000   \n",
      "1            1.621794            2.052788            2.241301   \n",
      "2            0.000000            0.000000            1.335489   \n",
      "3            0.000000            0.000000            0.000000   \n",
      "4            0.000000            0.000000            1.335489   \n",
      "\n",
      "   TTTACGTTCAAGGCTT-1  TTTACTGCAGCTACAT-1  TTTACTGTCATTACTC-1  \\\n",
      "0                 7.0            3.000000           14.000000   \n",
      "1                 0.0            1.883256            2.679670   \n",
      "2                 0.0            1.050225            1.127936   \n",
      "3                 0.0            0.000000            0.000000   \n",
      "4                 0.0            1.730900            0.000000   \n",
      "\n",
      "   TTTCACAGTGATATAG-1  TTTCACATCGATGCAT-1  TTTCATGTCCCTCTAG-1  \\\n",
      "0            3.000000            3.000000            7.000000   \n",
      "1            1.877891            1.520372            1.049049   \n",
      "2            0.802469            0.000000            0.000000   \n",
      "3            0.000000            0.000000            0.000000   \n",
      "4            0.479658            1.520372            1.049049   \n",
      "\n",
      "   TTTGACTGTTCCGGTG-1  \n",
      "0            3.000000  \n",
      "1            0.763774  \n",
      "2            0.763774  \n",
      "3            0.000000  \n",
      "4            0.763774  \n",
      "\n",
      "[5 rows x 10595 columns]\n"
     ]
    }
   ],
   "source": [
    "import pandas as pd\n",
    "\n",
    "# Path to the CSV file\n",
    "file_path = 'data/output.csv'\n",
    "\n",
    "# Read the CSV file into a DataFrame\n",
    "df = pd.read_csv(file_path)\n",
    "\n",
    "# Display the first few rows of the DataFrame to verify\n",
    "print(df.head())"
   ]
  },
  {
   "cell_type": "code",
   "execution_count": 36,
   "id": "79b4c717-9af3-4aa6-969c-52f29616d4a7",
   "metadata": {},
   "outputs": [
    {
     "name": "stdout",
     "output_type": "stream",
     "text": [
      "success: False\n"
     ]
    }
   ],
   "source": [
    "for key, value in results.items():\n",
    "    print(f\"{key}: {value}\")"
   ]
  },
  {
   "cell_type": "code",
   "execution_count": 37,
   "id": "bf157384-13fd-4fd5-9ada-6ef78b93a5eb",
   "metadata": {},
   "outputs": [
    {
     "data": {
      "text/plain": [
       "500"
      ]
     },
     "execution_count": 37,
     "metadata": {},
     "output_type": "execute_result"
    }
   ],
   "source": [
    "cell_count"
   ]
  },
  {
   "cell_type": "code",
   "execution_count": 38,
   "id": "fad1b099-3efd-484d-8118-6f0357666266",
   "metadata": {},
   "outputs": [
    {
     "data": {
      "text/plain": [
       "dict"
      ]
     },
     "execution_count": 38,
     "metadata": {},
     "output_type": "execute_result"
    }
   ],
   "source": [
    "results = get_random_columns(initial_path, cell_count)\n",
    "type(results)\n"
   ]
  },
  {
   "cell_type": "code",
   "execution_count": 43,
   "id": "acebcbf3-a9e1-40de-b6ab-bb73fa47d185",
   "metadata": {},
   "outputs": [
    {
     "name": "stdout",
     "output_type": "stream",
     "text": [
      "{'success': False}\n"
     ]
    }
   ],
   "source": [
    "print(results)"
   ]
  },
  {
   "cell_type": "code",
   "execution_count": 40,
   "id": "f73f7460-7d69-4e4f-a2ce-3b936ee3bae9",
   "metadata": {},
   "outputs": [],
   "source": [
    "reader = csv.reader(initial_path, delimiter=',')"
   ]
  },
  {
   "cell_type": "code",
   "execution_count": 44,
   "id": "10093858-6cbb-48d4-a57e-5e78470b6045",
   "metadata": {},
   "outputs": [
    {
     "data": {
      "text/plain": [
       "<_csv.reader at 0x7f03a1e68ac0>"
      ]
     },
     "execution_count": 44,
     "metadata": {},
     "output_type": "execute_result"
    }
   ],
   "source": [
    "reader"
   ]
  },
  {
   "cell_type": "code",
   "execution_count": null,
   "id": "5a619cef-68e5-4a6d-b32e-c2795c67d9b7",
   "metadata": {},
   "outputs": [],
   "source": [
    "import csv\n",
    "\n",
    "# Open the file and create a csv.reader object\n",
    "with open(initial_path, newline='') as file:\n",
    "    reader = csv.reader(file, delimiter=',')\n",
    "\n",
    "    # Iterate over the reader object and print each row\n",
    "    for i, row in enumerate(reader):\n",
    "        print(row)\n",
    "        if i == 1:  # Stop after printing the 5th row (since index starts at 0)\n",
    "            break"
   ]
  },
  {
   "cell_type": "code",
   "execution_count": null,
   "id": "6331933b-03d8-405f-aa2c-8886ff859417",
   "metadata": {},
   "outputs": [],
   "source": []
  },
  {
   "cell_type": "code",
   "execution_count": 33,
   "id": "f39f33bd",
   "metadata": {},
   "outputs": [],
   "source": [
    "# Prepare Step\n",
    "\n",
    "def get_random_columns(path, count):\n",
    "    with open(path, 'r') as file:\n",
    "        reader = csv.reader(file, delimiter=',')\n",
    "        #df = pd.read_csv(file, delimiter=',')\n",
    "        #reader = df.to_numpy()\n",
    "        \n",
    "        rows = []\n",
    "        cnt = 0\n",
    "        for row in reader:\n",
    "            cnt = cnt + 1\n",
    "            rows.append(row)\n",
    "            # ACTIVATE FOR TESTING PURPOSE ONLY - LIMITS THE AMOUNT OF GENES (NOT CELLS)\n",
    "            # if cnt > 500:\n",
    "            #     break\n",
    "        if check_row_size(rows[0], count) == False:\n",
    "            return {'success': False }\n",
    "        \n",
    "        selected_columns = []\n",
    "        results_zeroes = []\n",
    "        results_ones = []\n",
    "        results_found = False\n",
    "        while( results_found == False):\n",
    "            column_found = False\n",
    "            while column_found == False:\n",
    "                random_num = get_random_column(len(rows[0]))\n",
    "                if random_num not in selected_columns:\n",
    "                    column_found = True\n",
    "                    column = rows[0][random_num]\n",
    "                    if column == '0' and len(results_zeroes) < count:\n",
    "                        results_zeroes.append(random_num)\n",
    "                        selected_columns.append(random_num)\n",
    "                    elif column == '1' and len(results_ones) < count:\n",
    "                        results_ones.append(random_num)\n",
    "                        selected_columns.append(random_num)\n",
    "                if len(results_zeroes) >= count and len(results_ones) >= count:\n",
    "                    results_found = True\n",
    "        result = []\n",
    "        rest = []\n",
    "        for row in rows:\n",
    "            new_row = []\n",
    "            rest_row = []\n",
    "            new_row.append(row[0])\n",
    "            for col in results_zeroes:\n",
    "                new_row.append(row[col])\n",
    "            for col in results_ones:\n",
    "                new_row.append(row[col])\n",
    "            result.append(new_row)\n",
    "            total_cols = len(rows[0])\n",
    "            for i in range(0, total_cols):\n",
    "                if i not in selected_columns:\n",
    "                    rest_row.append(row[i])\n",
    "            rest.append(rest_row)\n",
    "        return {\"result\" : result, \"rest\" : rest, 'success': True}\n",
    "                    \n",
    "                    \n",
    "def check_row_size(row_zero, count):\n",
    "    zeroes = 0\n",
    "    ones = 0\n",
    "    if len(row_zero) < 2 * count:\n",
    "        return false\n",
    "    for column in row_zero:\n",
    "        if column == '0':\n",
    "            zeroes = zeroes +1\n",
    "        else :\n",
    "            ones = ones +1\n",
    "    if zeroes < count or ones < count:\n",
    "        return False\n",
    "    return True\n",
    "\n",
    "\n",
    "def get_random_column(size):\n",
    "    return random.randint(1,size-1)\n",
    "\n",
    "def get_zeroes(row):\n",
    "    zeroes = 0\n",
    "    for col in row:\n",
    "        if col == '1':\n",
    "            zeroes = zeroes + 1\n",
    "    return zeroes"
   ]
  },
  {
   "cell_type": "code",
   "execution_count": null,
   "id": "46ae7248-947c-466c-bfd3-48f994ef771e",
   "metadata": {},
   "outputs": [],
   "source": []
  },
  {
   "cell_type": "code",
   "execution_count": null,
   "id": "2dffb4e0-248a-4c63-bb47-f2e6b6bbe1e0",
   "metadata": {},
   "outputs": [],
   "source": []
  },
  {
   "cell_type": "code",
   "execution_count": 32,
   "id": "ac78b262",
   "metadata": {},
   "outputs": [
    {
     "ename": "NameError",
     "evalue": "name 'false' is not defined",
     "output_type": "error",
     "traceback": [
      "\u001b[0;31m---------------------------------------------------------------------------\u001b[0m",
      "\u001b[0;31mNameError\u001b[0m                                 Traceback (most recent call last)",
      "Cell \u001b[0;32mIn[32], line 9\u001b[0m\n\u001b[1;32m      7\u001b[0m     os\u001b[38;5;241m.\u001b[39mmakedirs(\u001b[38;5;124m'\u001b[39m\u001b[38;5;124mrandomizer_results\u001b[39m\u001b[38;5;124m'\u001b[39m)\n\u001b[1;32m      8\u001b[0m result_cnt \u001b[38;5;241m=\u001b[39m \u001b[38;5;241m1\u001b[39m\n\u001b[0;32m----> 9\u001b[0m results \u001b[38;5;241m=\u001b[39m \u001b[43mget_random_columns\u001b[49m\u001b[43m(\u001b[49m\u001b[43minitial_path\u001b[49m\u001b[43m,\u001b[49m\u001b[43m \u001b[49m\u001b[43mcell_count\u001b[49m\u001b[43m)\u001b[49m\n\u001b[1;32m     10\u001b[0m \u001b[38;5;28;01mwith\u001b[39;00m \u001b[38;5;28mopen\u001b[39m(\u001b[38;5;124m'\u001b[39m\u001b[38;5;124mrandomizer_results/result_\u001b[39m\u001b[38;5;132;01m{}\u001b[39;00m\u001b[38;5;124m.csv\u001b[39m\u001b[38;5;124m'\u001b[39m\u001b[38;5;241m.\u001b[39mformat(result_cnt), \u001b[38;5;124m'\u001b[39m\u001b[38;5;124mw\u001b[39m\u001b[38;5;124m'\u001b[39m) \u001b[38;5;28;01mas\u001b[39;00m file:\n\u001b[1;32m     11\u001b[0m     writer \u001b[38;5;241m=\u001b[39m csv\u001b[38;5;241m.\u001b[39mwriter(file)\n",
      "Cell \u001b[0;32mIn[13], line 14\u001b[0m, in \u001b[0;36mget_random_columns\u001b[0;34m(path, count)\u001b[0m\n\u001b[1;32m     10\u001b[0m     rows\u001b[38;5;241m.\u001b[39mappend(row)\n\u001b[1;32m     11\u001b[0m     \u001b[38;5;66;03m# ACTIVATE FOR TESTING PURPOSE ONLY - LIMITS THE AMOUNT OF GENES (NOT CELLS)\u001b[39;00m\n\u001b[1;32m     12\u001b[0m     \u001b[38;5;66;03m# if cnt > 500:\u001b[39;00m\n\u001b[1;32m     13\u001b[0m     \u001b[38;5;66;03m#     break\u001b[39;00m\n\u001b[0;32m---> 14\u001b[0m \u001b[38;5;28;01mif\u001b[39;00m \u001b[43mcheck_row_size\u001b[49m\u001b[43m(\u001b[49m\u001b[43mrows\u001b[49m\u001b[43m[\u001b[49m\u001b[38;5;241;43m0\u001b[39;49m\u001b[43m]\u001b[49m\u001b[43m,\u001b[49m\u001b[43m \u001b[49m\u001b[43mcount\u001b[49m\u001b[43m)\u001b[49m \u001b[38;5;241m==\u001b[39m \u001b[38;5;28;01mFalse\u001b[39;00m:\n\u001b[1;32m     15\u001b[0m     \u001b[38;5;28;01mreturn\u001b[39;00m {\u001b[38;5;124m'\u001b[39m\u001b[38;5;124msuccess\u001b[39m\u001b[38;5;124m'\u001b[39m: \u001b[38;5;28;01mFalse\u001b[39;00m }\n\u001b[1;32m     17\u001b[0m selected_columns \u001b[38;5;241m=\u001b[39m []\n",
      "Cell \u001b[0;32mIn[13], line 59\u001b[0m, in \u001b[0;36mcheck_row_size\u001b[0;34m(row_zero, count)\u001b[0m\n\u001b[1;32m     57\u001b[0m ones \u001b[38;5;241m=\u001b[39m \u001b[38;5;241m0\u001b[39m\n\u001b[1;32m     58\u001b[0m \u001b[38;5;28;01mif\u001b[39;00m \u001b[38;5;28mlen\u001b[39m(row_zero) \u001b[38;5;241m<\u001b[39m \u001b[38;5;241m2\u001b[39m \u001b[38;5;241m*\u001b[39m count:\n\u001b[0;32m---> 59\u001b[0m     \u001b[38;5;28;01mreturn\u001b[39;00m \u001b[43mfalse\u001b[49m\n\u001b[1;32m     60\u001b[0m \u001b[38;5;28;01mfor\u001b[39;00m column \u001b[38;5;129;01min\u001b[39;00m row_zero:\n\u001b[1;32m     61\u001b[0m     \u001b[38;5;28;01mif\u001b[39;00m column \u001b[38;5;241m==\u001b[39m \u001b[38;5;124m'\u001b[39m\u001b[38;5;124m0\u001b[39m\u001b[38;5;124m'\u001b[39m:\n",
      "\u001b[0;31mNameError\u001b[0m: name 'false' is not defined"
     ]
    }
   ],
   "source": [
    "# Randomizer Step\n",
    "\n",
    "cell_count = 500 # how many cells of each type shall be selected as input for PFA\n",
    "\n",
    "if __name__ == '__main__':\n",
    "    if not os.path.exists('randomizer_results'):\n",
    "        os.makedirs('randomizer_results')\n",
    "    result_cnt = 1\n",
    "    results = get_random_columns(initial_path, cell_count)\n",
    "    with open('randomizer_results/result_{}.csv'.format(result_cnt), 'w') as file:\n",
    "        writer = csv.writer(file)\n",
    "        for row in results['result']:\n",
    "            writer.writerow(row)\n",
    "    with open('randomizer_results/rest_{}.csv'.format(result_cnt), 'w') as file:\n",
    "        writer = csv.writer(file)\n",
    "        for row in results['rest']:\n",
    "            writer.writerow(row)\n",
    "    result_cnt = result_cnt + 1\n",
    "    finished = False\n",
    "    while finished == False:\n",
    "        print(\"Result\", result_cnt, \"is starting to randomize\")\n",
    "        results = get_random_columns('randomizer_results/rest_{}.csv'.format(result_cnt-1), cell_count)\n",
    "        if results['success'] == False:\n",
    "            finished = True\n",
    "            break\n",
    "        with open('randomizer_results/result_{}.csv'.format(result_cnt), 'w') as file:\n",
    "            writer = csv.writer(file)\n",
    "            for row in results['result']:\n",
    "                writer.writerow(row)\n",
    "        with open('randomizer_results/rest_{}.csv'.format(result_cnt), 'w') as file:\n",
    "            writer = csv.writer(file)\n",
    "            for row in results['rest']:\n",
    "                writer.writerow(row)\n",
    "        result_cnt = result_cnt + 1"
   ]
  },
  {
   "cell_type": "code",
   "execution_count": null,
   "id": "9148ea94-f9cf-4c6e-bc9a-6cafd8297e60",
   "metadata": {},
   "outputs": [],
   "source": []
  },
  {
   "cell_type": "code",
   "execution_count": null,
   "id": "799f9af5-9ee8-45b6-8ca3-9904955bf5ab",
   "metadata": {},
   "outputs": [],
   "source": []
  }
 ],
 "metadata": {
  "kernelspec": {
   "display_name": "scanpy-env3_shared",
   "language": "python",
   "name": "scanpy-env3_shared"
  },
  "language_info": {
   "codemirror_mode": {
    "name": "ipython",
    "version": 3
   },
   "file_extension": ".py",
   "mimetype": "text/x-python",
   "name": "python",
   "nbconvert_exporter": "python",
   "pygments_lexer": "ipython3",
   "version": "3.9.17"
  }
 },
 "nbformat": 4,
 "nbformat_minor": 5
}
