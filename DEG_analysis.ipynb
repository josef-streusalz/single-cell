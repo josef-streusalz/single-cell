{
 "cells": [
  {
   "cell_type": "code",
   "execution_count": 1,
   "id": "c4550e41-6b42-4f6a-9110-1fab1af2e5b7",
   "metadata": {},
   "outputs": [],
   "source": [
    "import scanpy as sc\n",
    "\n",
    "adata = sc.read(\"/storage/users/sac43cg/res_Samantha_1/outs/h5as_files/adata_neu.h5ad\") "
   ]
  },
  {
   "cell_type": "code",
   "execution_count": 8,
   "id": "443c7c89-7492-4fa8-b0e2-d8c64e6caa1d",
   "metadata": {},
   "outputs": [
    {
     "name": "stdout",
     "output_type": "stream",
     "text": [
      "barcode\n",
      "AAACCCAGTAGGCTCC-1         CTRL_1\n",
      "AAACCCAGTCGCAACC-1         CTRL_1\n",
      "AAACCCATCCACAAGT-1         CTRL_1\n",
      "AAACGCTTCACTACGA-1         CTRL_1\n",
      "AAACGCTTCAGCCTCT-1         CTRL_1\n",
      "                         ...     \n",
      "TTTACTGTCATTACTC-1    TGFb1_GEM_2\n",
      "TTTCACAGTGATATAG-1    TGFb1_GEM_2\n",
      "TTTCACATCGATGCAT-1    TGFb1_GEM_2\n",
      "TTTCATGTCCCTCTAG-1    TGFb1_GEM_2\n",
      "TTTGACTGTTCCGGTG-1    TGFb1_GEM_2\n",
      "Name: condition, Length: 10246, dtype: category\n",
      "Categories (8, object): ['CTRL_1', 'CTRL_2', 'CTRL_2D', 'GEM_2', 'TGFb1_1', 'TGFb1_2', 'TGFb1_GEM_1', 'TGFb1_GEM_2']\n"
     ]
    }
   ],
   "source": [
    "print(adata.obs['condition'])"
   ]
  },
  {
   "cell_type": "code",
   "execution_count": null,
   "id": "10e895be-37f8-4e00-bc72-7dcd08735028",
   "metadata": {},
   "outputs": [],
   "source": []
  },
  {
   "cell_type": "code",
   "execution_count": 9,
   "id": "4041e24c-9219-49de-8524-828d3542cbda",
   "metadata": {},
   "outputs": [],
   "source": [
    "# Specify the groups you want to compare\n",
    "group1 = 'CTRL_1'\n",
    "group2 = 'GEM_2'\n"
   ]
  },
  {
   "cell_type": "code",
   "execution_count": 10,
   "id": "95e2a6ec-01fb-4678-8015-a6dc150e33f6",
   "metadata": {
    "scrolled": true
   },
   "outputs": [
    {
     "name": "stdout",
     "output_type": "stream",
     "text": [
      "AnnData object with n_obs × n_vars = 10246 × 1128\n",
      "    obs: 'condition', 'n_genes', 'n_genes_by_counts', 'log1p_n_genes_by_counts', 'total_counts', 'log1p_total_counts', 'pct_counts_in_top_50_genes', 'pct_counts_in_top_100_genes', 'pct_counts_in_top_200_genes', 'pct_counts_in_top_500_genes', 'n_counts', 'percent_mito', 'percent_ribo'\n",
      "    var: 'n_cells', 'highly_variable', 'means', 'dispersions', 'dispersions_norm', 'n_cells_by_counts', 'mean_counts', 'log1p_mean_counts', 'pct_dropout_by_counts', 'total_counts', 'log1p_total_counts'\n",
      "    uns: 'hvg', 'log1p'\n"
     ]
    }
   ],
   "source": [
    "print(adata)"
   ]
  },
  {
   "cell_type": "code",
   "execution_count": 11,
   "id": "e9ae7362-b5ba-4eed-b2e9-0f881a74836d",
   "metadata": {},
   "outputs": [],
   "source": [
    "# Subset the data to include only the specified groups\n",
    "adata_subset = adata[adata.obs['condition'].isin([group1, group2])]\n"
   ]
  },
  {
   "cell_type": "code",
   "execution_count": 12,
   "id": "d171597d-2e2e-494d-b6a7-b7bd86204ed7",
   "metadata": {},
   "outputs": [
    {
     "name": "stdout",
     "output_type": "stream",
     "text": [
      "['CTRL_1', 'GEM_2']\n",
      "Categories (2, object): ['CTRL_1', 'GEM_2']\n"
     ]
    }
   ],
   "source": [
    "unique_categories = adata_subset.obs['condition'].unique()\n",
    "print(unique_categories)"
   ]
  },
  {
   "cell_type": "code",
   "execution_count": 13,
   "id": "5a947ffe-4d5f-4eaf-bbdd-c3aaeec8273f",
   "metadata": {},
   "outputs": [
    {
     "name": "stdout",
     "output_type": "stream",
     "text": [
      "WARNING: Default of the method has been changed to 't-test' from 't-test_overestim_var'\n"
     ]
    },
    {
     "name": "stderr",
     "output_type": "stream",
     "text": [
      "/home/sac43cg/miniconda3/envs/Gudruns_PDAC/lib/python3.11/site-packages/scanpy/tools/_rank_genes_groups.py:582: ImplicitModificationWarning: Trying to modify attribute `._uns` of view, initializing view as actual.\n",
      "  adata.uns[key_added] = {}\n"
     ]
    }
   ],
   "source": [
    "# Perform differential expression analysis\n",
    "sc.tl.rank_genes_groups(adata_subset, groupby='condition', groups=[group1, group2])"
   ]
  },
  {
   "cell_type": "code",
   "execution_count": 32,
   "id": "51b47bb6-e509-4057-911a-05feb0880f1b",
   "metadata": {},
   "outputs": [],
   "source": [
    "# Get differentially expressed genes for the comparison\n",
    "de_genes = adata_subset.uns['rank_genes_groups']['names'][group2]"
   ]
  },
  {
   "cell_type": "code",
   "execution_count": 15,
   "id": "7990c25c-3499-4eaa-9dc7-a098d23d2a92",
   "metadata": {},
   "outputs": [
    {
     "name": "stdout",
     "output_type": "stream",
     "text": [
      "['ENSG00000164032' 'ENSG00000167900' 'ENSG00000123219' ...\n",
      " 'ENSG00000120738' 'ENSG00000171223' 'ENSG00000128016']\n"
     ]
    }
   ],
   "source": [
    "# Print the DEGs\n",
    "print(de_genes)"
   ]
  },
  {
   "cell_type": "code",
   "execution_count": 16,
   "id": "f77e613c-29a7-4d78-b5cc-bfa2d90eeb78",
   "metadata": {},
   "outputs": [
    {
     "name": "stdout",
     "output_type": "stream",
     "text": [
      "Differentially expressed genes saved to /storage/users/sac43cg/res_Samantha_1/outs/DEGs/CTRL_1_vs_GEM_2/differentially_expressed_genes.txt\n"
     ]
    }
   ],
   "source": [
    "\n",
    "#Specify the path for the output text file\n",
    "output_file = '/storage/users/sac43cg/res_Samantha_1/outs/DEGs/CTRL_1_vs_GEM_2/differentially_expressed_genes.txt'\n",
    "\n",
    "# Write the DEGs to the output file\n",
    "with open(output_file, 'w') as f:\n",
    "    for gene in de_genes:\n",
    "        f.write(f\"{gene}\\n\")\n",
    "\n",
    "print(f\"Differentially expressed genes saved to {output_file}\")"
   ]
  },
  {
   "cell_type": "code",
   "execution_count": 18,
   "id": "5d29ce47-cae8-47d4-aa68-98f3e7fd21bb",
   "metadata": {},
   "outputs": [
    {
     "name": "stdout",
     "output_type": "stream",
     "text": [
      "WARNING: Default of the method has been changed to 't-test' from 't-test_overestim_var'\n",
      "['ENSG00000124225' 'ENSG00000140416' 'ENSG00000106366' ...\n",
      " 'ENSG00000152056' 'ENSG00000196352' 'ENSG00000111057']\n",
      "Differentially expressed genes saved to /storage/users/sac43cg/res_Samantha_1/outs/DEGs/CTRL_1_vs_TGFb1_1/differentially_expressed_genes.txt\n"
     ]
    },
    {
     "name": "stderr",
     "output_type": "stream",
     "text": [
      "/home/sac43cg/miniconda3/envs/Gudruns_PDAC/lib/python3.11/site-packages/scanpy/tools/_rank_genes_groups.py:582: ImplicitModificationWarning: Trying to modify attribute `._uns` of view, initializing view as actual.\n",
      "  adata.uns[key_added] = {}\n"
     ]
    }
   ],
   "source": [
    "# Specify the groups you want to compare\n",
    "group1 = 'CTRL_1'\n",
    "group2 = 'TGFb1_1'\n",
    "# Subset the data to include only the specified groups\n",
    "adata_subset = adata[adata.obs['condition'].isin([group1, group2])]\n",
    "# Perform differential expression analysis\n",
    "sc.tl.rank_genes_groups(adata_subset, groupby='condition', groups=[group1, group2])\n",
    "# Get differentially expressed genes for the comparison\n",
    "de_genes = adata_subset.uns['rank_genes_groups']['names'][group2]\n",
    "# Print the DEGs\n",
    "print(de_genes)\n",
    "#Specify the path for the output text file\n",
    "output_file = '/storage/users/sac43cg/res_Samantha_1/outs/DEGs/CTRL_1_vs_TGFb1_1/differentially_expressed_genes.txt'\n",
    "\n",
    "# Write the DEGs to the output file\n",
    "with open(output_file, 'w') as f:\n",
    "    for gene in de_genes:\n",
    "        f.write(f\"{gene}\\n\")\n",
    "\n",
    "print(f\"Differentially expressed genes saved to {output_file}\")"
   ]
  },
  {
   "cell_type": "code",
   "execution_count": 19,
   "id": "9fd0c04b-5743-44e0-b06d-bacd0bd66260",
   "metadata": {},
   "outputs": [
    {
     "name": "stdout",
     "output_type": "stream",
     "text": [
      "WARNING: Default of the method has been changed to 't-test' from 't-test_overestim_var'\n",
      "['ENSG00000124225' 'ENSG00000140416' 'ENSG00000106366' ...\n",
      " 'ENSG00000152056' 'ENSG00000111057' 'ENSG00000196352']\n",
      "Differentially expressed genes saved to /storage/users/sac43cg/res_Samantha_1/outs/DEGs/CTRL_1_vs_TGFb1_2/differentially_expressed_genes.txt\n"
     ]
    },
    {
     "name": "stderr",
     "output_type": "stream",
     "text": [
      "/home/sac43cg/miniconda3/envs/Gudruns_PDAC/lib/python3.11/site-packages/scanpy/tools/_rank_genes_groups.py:582: ImplicitModificationWarning: Trying to modify attribute `._uns` of view, initializing view as actual.\n",
      "  adata.uns[key_added] = {}\n"
     ]
    }
   ],
   "source": [
    "# Specify the groups you want to compare\n",
    "group1 = 'CTRL_1'\n",
    "group2 = 'TGFb1_2'\n",
    "# Subset the data to include only the specified groups\n",
    "adata_subset = adata[adata.obs['condition'].isin([group1, group2])]\n",
    "# Perform differential expression analysis\n",
    "sc.tl.rank_genes_groups(adata_subset, groupby='condition', groups=[group1, group2])\n",
    "# Get differentially expressed genes for the comparison\n",
    "de_genes = adata_subset.uns['rank_genes_groups']['names'][group2]\n",
    "# Print the DEGs\n",
    "print(de_genes)\n",
    "#Specify the path for the output text file\n",
    "output_file = '/storage/users/sac43cg/res_Samantha_1/outs/DEGs/CTRL_1_vs_TGFb1_2/differentially_expressed_genes.txt'\n",
    "\n",
    "# Write the DEGs to the output file\n",
    "with open(output_file, 'w') as f:\n",
    "    for gene in de_genes:\n",
    "        f.write(f\"{gene}\\n\")\n",
    "\n",
    "print(f\"Differentially expressed genes saved to {output_file}\")"
   ]
  },
  {
   "cell_type": "code",
   "execution_count": 20,
   "id": "950f4766-3d9b-47e4-a0ff-b270d521493c",
   "metadata": {},
   "outputs": [
    {
     "name": "stdout",
     "output_type": "stream",
     "text": [
      "WARNING: Default of the method has been changed to 't-test' from 't-test_overestim_var'\n",
      "['ENSG00000124225' 'ENSG00000106366' 'ENSG00000140416' ...\n",
      " 'ENSG00000152056' 'ENSG00000111057' 'ENSG00000196352']\n",
      "Differentially expressed genes saved to /storage/users/sac43cg/res_Samantha_1/outs/DEGs/CTRL_1_vs_TGFb1_GEM_1/differentially_expressed_genes.txt\n"
     ]
    },
    {
     "name": "stderr",
     "output_type": "stream",
     "text": [
      "/home/sac43cg/miniconda3/envs/Gudruns_PDAC/lib/python3.11/site-packages/scanpy/tools/_rank_genes_groups.py:582: ImplicitModificationWarning: Trying to modify attribute `._uns` of view, initializing view as actual.\n",
      "  adata.uns[key_added] = {}\n"
     ]
    }
   ],
   "source": [
    "# Specify the groups you want to compare\n",
    "group1 = 'CTRL_1'\n",
    "group2 = 'TGFb1_GEM_1'\n",
    "# Subset the data to include only the specified groups\n",
    "adata_subset = adata[adata.obs['condition'].isin([group1, group2])]\n",
    "# Perform differential expression analysis\n",
    "sc.tl.rank_genes_groups(adata_subset, groupby='condition', groups=[group1, group2])\n",
    "# Get differentially expressed genes for the comparison\n",
    "de_genes = adata_subset.uns['rank_genes_groups']['names'][group2]\n",
    "# Print the DEGs\n",
    "print(de_genes)\n",
    "#Specify the path for the output text file\n",
    "output_file = '/storage/users/sac43cg/res_Samantha_1/outs/DEGs/CTRL_1_vs_TGFb1_GEM_1/differentially_expressed_genes.txt'\n",
    "\n",
    "# Write the DEGs to the output file\n",
    "with open(output_file, 'w') as f:\n",
    "    for gene in de_genes:\n",
    "        f.write(f\"{gene}\\n\")\n",
    "\n",
    "print(f\"Differentially expressed genes saved to {output_file}\")"
   ]
  },
  {
   "cell_type": "code",
   "execution_count": 21,
   "id": "1d94a01e-1d65-4aff-9036-67a4c7ac332d",
   "metadata": {},
   "outputs": [
    {
     "name": "stdout",
     "output_type": "stream",
     "text": [
      "WARNING: Default of the method has been changed to 't-test' from 't-test_overestim_var'\n",
      "['ENSG00000124225' 'ENSG00000106366' 'ENSG00000140416' ...\n",
      " 'ENSG00000152056' 'ENSG00000111057' 'ENSG00000196352']\n",
      "Differentially expressed genes saved to /storage/users/sac43cg/res_Samantha_1/outs/DEGs/CTRL_1_vs_TGFb1_GEM_2/differentially_expressed_genes.txt\n"
     ]
    },
    {
     "name": "stderr",
     "output_type": "stream",
     "text": [
      "/home/sac43cg/miniconda3/envs/Gudruns_PDAC/lib/python3.11/site-packages/scanpy/tools/_rank_genes_groups.py:582: ImplicitModificationWarning: Trying to modify attribute `._uns` of view, initializing view as actual.\n",
      "  adata.uns[key_added] = {}\n"
     ]
    }
   ],
   "source": [
    "# Specify the groups you want to compare\n",
    "group1 = 'CTRL_1'\n",
    "group2 = 'TGFb1_GEM_2'\n",
    "# Subset the data to include only the specified groups\n",
    "adata_subset = adata[adata.obs['condition'].isin([group1, group2])]\n",
    "# Perform differential expression analysis\n",
    "sc.tl.rank_genes_groups(adata_subset, groupby='condition', groups=[group1, group2])\n",
    "# Get differentially expressed genes for the comparison\n",
    "de_genes = adata_subset.uns['rank_genes_groups']['names'][group2]\n",
    "# Print the DEGs\n",
    "print(de_genes)\n",
    "#Specify the path for the output text file\n",
    "output_file = '/storage/users/sac43cg/res_Samantha_1/outs/DEGs/CTRL_1_vs_TGFb1_GEM_2/differentially_expressed_genes.txt'\n",
    "\n",
    "# Write the DEGs to the output fileTGFb1_GEM_2\n",
    "with open(output_file, 'w') as f:\n",
    "    for gene in de_genes:\n",
    "        f.write(f\"{gene}\\n\")\n",
    "\n",
    "print(f\"Differentially expressed genes saved to {output_file}\")"
   ]
  },
  {
   "cell_type": "code",
   "execution_count": null,
   "id": "5228ed06-081e-4564-a4b5-07adbf4dc11e",
   "metadata": {},
   "outputs": [],
   "source": [
    "#test"
   ]
  },
  {
   "cell_type": "code",
   "execution_count": 36,
   "id": "a76ee6b9-c41c-41b6-9888-b8fda128c98e",
   "metadata": {},
   "outputs": [
    {
     "name": "stdout",
     "output_type": "stream",
     "text": [
      "WARNING: Default of the method has been changed to 't-test' from 't-test_overestim_var'\n"
     ]
    },
    {
     "name": "stderr",
     "output_type": "stream",
     "text": [
      "/home/sac43cg/miniconda3/envs/Gudruns_PDAC/lib/python3.11/site-packages/scanpy/tools/_rank_genes_groups.py:582: ImplicitModificationWarning: Trying to modify attribute `._uns` of view, initializing view as actual.\n",
      "  adata.uns[key_added] = {}\n"
     ]
    },
    {
     "ename": "KeyError",
     "evalue": "'rank_genes_groups'",
     "output_type": "error",
     "traceback": [
      "\u001b[0;31m---------------------------------------------------------------------------\u001b[0m",
      "\u001b[0;31mKeyError\u001b[0m                                  Traceback (most recent call last)",
      "Cell \u001b[0;32mIn[36], line 14\u001b[0m\n\u001b[1;32m     11\u001b[0m sc\u001b[38;5;241m.\u001b[39mtl\u001b[38;5;241m.\u001b[39mrank_genes_groups(adata_subset, groupby\u001b[38;5;241m=\u001b[39m\u001b[38;5;124m'\u001b[39m\u001b[38;5;124mcondition\u001b[39m\u001b[38;5;124m'\u001b[39m, groups\u001b[38;5;241m=\u001b[39m[group1, group2])\n\u001b[1;32m     13\u001b[0m \u001b[38;5;66;03m# DEG-Ergebnisse abrufen\u001b[39;00m\n\u001b[0;32m---> 14\u001b[0m deg_results \u001b[38;5;241m=\u001b[39m adata\u001b[38;5;241m.\u001b[39muns[\u001b[38;5;124m'\u001b[39m\u001b[38;5;124mrank_genes_groups\u001b[39m\u001b[38;5;124m'\u001b[39m]\n\u001b[1;32m     16\u001b[0m \u001b[38;5;66;03m# Gruppen und DEG-Informationen extrahieren\u001b[39;00m\n\u001b[1;32m     17\u001b[0m groups \u001b[38;5;241m=\u001b[39m deg_results[\u001b[38;5;124m'\u001b[39m\u001b[38;5;124mnames\u001b[39m\u001b[38;5;124m'\u001b[39m]\u001b[38;5;241m.\u001b[39mdtype\u001b[38;5;241m.\u001b[39mnames\n",
      "\u001b[0;31mKeyError\u001b[0m: 'rank_genes_groups'"
     ]
    }
   ],
   "source": [
    "import scanpy as sc\n",
    "\n",
    "# Specify the groups you want to compare\n",
    "group1 = 'CTRL_1'\n",
    "group2 = 'CTRL_2D'\n",
    "\n",
    "# Subset the data to include only the specified groups\n",
    "adata_subset = adata[adata.obs['condition'].isin([group1, group2])]\n",
    "\n",
    "# Perform differential expression analysis\n",
    "sc.tl.rank_genes_groups(adata_subset, groupby='condition', groups=[group1, group2])\n",
    "\n",
    "# DEG-Ergebnisse abrufen\n",
    "deg_results = adata.uns['rank_genes_groups']\n",
    "\n",
    "# Gruppen und DEG-Informationen extrahieren\n",
    "groups = deg_results['names'].dtype.names\n",
    "deg_gene_lists = deg_results['names'].tolist()\n",
    "deg_logfoldchanges = deg_results['logfoldchanges'].tolist()\n",
    "deg_pvals_adj = deg_results['pvals_adj'].tolist()\n",
    "\n",
    "# Ausgabe-Datei für Top-DEGs\n",
    "output_file = '/storage/users/sac43cg/res_Samantha_1/outs/DEGs/CTRL_1_vs_CTRL_2D/top_degs_between_conditions.txt'\n",
    "\n",
    "# Write the DEGs and log2 fold changes to the output file\n",
    "with open(output_file, 'w') as f:\n",
    "    f.write(\"Condition\\tGene\\tLog2FoldChange\\tAdjustedPValue\\n\")  # Header\n",
    "    for group_idx, group in enumerate(groups):\n",
    "        for gene, logfc, pval in zip(deg_gene_lists[group_idx], deg_logfoldchanges[group_idx], deg_pvals_adj[group_idx]):\n",
    "            f.write(f\"{group}\\t{gene}\\t{logfc}\\t{pval}\\n\")\n",
    "\n",
    "print(f\"Differentially expressed genes and log2 fold changes saved to {output_file}\")"
   ]
  },
  {
   "cell_type": "code",
   "execution_count": null,
   "id": "a6af986d-900c-4c3b-bbfd-52f6cae45068",
   "metadata": {},
   "outputs": [],
   "source": [
    "output_file = '/storage/users/sac43cg/res_Samantha_1/outs/DEGs/CTRL_1_vs_CTRL_2D/differentially_expressed_genes1.txt'  # Hier den Pfad zur Textdatei angeben\n",
    "\n",
    "with open(file_path, 'r') as file:\n",
    "    content = file.read()\n",
    "\n",
    "print(content)"
   ]
  },
  {
   "cell_type": "code",
   "execution_count": null,
   "id": "e883dd65-21d9-4398-8c1d-2c38db06a97b",
   "metadata": {},
   "outputs": [],
   "source": []
  },
  {
   "cell_type": "code",
   "execution_count": 23,
   "id": "6ac8674d-8371-4bcf-9da1-1b5a69357295",
   "metadata": {},
   "outputs": [
    {
     "name": "stdout",
     "output_type": "stream",
     "text": [
      "WARNING: Default of the method has been changed to 't-test' from 't-test_overestim_var'\n",
      "Differentially expressed genes and log2 fold changes saved to /storage/users/sac43cg/res_Samantha_1/outs/DEGs/CTRL_1_vs_CTRL_2D/differentially_expressed_genes.txt\n"
     ]
    },
    {
     "name": "stderr",
     "output_type": "stream",
     "text": [
      "/home/sac43cg/miniconda3/envs/Gudruns_PDAC/lib/python3.11/site-packages/scanpy/tools/_rank_genes_groups.py:582: ImplicitModificationWarning: Trying to modify attribute `._uns` of view, initializing view as actual.\n",
      "  adata.uns[key_added] = {}\n"
     ]
    }
   ],
   "source": [
    "# Specify the groups you want to compare\n",
    "group1 = 'CTRL_1'\n",
    "group2 = 'CTRL_2D'\n",
    "# Subset the data to include only the specified groups\n",
    "adata_subset = adata[adata.obs['condition'].isin([group1, group2])]\n",
    "# Perform differential expression analysis\n",
    "sc.tl.rank_genes_groups(adata_subset, groupby='condition', groups=[group1, group2])\n",
    "# Get differentially expressed genes for the comparison\n",
    "de_genes = adata_subset.uns['rank_genes_groups']['names'][group2]\n",
    "de_logfoldchanges = adata_subset.uns['rank_genes_groups']['logfoldchanges'][group2]\n",
    "\n",
    "# Specify the path for the output text file\n",
    "output_file = '/storage/users/sac43cg/res_Samantha_1/outs/DEGs/CTRL_1_vs_CTRL_2D/differentially_expressed_genes.txt'\n",
    "\n",
    "# Write the DEGs and log2 fold changes to the output file\n",
    "with open(output_file, 'w') as f:\n",
    "    for gene, logfc in zip(de_genes, de_logfoldchanges):\n",
    "        f.write(f\"{gene}\\t{logfc}\\n\")  # Write gene name and logFC\n",
    "\n",
    "print(f\"Differentially expressed genes and log2 fold changes saved to {output_file}\")\n"
   ]
  },
  {
   "cell_type": "code",
   "execution_count": 34,
   "id": "40d23af3-b905-4483-8937-b0292a40c0a4",
   "metadata": {},
   "outputs": [
    {
     "name": "stdout",
     "output_type": "stream",
     "text": [
      "WARNING: Default of the method has been changed to 't-test' from 't-test_overestim_var'\n"
     ]
    },
    {
     "name": "stderr",
     "output_type": "stream",
     "text": [
      "/home/sac43cg/miniconda3/envs/Gudruns_PDAC/lib/python3.11/site-packages/scanpy/tools/_rank_genes_groups.py:582: ImplicitModificationWarning: Trying to modify attribute `._uns` of view, initializing view as actual.\n",
      "  adata.uns[key_added] = {}\n"
     ]
    },
    {
     "ename": "ValueError",
     "evalue": "too many values to unpack (expected 2)",
     "output_type": "error",
     "traceback": [
      "\u001b[0;31m---------------------------------------------------------------------------\u001b[0m",
      "\u001b[0;31mValueError\u001b[0m                                Traceback (most recent call last)",
      "Cell \u001b[0;32mIn[34], line 23\u001b[0m\n\u001b[1;32m     21\u001b[0m \u001b[38;5;66;03m# Write the DEGs and log2 fold changes to the output file\u001b[39;00m\n\u001b[1;32m     22\u001b[0m \u001b[38;5;28;01mwith\u001b[39;00m \u001b[38;5;28mopen\u001b[39m(output_file, \u001b[38;5;124m'\u001b[39m\u001b[38;5;124mw\u001b[39m\u001b[38;5;124m'\u001b[39m) \u001b[38;5;28;01mas\u001b[39;00m f:\n\u001b[0;32m---> 23\u001b[0m     \u001b[38;5;28;01mfor\u001b[39;00m gene, logfc \u001b[38;5;129;01min\u001b[39;00m \u001b[38;5;28mzip\u001b[39m(de_genes, de_logfoldchanges, de_pvals_adj):\n\u001b[1;32m     24\u001b[0m         f\u001b[38;5;241m.\u001b[39mwrite(\u001b[38;5;124mf\u001b[39m\u001b[38;5;124m\"\u001b[39m\u001b[38;5;132;01m{\u001b[39;00mgene\u001b[38;5;132;01m}\u001b[39;00m\u001b[38;5;130;01m\\t\u001b[39;00m\u001b[38;5;132;01m{\u001b[39;00mlogfc\u001b[38;5;132;01m}\u001b[39;00m\u001b[38;5;130;01m\\n\u001b[39;00m\u001b[38;5;124m\"\u001b[39m)  \u001b[38;5;66;03m# Write gene name and logFC\u001b[39;00m\n\u001b[1;32m     26\u001b[0m \u001b[38;5;28mprint\u001b[39m(\u001b[38;5;124mf\u001b[39m\u001b[38;5;124m\"\u001b[39m\u001b[38;5;124mDifferentially expressed genes and log2 fold changes saved to \u001b[39m\u001b[38;5;132;01m{\u001b[39;00moutput_file\u001b[38;5;132;01m}\u001b[39;00m\u001b[38;5;124m\"\u001b[39m)\n",
      "\u001b[0;31mValueError\u001b[0m: too many values to unpack (expected 2)"
     ]
    }
   ],
   "source": [
    "import scanpy as sc\n",
    "\n",
    "# Specify the groups you want to compare\n",
    "group1 = 'CTRL_1'\n",
    "group2 = 'CTRL_2D'\n",
    "\n",
    "# Subset the data to include only the specified groups\n",
    "adata_subset = adata[adata.obs['condition'].isin([group1, group2])]\n",
    "\n",
    "# Perform differential expression analysis\n",
    "sc.tl.rank_genes_groups(adata_subset, groupby='condition', groups=[group1, group2])\n",
    "\n",
    "# Get differentially expressed genes for the comparison\n",
    "de_genes = adata_subset.uns['rank_genes_groups']['names'][group2]\n",
    "de_logfoldchanges = adata_subset.uns['rank_genes_groups']['logfoldchanges'][group2]\n",
    "de_pvals_adj = adata_subset.uns['rank_genes_groups']['pvals_adj'][group2]\n",
    "\n",
    "# Specify the path for the output text file\n",
    "output_file = '/storage/users/sac43cg/res_Samantha_1/outs/DEGs/CTRL_1_vs_CTRL_2D/differentially_expressed_genes1.txt'\n",
    "\n",
    "# Write the DEGs and log2 fold changes to the output file\n",
    "with open(output_file, 'w') as f:\n",
    "    for gene, logfc in zip(de_genes, de_logfoldchanges, de_pvals_adj):\n",
    "        f.write(f\"{gene}\\t{logfc}\\n\")  # Write gene name and logFC\n",
    "\n",
    "print(f\"Differentially expressed genes and log2 fold changes saved to {output_file}\")\n"
   ]
  },
  {
   "cell_type": "code",
   "execution_count": null,
   "id": "4697c7d7-1ad2-4408-a221-fdcd38d8f9e1",
   "metadata": {},
   "outputs": [],
   "source": [
    "import scanpy as sc\n",
    "import pandas as pd\n",
    "# DEG-Analyse durchführen\n",
    "sc.tl.rank_genes_groups(adata, groupby='cell_group_column', method='t-test', logfc_min=20)\n",
    "\n",
    "# DEG-Ergebnisse abrufen\n",
    "deg_results = adata.uns['rank_genes_groups']\n",
    "\n",
    "# Listen der relevanten Informationen aus den DEG-Ergebnissen extrahieren\n",
    "de_genes = deg_results['names'].dtype.names\n",
    "de_logfoldchanges = deg_results['logfoldchanges'].dtype.names\n",
    "de_pvals_adj = deg_results['pvals_adj'].dtype.names\n",
    "\n",
    "# Ausgabe-Datei für Top-DEGs\n",
    "output_file = 'top_degs.txt'\n",
    "\n",
    "# Write the DEGs and log2 fold changes to the output file\n",
    "with open(output_file, 'w') as f:\n",
    "    for gene_list, logfc_list, pval_list in zip(de_genes, de_logfoldchanges, de_pvals_adj):\n",
    "        f.write(\"Gene\\tLog2FoldChange\\tAdjustedPValue\\n\")  # Header\n",
    "        for gene, logfc, pval in zip(gene_list, logfc_list, pval_list):\n",
    "            f.write(f\"{gene}\\t{logfc}\\t{pval}\\n\")\n",
    "\n",
    "print(f\"Differentially expressed genes and log2 fold changes saved to {output_file}\")\n"
   ]
  },
  {
   "cell_type": "code",
   "execution_count": null,
   "id": "6bdcf7cb-03dc-436a-9545-a40b7df6dc92",
   "metadata": {},
   "outputs": [],
   "source": []
  }
 ],
 "metadata": {
  "kernelspec": {
   "display_name": "Gudruns_PDAC",
   "language": "python",
   "name": "gudruns_pdac"
  },
  "language_info": {
   "codemirror_mode": {
    "name": "ipython",
    "version": 3
   },
   "file_extension": ".py",
   "mimetype": "text/x-python",
   "name": "python",
   "nbconvert_exporter": "python",
   "pygments_lexer": "ipython3",
   "version": "3.11.4"
  }
 },
 "nbformat": 4,
 "nbformat_minor": 5
}
