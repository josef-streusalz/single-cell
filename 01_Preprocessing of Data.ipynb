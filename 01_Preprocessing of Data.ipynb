{
 "cells": [
  {
   "cell_type": "code",
   "execution_count": null,
   "id": "53915cf6",
   "metadata": {},
   "outputs": [],
   "source": []
  },
  {
   "cell_type": "code",
   "execution_count": null,
   "id": "ea5ab8d3-6cd5-4efc-804e-961fae9f5e41",
   "metadata": {},
   "outputs": [],
   "source": []
  },
  {
   "cell_type": "markdown",
   "id": "9775df9a-e28c-4c49-b2ea-de646b52157a",
   "metadata": {},
   "source": [
    "### Preprocess single cell data with cellranger"
   ]
  },
  {
   "cell_type": "code",
   "execution_count": 21,
   "id": "d97b5dfe-cb88-484c-b4e0-9375a1e553a1",
   "metadata": {},
   "outputs": [],
   "source": [
    "!source /home2/lumpi/.bashrc"
   ]
  },
  {
   "cell_type": "code",
   "execution_count": 32,
   "id": "e31161ab-5f89-461c-90d1-4be7c7277003",
   "metadata": {},
   "outputs": [],
   "source": [
    "!export PATH=\"/home2/lumpi/miniconda3/bin:$PATH\""
   ]
  },
  {
   "cell_type": "code",
   "execution_count": 33,
   "id": "482cf0bf-f0aa-420d-a3b2-2edbc5525284",
   "metadata": {},
   "outputs": [
    {
     "name": "stdout",
     "output_type": "stream",
     "text": [
      "/sbin:/usr/sbin:/bin:/usr/bin:/usr/local/bin\n"
     ]
    }
   ],
   "source": [
    "!echo $PATH"
   ]
  },
  {
   "cell_type": "code",
   "execution_count": 31,
   "id": "5b05f477-e0f5-4c89-bc2b-b70b06be4022",
   "metadata": {},
   "outputs": [
    {
     "name": "stdout",
     "output_type": "stream",
     "text": [
      "/bin/bash: line 1: conda: command not found\n"
     ]
    }
   ],
   "source": [
    "!conda info"
   ]
  },
  {
   "cell_type": "code",
   "execution_count": 26,
   "id": "d8128b70-ce7f-4d78-9e21-30306ee8df7b",
   "metadata": {},
   "outputs": [
    {
     "name": "stdout",
     "output_type": "stream",
     "text": [
      "\n",
      "     active environment : None\n",
      "       user config file : /home2/lumpi/.condarc\n",
      " populated config files : \n",
      "          conda version : 23.5.2\n",
      "    conda-build version : not installed\n",
      "         python version : 3.10.12.final.0\n",
      "       virtual packages : __archspec=1=x86_64\n",
      "                          __cuda=12.0=0\n",
      "                          __glibc=2.35=0\n",
      "                          __linux=5.19.0=0\n",
      "                          __unix=0=0\n",
      "       base environment : /home2/lumpi/miniconda3  (writable)\n",
      "      conda av data dir : /home2/lumpi/miniconda3/etc/conda\n",
      "  conda av metadata url : None\n",
      "           channel URLs : https://repo.anaconda.com/pkgs/main/linux-64\n",
      "                          https://repo.anaconda.com/pkgs/main/noarch\n",
      "                          https://repo.anaconda.com/pkgs/r/linux-64\n",
      "                          https://repo.anaconda.com/pkgs/r/noarch\n",
      "          package cache : /home2/lumpi/miniconda3/pkgs\n",
      "                          /home2/lumpi/.conda/pkgs\n",
      "       envs directories : /home2/lumpi/miniconda3/envs\n",
      "                          /home2/lumpi/.conda/envs\n",
      "               platform : linux-64\n",
      "             user-agent : conda/23.5.2 requests/2.29.0 CPython/3.10.12 Linux/5.19.0-46-generic ubuntu/22.04.2 glibc/2.35\n",
      "                UID:GID : 1008:1010\n",
      "             netrc file : None\n",
      "           offline mode : False\n",
      "\n",
      "\n"
     ]
    }
   ],
   "source": [
    "!/home2/lumpi/miniconda3/bin/conda info"
   ]
  },
  {
   "cell_type": "code",
   "execution_count": null,
   "id": "41874213-e67c-4aef-acfd-e952c6580581",
   "metadata": {},
   "outputs": [],
   "source": [
    "### cellranger to form feature counts\n",
    "cellranger count --id=sample1 --transcriptome=refdata-gex-GRCh38-2020-A --fastqs=/path/to/sample1/fastq/folder\n",
    "cellranger count --id=sample2 --transcriptome=refdata-gex-GRCh38-2020-A --fastqs=/path/to/sample2/fastq/folder\n",
    "# Repeat the above command for each sample, adjusting the sample name and fastq folder path\n"
   ]
  },
  {
   "cell_type": "markdown",
   "id": "a8ef86fa-d83e-4c63-8fe2-77896ef028d1",
   "metadata": {
    "editable": true,
    "slideshow": {
     "slide_type": ""
    },
    "tags": []
   },
   "source": [
    "## python conda environment managment"
   ]
  },
  {
   "cell_type": "code",
   "execution_count": 9,
   "id": "81805ce7-9575-4bd0-874f-9d2e5d547a5a",
   "metadata": {},
   "outputs": [
    {
     "name": "stdout",
     "output_type": "stream",
     "text": [
      "Current username: lumpi\n"
     ]
    }
   ],
   "source": [
    "# get the current python user\n",
    "import getpass\n",
    "\n",
    "username = getpass.getuser()\n",
    "print(\"Current username:\", username)"
   ]
  },
  {
   "cell_type": "markdown",
   "id": "7e2fb04c-f073-4360-85c1-7e298440566a",
   "metadata": {},
   "source": [
    "for installing packages in the right environment the terminal and the jupyter notebook environemnt should match.\n",
    "for this we can use the environment managemnt from juypter notebook or the terminal. \n",
    "\n"
   ]
  },
  {
   "cell_type": "markdown",
   "id": "ff45eed7-5ba7-4462-8c5d-52de9c4ce3e3",
   "metadata": {},
   "source": [
    "#### how to install packages in terminal and make them available in your jupyternotebook"
   ]
  },
  {
   "cell_type": "code",
   "execution_count": null,
   "id": "3b40f489-dca1-4c78-a490-6d9d776e8744",
   "metadata": {},
   "outputs": [],
   "source": [
    "#In the terminal initialize conda, create an environment, activate that environemnt \n",
    "#and make it available for jupyternotebooks in jupyterhub\n",
    "# explained here https://blog.umd.edu/crstl/useful-links/how-to-setup-and-use-your-own-conda-environment-in-jupyterhub/\n",
    "conda create –name myenv python=3.6\n",
    "\n",
    "conda create –name myenv\n",
    "\n",
    "conda activate myenv\n",
    "\n",
    "conda install PACKAGENAME\n",
    "\n",
    "python -m ipykernel install --user --name singlecell --display-name \"Python (singlecell)\n",
    "\n",
    "#restart the kernel or server. Open notebook. Go to Kernel --> change kernel --> select your environment\n"
   ]
  },
  {
   "cell_type": "markdown",
   "id": "c44afd3e-b04f-4a8b-b477-443a8d47a536",
   "metadata": {},
   "source": [
    "#### other option for conda env mangement"
   ]
  },
  {
   "cell_type": "code",
   "execution_count": 11,
   "id": "a8a930fb-7076-49b8-aa6c-6ff15bf1feda",
   "metadata": {},
   "outputs": [
    {
     "name": "stdout",
     "output_type": "stream",
     "text": [
      "/home2/lumpi/SingleCell_Samantha/scripts\n"
     ]
    }
   ],
   "source": [
    "!pwd"
   ]
  },
  {
   "cell_type": "code",
   "execution_count": 12,
   "id": "bd598a86-fd32-4956-8d96-77a8ce221a07",
   "metadata": {},
   "outputs": [
    {
     "name": "stdout",
     "output_type": "stream",
     "text": [
      "/bin/bash: line 1: conda: command not found\n"
     ]
    }
   ],
   "source": [
    "# Initialize the terminal for using conda (maybe not necessary)\n",
    "#!source ~/.conda/etc/profile.d/conda.sh\n",
    "\n",
    "!conda init\n",
    "# restart terminal --> got to control panel (stop server & start server)"
   ]
  },
  {
   "cell_type": "code",
   "execution_count": 8,
   "id": "4abf6f9f-07c0-4ff5-a8af-5f0f1964c4e2",
   "metadata": {},
   "outputs": [
    {
     "name": "stdout",
     "output_type": "stream",
     "text": [
      "/bin/bash: line 1: conda: command not found\n"
     ]
    }
   ],
   "source": [
    "!conda init\n",
    "# restart terminal --> got to control panel (stop server & start server)"
   ]
  },
  {
   "cell_type": "code",
   "execution_count": 17,
   "id": "794a369c-9f28-4f2b-b4e5-409433d57210",
   "metadata": {},
   "outputs": [
    {
     "name": "stdout",
     "output_type": "stream",
     "text": [
      "/home2/lumpi/SingleCell_Samantha/scripts\n"
     ]
    }
   ],
   "source": [
    "!pwd"
   ]
  },
  {
   "cell_type": "code",
   "execution_count": 15,
   "id": "343035d8-9791-4631-b494-a6d54bca018f",
   "metadata": {
    "scrolled": true
   },
   "outputs": [
    {
     "name": "stdout",
     "output_type": "stream",
     "text": [
      "/bin/bash: line 1: conda: command not found\n"
     ]
    }
   ],
   "source": [
    "# query existinmg environments\n",
    "!conda info --envs"
   ]
  },
  {
   "cell_type": "code",
   "execution_count": 5,
   "id": "e63b587c-e4e9-4440-993e-728961c9a722",
   "metadata": {},
   "outputs": [
    {
     "name": "stdout",
     "output_type": "stream",
     "text": [
      "\r\n",
      "CommandNotFoundError: Your shell has not been properly configured to use 'conda deactivate'.\r\n",
      "To initialize your shell, run\r\n",
      "\r\n",
      "    $ conda init <SHELL_NAME>\r\n",
      "\r\n",
      "Currently supported shells are:\r\n",
      "  - bash\r\n",
      "  - fish\r\n",
      "  - tcsh\r\n",
      "  - xonsh\r\n",
      "  - zsh\r\n",
      "  - powershell\r\n",
      "\r\n",
      "See 'conda init --help' for more information and options.\r\n",
      "\r\n",
      "IMPORTANT: You may need to close and restart your shell after running 'conda init'.\r\n",
      "\r\n",
      "\r\n"
     ]
    }
   ],
   "source": [
    "!conda deactivate"
   ]
  },
  {
   "cell_type": "code",
   "execution_count": 3,
   "id": "a93c6350-8ee5-4ab8-852b-8875d040221c",
   "metadata": {},
   "outputs": [
    {
     "name": "stdout",
     "output_type": "stream",
     "text": [
      "\r\n",
      "EnvironmentLocationNotFound: Not a conda environment: /home2/jupyter-jupyter/SingleCell_Samantha/scripts/{sys.prefix}\r\n",
      "\r\n"
     ]
    }
   ],
   "source": [
    "# install pakcages from notebook (not recommended) \n",
    "!conda install --yes --prefix {sys.prefix} scanpy"
   ]
  },
  {
   "cell_type": "code",
   "execution_count": 1,
   "id": "90715303-3a94-4b90-8419-2a4fe209d445",
   "metadata": {},
   "outputs": [
    {
     "name": "stdout",
     "output_type": "stream",
     "text": [
      "\r\n",
      "EnvironmentLocationNotFound: Not a conda environment: /home2/jupyter-jupyter/.conda/envs/singlecell\r\n",
      "\r\n"
     ]
    }
   ],
   "source": [
    "!conda list --name singlecell"
   ]
  },
  {
   "cell_type": "code",
   "execution_count": 19,
   "id": "1976b013-bcdf-4912-a491-9965a7eff023",
   "metadata": {},
   "outputs": [
    {
     "name": "stdout",
     "output_type": "stream",
     "text": [
      "/bin/bash: line 1: conda: command not found\n"
     ]
    }
   ],
   "source": [
    "!conda list"
   ]
  },
  {
   "cell_type": "code",
   "execution_count": 13,
   "id": "de99ac88-58fe-4ee6-858d-3305ef877606",
   "metadata": {},
   "outputs": [],
   "source": [
    "import scipy"
   ]
  },
  {
   "cell_type": "code",
   "execution_count": 14,
   "id": "9467cb59-115d-47e6-a6f6-725dde5771dd",
   "metadata": {},
   "outputs": [
    {
     "name": "stdout",
     "output_type": "stream",
     "text": [
      "/bin/bash: line 1: conda: command not found\n"
     ]
    }
   ],
   "source": [
    "# create a test environemnt if not done yet (maybe not neccessary)\n",
    "!conda create --name test2 -y\n"
   ]
  },
  {
   "cell_type": "code",
   "execution_count": 13,
   "id": "988dfb65-8b38-471e-be05-5ec4d967940a",
   "metadata": {
    "scrolled": true
   },
   "outputs": [
    {
     "name": "stdout",
     "output_type": "stream",
     "text": [
      "\r\n",
      "CommandNotFoundError: Your shell has not been properly configured to use 'conda activate'.\r\n",
      "To initialize your shell, run\r\n",
      "\r\n",
      "    $ conda init <SHELL_NAME>\r\n",
      "\r\n",
      "Currently supported shells are:\r\n",
      "  - bash\r\n",
      "  - fish\r\n",
      "  - tcsh\r\n",
      "  - xonsh\r\n",
      "  - zsh\r\n",
      "  - powershell\r\n",
      "\r\n",
      "See 'conda init --help' for more information and options.\r\n",
      "\r\n",
      "IMPORTANT: You may need to close and restart your shell after running 'conda init'.\r\n",
      "\r\n",
      "\r\n"
     ]
    }
   ],
   "source": [
    "!conda activate test \n"
   ]
  },
  {
   "cell_type": "code",
   "execution_count": 7,
   "id": "5f862f63-97cf-47c9-9de4-d7635a54867f",
   "metadata": {},
   "outputs": [
    {
     "name": "stdout",
     "output_type": "stream",
     "text": [
      "\r\n",
      "CommandNotFoundError: Your shell has not been properly configured to use 'conda deactivate'.\r\n",
      "To initialize your shell, run\r\n",
      "\r\n",
      "    $ conda init <SHELL_NAME>\r\n",
      "\r\n",
      "Currently supported shells are:\r\n",
      "  - bash\r\n",
      "  - fish\r\n",
      "  - tcsh\r\n",
      "  - xonsh\r\n",
      "  - zsh\r\n",
      "  - powershell\r\n",
      "\r\n",
      "See 'conda init --help' for more information and options.\r\n",
      "\r\n",
      "IMPORTANT: You may need to close and restart your shell after running 'conda init'.\r\n",
      "\r\n",
      "\r\n"
     ]
    }
   ],
   "source": [
    "!conda deactivate"
   ]
  },
  {
   "cell_type": "code",
   "execution_count": 15,
   "id": "6f493710-6ebc-438e-baf4-8771030224a2",
   "metadata": {},
   "outputs": [
    {
     "name": "stdout",
     "output_type": "stream",
     "text": [
      "/home2/lumpi/miniconda3/envs/scanpy-env/bin/python\n"
     ]
    }
   ],
   "source": [
    "## where is python executed?\n",
    "import sys\n",
    "\n",
    "print(sys.executable)"
   ]
  },
  {
   "cell_type": "code",
   "execution_count": 18,
   "id": "3b0d9fac-2e12-4866-aa96-0e1fee5da6cd",
   "metadata": {},
   "outputs": [
    {
     "name": "stdout",
     "output_type": "stream",
     "text": [
      "Current environment: scanpy-env\n"
     ]
    }
   ],
   "source": [
    "## what is my current system environment (weird)\n",
    "import os\n",
    "\n",
    "current_environment = os.path.basename(sys.prefix)\n",
    "print(\"Current environment:\", current_environment)"
   ]
  },
  {
   "cell_type": "code",
   "execution_count": 14,
   "id": "2473c68d-5069-4033-a4e0-8fde1fafc985",
   "metadata": {},
   "outputs": [
    {
     "ename": "FileNotFoundError",
     "evalue": "[Errno 2] No such file or directory: 'conda'",
     "output_type": "error",
     "traceback": [
      "\u001b[0;31m---------------------------------------------------------------------------\u001b[0m",
      "\u001b[0;31mFileNotFoundError\u001b[0m                         Traceback (most recent call last)",
      "Cell \u001b[0;32mIn[14], line 12\u001b[0m\n\u001b[1;32m      9\u001b[0m         \u001b[38;5;28;01mif\u001b[39;00m \u001b[38;5;124m'\u001b[39m\u001b[38;5;124m*\u001b[39m\u001b[38;5;124m'\u001b[39m \u001b[38;5;129;01min\u001b[39;00m line:\n\u001b[1;32m     10\u001b[0m             \u001b[38;5;28;01mreturn\u001b[39;00m line\u001b[38;5;241m.\u001b[39msplit()[\u001b[38;5;241m0\u001b[39m]\n\u001b[0;32m---> 12\u001b[0m current_environment \u001b[38;5;241m=\u001b[39m \u001b[43mget_current_environment_name\u001b[49m\u001b[43m(\u001b[49m\u001b[43m)\u001b[49m\n\u001b[1;32m     13\u001b[0m \u001b[38;5;28mprint\u001b[39m(\u001b[38;5;124m\"\u001b[39m\u001b[38;5;124mCurrent environment:\u001b[39m\u001b[38;5;124m\"\u001b[39m, current_environment)\n",
      "Cell \u001b[0;32mIn[14], line 6\u001b[0m, in \u001b[0;36mget_current_environment_name\u001b[0;34m()\u001b[0m\n\u001b[1;32m      4\u001b[0m \u001b[38;5;28;01mdef\u001b[39;00m \u001b[38;5;21mget_current_environment_name\u001b[39m():\n\u001b[1;32m      5\u001b[0m     conda_env_command \u001b[38;5;241m=\u001b[39m [\u001b[38;5;124m'\u001b[39m\u001b[38;5;124mconda\u001b[39m\u001b[38;5;124m'\u001b[39m, \u001b[38;5;124m'\u001b[39m\u001b[38;5;124minfo\u001b[39m\u001b[38;5;124m'\u001b[39m, \u001b[38;5;124m'\u001b[39m\u001b[38;5;124m--envs\u001b[39m\u001b[38;5;124m'\u001b[39m]\n\u001b[0;32m----> 6\u001b[0m     conda_env_out \u001b[38;5;241m=\u001b[39m \u001b[43msubprocess\u001b[49m\u001b[38;5;241;43m.\u001b[39;49m\u001b[43mcheck_output\u001b[49m\u001b[43m(\u001b[49m\u001b[43mconda_env_command\u001b[49m\u001b[43m,\u001b[49m\u001b[43m \u001b[49m\u001b[43muniversal_newlines\u001b[49m\u001b[38;5;241;43m=\u001b[39;49m\u001b[38;5;28;43;01mTrue\u001b[39;49;00m\u001b[43m)\u001b[49m\n\u001b[1;32m      8\u001b[0m     \u001b[38;5;28;01mfor\u001b[39;00m line \u001b[38;5;129;01min\u001b[39;00m conda_env_out\u001b[38;5;241m.\u001b[39mstrip()\u001b[38;5;241m.\u001b[39msplit(\u001b[38;5;124m'\u001b[39m\u001b[38;5;130;01m\\n\u001b[39;00m\u001b[38;5;124m'\u001b[39m):\n\u001b[1;32m      9\u001b[0m         \u001b[38;5;28;01mif\u001b[39;00m \u001b[38;5;124m'\u001b[39m\u001b[38;5;124m*\u001b[39m\u001b[38;5;124m'\u001b[39m \u001b[38;5;129;01min\u001b[39;00m line:\n",
      "File \u001b[0;32m~/miniconda3/envs/scanpy-env/lib/python3.9/subprocess.py:424\u001b[0m, in \u001b[0;36mcheck_output\u001b[0;34m(timeout, *popenargs, **kwargs)\u001b[0m\n\u001b[1;32m    421\u001b[0m         empty \u001b[38;5;241m=\u001b[39m \u001b[38;5;124mb\u001b[39m\u001b[38;5;124m'\u001b[39m\u001b[38;5;124m'\u001b[39m\n\u001b[1;32m    422\u001b[0m     kwargs[\u001b[38;5;124m'\u001b[39m\u001b[38;5;124minput\u001b[39m\u001b[38;5;124m'\u001b[39m] \u001b[38;5;241m=\u001b[39m empty\n\u001b[0;32m--> 424\u001b[0m \u001b[38;5;28;01mreturn\u001b[39;00m \u001b[43mrun\u001b[49m\u001b[43m(\u001b[49m\u001b[38;5;241;43m*\u001b[39;49m\u001b[43mpopenargs\u001b[49m\u001b[43m,\u001b[49m\u001b[43m \u001b[49m\u001b[43mstdout\u001b[49m\u001b[38;5;241;43m=\u001b[39;49m\u001b[43mPIPE\u001b[49m\u001b[43m,\u001b[49m\u001b[43m \u001b[49m\u001b[43mtimeout\u001b[49m\u001b[38;5;241;43m=\u001b[39;49m\u001b[43mtimeout\u001b[49m\u001b[43m,\u001b[49m\u001b[43m \u001b[49m\u001b[43mcheck\u001b[49m\u001b[38;5;241;43m=\u001b[39;49m\u001b[38;5;28;43;01mTrue\u001b[39;49;00m\u001b[43m,\u001b[49m\n\u001b[1;32m    425\u001b[0m \u001b[43m           \u001b[49m\u001b[38;5;241;43m*\u001b[39;49m\u001b[38;5;241;43m*\u001b[39;49m\u001b[43mkwargs\u001b[49m\u001b[43m)\u001b[49m\u001b[38;5;241m.\u001b[39mstdout\n",
      "File \u001b[0;32m~/miniconda3/envs/scanpy-env/lib/python3.9/subprocess.py:505\u001b[0m, in \u001b[0;36mrun\u001b[0;34m(input, capture_output, timeout, check, *popenargs, **kwargs)\u001b[0m\n\u001b[1;32m    502\u001b[0m     kwargs[\u001b[38;5;124m'\u001b[39m\u001b[38;5;124mstdout\u001b[39m\u001b[38;5;124m'\u001b[39m] \u001b[38;5;241m=\u001b[39m PIPE\n\u001b[1;32m    503\u001b[0m     kwargs[\u001b[38;5;124m'\u001b[39m\u001b[38;5;124mstderr\u001b[39m\u001b[38;5;124m'\u001b[39m] \u001b[38;5;241m=\u001b[39m PIPE\n\u001b[0;32m--> 505\u001b[0m \u001b[38;5;28;01mwith\u001b[39;00m \u001b[43mPopen\u001b[49m\u001b[43m(\u001b[49m\u001b[38;5;241;43m*\u001b[39;49m\u001b[43mpopenargs\u001b[49m\u001b[43m,\u001b[49m\u001b[43m \u001b[49m\u001b[38;5;241;43m*\u001b[39;49m\u001b[38;5;241;43m*\u001b[39;49m\u001b[43mkwargs\u001b[49m\u001b[43m)\u001b[49m \u001b[38;5;28;01mas\u001b[39;00m process:\n\u001b[1;32m    506\u001b[0m     \u001b[38;5;28;01mtry\u001b[39;00m:\n\u001b[1;32m    507\u001b[0m         stdout, stderr \u001b[38;5;241m=\u001b[39m process\u001b[38;5;241m.\u001b[39mcommunicate(\u001b[38;5;28minput\u001b[39m, timeout\u001b[38;5;241m=\u001b[39mtimeout)\n",
      "File \u001b[0;32m~/miniconda3/envs/scanpy-env/lib/python3.9/subprocess.py:951\u001b[0m, in \u001b[0;36mPopen.__init__\u001b[0;34m(self, args, bufsize, executable, stdin, stdout, stderr, preexec_fn, close_fds, shell, cwd, env, universal_newlines, startupinfo, creationflags, restore_signals, start_new_session, pass_fds, user, group, extra_groups, encoding, errors, text, umask)\u001b[0m\n\u001b[1;32m    947\u001b[0m         \u001b[38;5;28;01mif\u001b[39;00m \u001b[38;5;28mself\u001b[39m\u001b[38;5;241m.\u001b[39mtext_mode:\n\u001b[1;32m    948\u001b[0m             \u001b[38;5;28mself\u001b[39m\u001b[38;5;241m.\u001b[39mstderr \u001b[38;5;241m=\u001b[39m io\u001b[38;5;241m.\u001b[39mTextIOWrapper(\u001b[38;5;28mself\u001b[39m\u001b[38;5;241m.\u001b[39mstderr,\n\u001b[1;32m    949\u001b[0m                     encoding\u001b[38;5;241m=\u001b[39mencoding, errors\u001b[38;5;241m=\u001b[39merrors)\n\u001b[0;32m--> 951\u001b[0m     \u001b[38;5;28;43mself\u001b[39;49m\u001b[38;5;241;43m.\u001b[39;49m\u001b[43m_execute_child\u001b[49m\u001b[43m(\u001b[49m\u001b[43margs\u001b[49m\u001b[43m,\u001b[49m\u001b[43m \u001b[49m\u001b[43mexecutable\u001b[49m\u001b[43m,\u001b[49m\u001b[43m \u001b[49m\u001b[43mpreexec_fn\u001b[49m\u001b[43m,\u001b[49m\u001b[43m \u001b[49m\u001b[43mclose_fds\u001b[49m\u001b[43m,\u001b[49m\n\u001b[1;32m    952\u001b[0m \u001b[43m                        \u001b[49m\u001b[43mpass_fds\u001b[49m\u001b[43m,\u001b[49m\u001b[43m \u001b[49m\u001b[43mcwd\u001b[49m\u001b[43m,\u001b[49m\u001b[43m \u001b[49m\u001b[43menv\u001b[49m\u001b[43m,\u001b[49m\n\u001b[1;32m    953\u001b[0m \u001b[43m                        \u001b[49m\u001b[43mstartupinfo\u001b[49m\u001b[43m,\u001b[49m\u001b[43m \u001b[49m\u001b[43mcreationflags\u001b[49m\u001b[43m,\u001b[49m\u001b[43m \u001b[49m\u001b[43mshell\u001b[49m\u001b[43m,\u001b[49m\n\u001b[1;32m    954\u001b[0m \u001b[43m                        \u001b[49m\u001b[43mp2cread\u001b[49m\u001b[43m,\u001b[49m\u001b[43m \u001b[49m\u001b[43mp2cwrite\u001b[49m\u001b[43m,\u001b[49m\n\u001b[1;32m    955\u001b[0m \u001b[43m                        \u001b[49m\u001b[43mc2pread\u001b[49m\u001b[43m,\u001b[49m\u001b[43m \u001b[49m\u001b[43mc2pwrite\u001b[49m\u001b[43m,\u001b[49m\n\u001b[1;32m    956\u001b[0m \u001b[43m                        \u001b[49m\u001b[43merrread\u001b[49m\u001b[43m,\u001b[49m\u001b[43m \u001b[49m\u001b[43merrwrite\u001b[49m\u001b[43m,\u001b[49m\n\u001b[1;32m    957\u001b[0m \u001b[43m                        \u001b[49m\u001b[43mrestore_signals\u001b[49m\u001b[43m,\u001b[49m\n\u001b[1;32m    958\u001b[0m \u001b[43m                        \u001b[49m\u001b[43mgid\u001b[49m\u001b[43m,\u001b[49m\u001b[43m \u001b[49m\u001b[43mgids\u001b[49m\u001b[43m,\u001b[49m\u001b[43m \u001b[49m\u001b[43muid\u001b[49m\u001b[43m,\u001b[49m\u001b[43m \u001b[49m\u001b[43mumask\u001b[49m\u001b[43m,\u001b[49m\n\u001b[1;32m    959\u001b[0m \u001b[43m                        \u001b[49m\u001b[43mstart_new_session\u001b[49m\u001b[43m)\u001b[49m\n\u001b[1;32m    960\u001b[0m \u001b[38;5;28;01mexcept\u001b[39;00m:\n\u001b[1;32m    961\u001b[0m     \u001b[38;5;66;03m# Cleanup if the child failed starting.\u001b[39;00m\n\u001b[1;32m    962\u001b[0m     \u001b[38;5;28;01mfor\u001b[39;00m f \u001b[38;5;129;01min\u001b[39;00m \u001b[38;5;28mfilter\u001b[39m(\u001b[38;5;28;01mNone\u001b[39;00m, (\u001b[38;5;28mself\u001b[39m\u001b[38;5;241m.\u001b[39mstdin, \u001b[38;5;28mself\u001b[39m\u001b[38;5;241m.\u001b[39mstdout, \u001b[38;5;28mself\u001b[39m\u001b[38;5;241m.\u001b[39mstderr)):\n",
      "File \u001b[0;32m~/miniconda3/envs/scanpy-env/lib/python3.9/subprocess.py:1837\u001b[0m, in \u001b[0;36mPopen._execute_child\u001b[0;34m(self, args, executable, preexec_fn, close_fds, pass_fds, cwd, env, startupinfo, creationflags, shell, p2cread, p2cwrite, c2pread, c2pwrite, errread, errwrite, restore_signals, gid, gids, uid, umask, start_new_session)\u001b[0m\n\u001b[1;32m   1835\u001b[0m     \u001b[38;5;28;01mif\u001b[39;00m errno_num \u001b[38;5;241m!=\u001b[39m \u001b[38;5;241m0\u001b[39m:\n\u001b[1;32m   1836\u001b[0m         err_msg \u001b[38;5;241m=\u001b[39m os\u001b[38;5;241m.\u001b[39mstrerror(errno_num)\n\u001b[0;32m-> 1837\u001b[0m     \u001b[38;5;28;01mraise\u001b[39;00m child_exception_type(errno_num, err_msg, err_filename)\n\u001b[1;32m   1838\u001b[0m \u001b[38;5;28;01mraise\u001b[39;00m child_exception_type(err_msg)\n",
      "\u001b[0;31mFileNotFoundError\u001b[0m: [Errno 2] No such file or directory: 'conda'"
     ]
    }
   ],
   "source": [
    "## what is my current conda environment (weird)\n",
    "import subprocess\n",
    "\n",
    "def get_current_environment_name():\n",
    "    conda_env_command = ['conda', 'info', '--envs']\n",
    "    conda_env_out = subprocess.check_output(conda_env_command, universal_newlines=True)\n",
    "    \n",
    "    for line in conda_env_out.strip().split('\\n'):\n",
    "        if '*' in line:\n",
    "            return line.split()[0]\n",
    "\n",
    "current_environment = get_current_environment_name()\n",
    "print(\"Current environment:\", current_environment)"
   ]
  }
 ],
 "metadata": {
  "kernelspec": {
   "display_name": "Shared Environment3",
   "language": "python",
   "name": "shared3"
  },
  "language_info": {
   "codemirror_mode": {
    "name": "ipython",
    "version": 3
   },
   "file_extension": ".py",
   "mimetype": "text/x-python",
   "name": "python",
   "nbconvert_exporter": "python",
   "pygments_lexer": "ipython3",
   "version": "3.9.17"
  }
 },
 "nbformat": 4,
 "nbformat_minor": 5
}
